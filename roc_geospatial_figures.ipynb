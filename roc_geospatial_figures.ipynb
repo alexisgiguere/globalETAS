{
 "cells": [
  {
   "cell_type": "code",
   "execution_count": null,
   "metadata": {
    "collapsed": false
   },
   "outputs": [],
   "source": [
    "%load_ext autoreload\n",
    "%autoreload 2\n",
    "%matplotlib inline"
   ]
  },
  {
   "cell_type": "code",
   "execution_count": null,
   "metadata": {
    "collapsed": false
   },
   "outputs": [],
   "source": [
    "import nepal_figs\n",
    "import etas_analyzer"
   ]
  },
  {
   "cell_type": "code",
   "execution_count": null,
   "metadata": {
    "collapsed": false
   },
   "outputs": [],
   "source": [
    "#aa=nepal_figs.toy_gs_roc()\n"
   ]
  },
  {
   "cell_type": "markdown",
   "metadata": {},
   "source": [
    "### Fixing and revising analyze_etas_roc_geospatial() function...\n",
    "( from etas_analyzer.py)"
   ]
  },
  {
   "cell_type": "code",
   "execution_count": null,
   "metadata": {
    "collapsed": true
   },
   "outputs": [],
   "source": [
    "diagnostic=True\n",
    "etas_fc=None\n",
    "etas_test=None\n",
    "do_log=True\n",
    "#do_log=False"
   ]
  },
  {
   "cell_type": "code",
   "execution_count": null,
   "metadata": {
    "collapsed": false
   },
   "outputs": [],
   "source": [
    "#etas_test.make_etas()"
   ]
  },
  {
   "cell_type": "code",
   "execution_count": null,
   "metadata": {
    "collapsed": true
   },
   "outputs": [],
   "source": [
    "#def analyze_etas_roc_geospatial(etas_fc=None, etas_test=None, do_log=True, diagnostic=False):\n",
    "from etas_analyzer import *\n",
    "if True:\n",
    "\t\n",
    "\t# do_log should pretty much always be True.\n",
    "\t# this script draws a bunch of geospatial ROC figures. we'll use this script to draw a quad-figure with\n",
    "\t# z_fc, z_test, hits, falsies.\n",
    "\t#\n",
    "\tif etas_fc   == None: etas_fc   = get_nepal_etas_fc(n_procs=2*mpp.cpu_count())\n",
    "\tif etas_test == None: etas_test = get_nepal_etas_test(n_procs=2*mpp.cpu_count())\n",
    "\t#"
   ]
  },
  {
   "cell_type": "code",
   "execution_count": null,
   "metadata": {
    "collapsed": false
   },
   "outputs": [],
   "source": [
    "# splitting this script, just for development and maintenance purposes.\n",
    "if True:\n",
    "\tf_quad = plt.figure(42, figsize=(12,12))\n",
    "\tplt.clf()\n",
    "\tax0 = f_quad.add_axes([.05, .05, .4, .4])\n",
    "\tax1 = f_quad.add_axes([.05, .55, .4, .4], sharex=ax0, sharey=ax0)\n",
    "\tax2 = f_quad.add_axes([.55, .05, .4, .4], sharex=ax0, sharey=ax0)\n",
    "\tax3 = f_quad.add_axes([.55, .55, .4, .4], sharex=ax0, sharey=ax0)\t\t\n",
    "\t#\n",
    "\t# what we really want to do here is to calc_etas() (or whatever we call it). we do a full on _contour_map() so we can look at it.\n",
    "\t# in the end, to do the gs_roc, we just need the ETAS xyz array.\n",
    "\tetas_fc.make_etas_contour_map(fignum=0)\n",
    "\tetas_test.make_etas()\n",
    "\tetas_test.make_etas_contour_map(fignum=1)\n",
    "\t#\n",
    "\tlon_vals = sorted(list(set(etas_fc.ETAS_array['x'])))\n",
    "\tlat_vals = sorted(list(set(etas_fc.ETAS_array['y'])))\n",
    "\t#\n",
    "\t# we need normalization here...\n",
    "\t# ... and we need to think a bit more about what we mean by normalize. here, we just shift the values to be equal. do\n",
    "\t# we also want to normailze their range?\n",
    "\tz_fc_norm = etas_fc.ETAS_array['z'].copy()\n",
    "\tz_test_norm = etas_test.ETAS_array['z'].copy()\n",
    "\t#\n",
    "\tif do_log:\n",
    "\t\tz_fc_norm   = numpy.log10(z_fc_norm)\n",
    "\t\tz_test_norm = numpy.log10(z_test_norm)\n",
    "\t#\n",
    "\t#Normalize: first, subtract bias (shift to zero), then normalize total contribution --> 1.0\n",
    "\tz_fc_norm -= min(z_fc_norm)\n",
    "\tz_test_norm -= min(z_test_norm)\n",
    "\t#\n",
    "\t#norm_fc   = sum(z_fc_norm)\n",
    "\t#norm_test = sum(z_test_norm)\n",
    "\t#\n",
    "\t#z_fc_norm /= norm_fc\n",
    "\t#z_test_norm /= norm_test\n",
    "\tz_fc_norm /= sum(z_fc_norm)\n",
    "\tz_test_norm /= sum(z_test_norm)\n",
    "\t#\n",
    "\tz1 = z_fc_norm\n",
    "\tz2 = z_test_norm\n",
    "\t#\n",
    "\t#\n",
    "\t# [z1, z2, diff, h, m, f(predicted, didn't happen)\n",
    "\t#diffs = [[z1, z2, z1-z2, max(z1, z2), -min(z1-z2,0.), max(z1-z2,0.)] for z1,z2 in zip(z_fc_norm, z_test_norm)] \n",
    "\t# hits: accurately predicted; min(z1,z2)\n",
    "\t# misses: prediction deficite, or excess events: min(z2-z1,0.)\n",
    "\t# falsie: excess prediction: min(z1-z2,0.)\n",
    "\t# then rates: H = hits/sum(z2), F =falsies/sum(z1)\n",
    "\t#diffs = [[z1, z2, z1-z2, min(z1, z2), max(z2-z1,0.), max(z1-z2, 0.)] for z1,z2 in zip(z_fc_norm, z_test_norm)]\n",
    "\t#\n",
    "\t# so we can test this properly, we'll want to move diffs offline to a function call (eventually)...\n",
    "\t\n",
    "\t#diffs = [[z1, z2, z1-z2, min(z1, z2), max(z2-z1,0.), max(z1-z2, 0.)] for z1,z2 in zip(z1, z2)]\n",
    "\tdiffs = get_gs_diffs(z1,z2)\n",
    "\tdiffs_lbls = ['z_fc', 'z_test', 'z1-z2', 'hits: min(z1,z2)','misses:min(z2-z1,0)', 'falsie: min(z1-z2,0)']\n",
    "\tdiffs_lbl_basic = ['z_fc', 'z_test', 'z1-z2', 'hits','misses', 'falsie']\n",
    "\t#\n",
    "\n",
    "\t# to plot contours, we'll want to use the shape from: etas.lattice_sites.shape\n",
    "\t#\n",
    "\tsh1 = etas_fc.lattice_sites.shape\n",
    "\tsh2 = etas_test.lattice_sites.shape\n",
    "\t#\n",
    "\tprint('shapes: ', sh1, sh2)\n",
    "\t#\n",
    "\tzs_diff, h, m, f = list(zip(*diffs))[2:]\n",
    "\t#\n",
    "\t# and ROC bits:\n",
    "\t# (i think really Molchan bits, aka, n_predicted/n_sites_covered); roc is a bit more subtle, but\n",
    "\t# they are approximately equal for large catalogs.\n",
    "\t# ... and this seems to be left over from something in the past; we don't use them.    \n",
    "\t#H = sum(h)/sum(z2)\n",
    "\t#F = sum(f)/sum(z1)\n",
    "\t#\n",
    "\t#for z in [zs_diff, h, m, f]:\n",
    "\t# plot the varous roc_gs contous (z1, z2, z2-z2, hits, etc.)\n",
    "\tfor j,z in enumerate(list(zip(*diffs))):\n",
    "\t\tplt.figure(j+2)\n",
    "\t\tplt.clf()\n",
    "\t\t#\n",
    "\t\tzz=numpy.array(z)\n",
    "\t\tzz.shape=sh1\n",
    "\t\t#plt.contourf(list(set(etas_fc.ETAS_array['x'])), list(set(etas_fc.ETAS_array['y'])), zz, 25)\n",
    "\t\t#plt.contourf(numpy.log10(zz), 25)\n",
    "\t\tplt.contourf(lon_vals, lat_vals, zz, 25)\n",
    "\t\tplt.title(diffs_lbls[j])\n",
    "\t\tplt.colorbar()\n",
    "\t\t#\n",
    "\t\t# ... and make our quad-plot too:\n",
    "\t\tif j==0:\n",
    "\t\t\tax1.contourf(lon_vals, lat_vals, zz, 25)\n",
    "\t\t\tax1.set_title('Forecast ETAS')\n",
    "\t\t\t#ax1.colorbar()\n",
    "\t\tif j==1:\n",
    "\t\t\tax3.contourf(lon_vals, lat_vals, zz, 25)\n",
    "\t\t\tax3.set_title('Test ETAS')\n",
    "\t\t\t#ax3.colorbar()\n",
    "\t\tif j==3:\n",
    "\t\t\tax0.contourf(lon_vals, lat_vals, zz, 25)\n",
    "\t\t\tax0.set_title('Hit Rate')\n",
    "\t\t\t#ax0.colorbar()\n",
    "\t\tif j==5:\n",
    "\t\t\tax2.contourf(lon_vals, lat_vals, zz, 25)\n",
    "\t\t\tax2.set_title('False Alarm Rate')\n",
    "\t\t\t#ax2.colorbar()\n",
    "\t#\n",
    "\t#if diagnostic:\n",
    "\t#\tprint('***', diffs_lbls, type(diffs))\n",
    "\t#\t#return [diffs_lbls] + diffs\n",
    "\t#\treturn diffs\n",
    "\t#else:\n",
    "\t#\treturn F,H\n",
    "\t##return F,H\n",
    "\t#"
   ]
  },
  {
   "cell_type": "code",
   "execution_count": null,
   "metadata": {
    "collapsed": false
   },
   "outputs": [],
   "source": [
    "print(z_fc_norm[0:10], z1[0:10], z2[0:10])"
   ]
  },
  {
   "cell_type": "code",
   "execution_count": null,
   "metadata": {
    "collapsed": true
   },
   "outputs": [],
   "source": [
    "#bb=etas_analyzer.nepal_linear_roc()\n",
    "diffs = etas_analyzer.analyze_etas_roc_geospatial(etas_fc=None, etas_test=None, do_log=True, diagnostic=True)"
   ]
  },
  {
   "cell_type": "code",
   "execution_count": null,
   "metadata": {
    "collapsed": false,
    "scrolled": true
   },
   "outputs": [],
   "source": [
    "AA=etas_analyzer.roc_gs_linear_figs(diffs)"
   ]
  },
  {
   "cell_type": "code",
   "execution_count": null,
   "metadata": {
    "collapsed": false,
    "scrolled": true
   },
   "outputs": [],
   "source": [
    "j0=8000\n",
    "#j1=len(diffs)\n",
    "j1=9000\n",
    "#\n",
    "H = [min(z_fc, z_t) for z_fc, z_t in zip(mydiffs['z_fc'], mydiffs['z_test'])]\n",
    "mydiffs = diffs[j0:j1]\n",
    "fg=plt.figure(figsize=(10,8))\n",
    "plt.plot(mydiffs['z_fc'], label='forecast', color='b', lw=2.5)\n",
    "plt.plot(mydiffs['z_test'], label='test', color='g', lw=2.5)\n",
    "# hit rate:\n",
    "plt.fill_between(range(len(mydiffs)), y1=numpy.zeros(len(mydiffs)), y2=mydiffs['hits'], color='c', alpha=.5,\n",
    "                 label='hits')\n",
    "#\n",
    "# false alarm rate\n",
    "plt.fill_between(range(len(mydiffs)), y1=mydiffs['z_test'], \n",
    "                 y2=[max(zfc, zt) for zfc,zt in zip(mydiffs['z_fc'], mydiffs['z_test'])], color='m',\n",
    "                 alpha=.5, label='false-alarms')\n",
    "#\n",
    "# misses:\n",
    "plt.fill_between(range(len(mydiffs)), y1=[min(zfc, zt) for zfc,zt in zip(mydiffs['z_fc'], mydiffs['z_test'])],\n",
    "                 y2=mydiffs['z_test'], color='r', alpha=.5, label='misses')\n",
    "\n",
    "#get the {somthing}% for a maximum y value:\n",
    "y_max = sorted(mydiffs['z_fc'].tolist() + mydiffs['z_test'].tolist())[int(2*len(mydiffs)*.996)]\n",
    "plt.gca().set_ylim(0.,y_max)\n",
    "\n",
    "\n",
    "plt.legend(loc=0)"
   ]
  },
  {
   "cell_type": "code",
   "execution_count": null,
   "metadata": {
    "collapsed": false
   },
   "outputs": [],
   "source": [
    "fg.savefig('/home/myoder/Dropbox/Research/globalETAS/nepal_etas/data_n_figs/linear_geospatial_roc_sample_figure.png')\n",
    "f_quad.savefig('/home/myoder/Dropbox/Research/globalETAS/nepal_etas/data_n_figs/geospatial_roc_nepal_quad.png')\n"
   ]
  },
  {
   "cell_type": "code",
   "execution_count": null,
   "metadata": {
    "collapsed": false
   },
   "outputs": [],
   "source": [
    "print(mydiffs.dtype.names)\n",
    "plt.figure(figsize=(10,8))\n",
    "plt.plot(mydiffs['hits'])\n",
    "plt.plot(mydiffs['falsie'])\n",
    "\n",
    "fg_roc = plt.figure(figsize=(10,8))\n",
    "ax=fg_roc.gca()\n",
    "H = diffs['hits']/max(diffs['hits'])\n",
    "F = diffs['falsie']/max(diffs['falsie'])\n",
    "ax.plot(F,H, marker='.', ls='')\n",
    "#\n",
    "# H=F diagonal (but allow for non-normalized and use a bunch of points in case we log-scale.)\n",
    "ax.plot(numpy.linspace(0,max(list(F) + list(H)), 250), \n",
    "         numpy.linspace(0,max(list(F) + list(H)), 250), lw=2., color='r', ls='--')\n",
    "h_f = [h-f for h,f in zip(H,F)]\n",
    "\n",
    "h_f_m = numpy.mean(h_f)\n",
    "std_h = numpy.std(h_f)\n",
    "#std_h_gt = numpy.std([x for x in h_f if x>0])\n",
    "#std_h_lt = numpy.std([x for x in h_f if x<=0])\n",
    "\n",
    "#ax=plt.gca()\n",
    "ax.set_xlabel('False Alarm Rate $F$', size=18)\n",
    "ax.set_ylabel('Hit Rate $H$', size=18)\n",
    "\n",
    "ax.plot(numpy.linspace(0,max(list(F) + list(H)), 250), \n",
    "         numpy.linspace(0,max(list(F) + list(H)), 250)+h_f_m, lw=2., color='r', ls='-.')\n",
    "\n",
    "ax.fill_between(numpy.linspace(0,max(list(F) + list(H)), 250), \n",
    "         numpy.linspace(0,max(list(F) + list(H)), 250)+h_f_m-std_h, \n",
    "         numpy.linspace(0,max(list(F) + list(H)), 250)+h_f_m+std_h, color='r', alpha=.2)\n",
    "\n",
    "print('mean h-f: ', h_f_m, ' +/ ', std_h, std_h_gt, std_h_lt)\n",
    "print('prob <0: ', len([x for x in h_f if x<=0])/len([x for x in h_f if x>0]))\n",
    "\n",
    "fg_hf_dist = plt.figure()\n",
    "plt.plot(sorted(h_f), numpy.arange(1,len(h_f)+1)/len(h_f), '-', lw=2.)\n",
    "plt.gca().set_xlabel('Skill score, $h-f$', size=18)\n",
    "plt.gca().set_ylabel('Probability $P(<[h-f])$', size=16)"
   ]
  },
  {
   "cell_type": "code",
   "execution_count": null,
   "metadata": {
    "collapsed": true
   },
   "outputs": [],
   "source": [
    "fg_roc.savefig('/home/myoder/Dropbox/Research/globalETAS/nepal_etas/data_n_figs/roc_geospatial_elements_nepal.png')"
   ]
  },
  {
   "cell_type": "code",
   "execution_count": null,
   "metadata": {
    "collapsed": true
   },
   "outputs": [],
   "source": []
  }
 ],
 "metadata": {
  "kernelspec": {
   "display_name": "Python 3",
   "language": "python",
   "name": "python3"
  },
  "language_info": {
   "codemirror_mode": {
    "name": "ipython",
    "version": 3
   },
   "file_extension": ".py",
   "mimetype": "text/x-python",
   "name": "python",
   "nbconvert_exporter": "python",
   "pygments_lexer": "ipython3",
   "version": "3.5.1"
  }
 },
 "nbformat": 4,
 "nbformat_minor": 0
}
