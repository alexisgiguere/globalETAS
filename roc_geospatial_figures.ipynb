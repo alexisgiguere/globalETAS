{
 "cells": [
  {
   "cell_type": "code",
   "execution_count": null,
   "metadata": {
    "collapsed": true
   },
   "outputs": [],
   "source": [
    "%load_ext autoreload\n",
    "%autoreload 2\n",
    "%matplotlib inline"
   ]
  },
  {
   "cell_type": "code",
   "execution_count": null,
   "metadata": {
    "collapsed": false
   },
   "outputs": [],
   "source": [
    "import nepal_figs\n",
    "import etas_analyzer"
   ]
  },
  {
   "cell_type": "code",
   "execution_count": null,
   "metadata": {
    "collapsed": false
   },
   "outputs": [],
   "source": [
    "#aa=nepal_figs.toy_gs_roc()\n"
   ]
  },
  {
   "cell_type": "markdown",
   "metadata": {},
   "source": [
    "### Fixing and revising analyze_etas_roc_geospatial() function...\n",
    "( from etas_analyzer.py)"
   ]
  },
  {
   "cell_type": "code",
   "execution_count": 22,
   "metadata": {
    "collapsed": true
   },
   "outputs": [],
   "source": [
    "diagnostic=True\n",
    "etas_fc=None\n",
    "etas_test=None\n",
    "do_log=True\n",
    "do_log=False"
   ]
  },
  {
   "cell_type": "code",
   "execution_count": null,
   "metadata": {
    "collapsed": false
   },
   "outputs": [
    {
     "name": "stdout",
     "output_type": "stream",
     "text": [
      "begin globalETAS.__init()__\n",
      "Overriding t0 for ETAS calculations. using catalog start, t0 = t_now - catlen (1825.000000) = 2010-05-08 00:00:00+00:00\n",
      "fetch and process catalog.\n",
      "etas_prams:  {'q': 1.5, 'lons': [79.698, 89.698], 'fit_factor': 1.5, 'date_range': [datetime.datetime(1990, 1, 1, 0, 0, tzinfo=<UTC>), datetime.datetime(2015, 5, 7, 0, 0, tzinfo=<UTC>)], 'd_lambda': 1.76, 'D_fract': 1.5, 'lats': [23.175, 33.175], 'do_recarray': True, 'dmstar': 1.0, 'd_tau': 2.28, 'p': 1.1, 'b1': 1.0, 'incat': None, 'b2': 1.5, 'mc': 3.5}\n",
      "data handle fetched...\n",
      " no file.\n",
      "R:  <multiprocessing.pool.ApplyResult object at 0x7f88e8080358>\n"
     ]
    },
    {
     "name": "stderr",
     "output_type": "stream",
     "text": [
      "/home/myoder/Documents/Research/yoder/globalETAS/globalETAS.py:1696: RuntimeWarning: divide by zero encountered in true_divide\n",
      "  cov = numpy.dot(numpy.array(list(zip(*cat_prime))),numpy.array(cat_prime))/n_dof\n"
     ]
    },
    {
     "name": "stdout",
     "output_type": "stream",
     "text": [
      "results fetched.\n",
      "catalog fetched and processed.\n",
      "ETAS over etas_cat_range/xyz_range:  ([0, 1240], None)\n",
      "make_etas():\n",
      "etas_mpp worker xyz_range:  [0, 10000]\n",
      "begin globalETAS.__init()__\n",
      "Overriding t0 for ETAS calculations. using catalog start, t0 = t_now - catlen (1825.000000) = 2010-05-08 00:00:00+00:00\n",
      "ETAS over etas_cat_range/xyz_range:  ([0, 1240], [0, 10000])\n",
      "begin make_etas_rtree()\n",
      "now gather sub-arrays...\n",
      "len(local_lattice_dict):  10000\n"
     ]
    }
   ],
   "source": [
    "#def analyze_etas_roc_geospatial(etas_fc=None, etas_test=None, do_log=True, diagnostic=False):\n",
    "from etas_analyzer import *\n",
    "if True:\n",
    "\t\n",
    "\t# do_log should pretty much always be True.\n",
    "\t# this script draws a bunch of geospatial ROC figures. we'll use this script to draw a quad-figure with\n",
    "\t# z_fc, z_test, hits, falsies.\n",
    "\t#\n",
    "\tif etas_fc   == None: etas_fc   = get_nepal_etas_fc(n_procs=2*mpp.cpu_count())\n",
    "\tif etas_test == None: etas_test = get_nepal_etas_test(n_procs=2*mpp.cpu_count())\n",
    "\t#\n",
    "\tf_quad = plt.figure(42)\n",
    "\tplt.clf()\n",
    "\tax0 = f_quad.add_axes([.05, .05, .4, .4])\n",
    "\tax1 = f_quad.add_axes([.05, .55, .4, .4], sharex=ax0, sharey=ax0)\n",
    "\tax2 = f_quad.add_axes([.55, .05, .4, .4], sharex=ax0, sharey=ax0)\n",
    "\tax3 = f_quad.add_axes([.55, .55, .4, .4], sharex=ax0, sharey=ax0)\t\t\n",
    "\t#\n",
    "\t# what we really want to do here is to calc_etas() (or whatever we call it). we do a full on _contour_map() so we can look at it.\n",
    "\t# in the end, to do the gs_roc, we just need the ETAS xyz array.\n",
    "\tetas_fc.make_etas_contour_map(fignum=0)\n",
    "\tetas_test.make_etas_contour_map(fignum=1)\n",
    "\t#\n",
    "\tlon_vals = sorted(list(set(etas_fc.ETAS_array['x'])))\n",
    "\tlat_vals = sorted(list(set(etas_fc.ETAS_array['y'])))\n",
    "\t#\n",
    "\t# we need normalization here...\n",
    "\t# ... and we need to think a bit more about what we mean by normalize. here, we just shift the values to be equal. do\n",
    "\t# we also want to normailze their range?\n",
    "\tz_fc_norm = etas_fc.ETAS_array['z'].copy()\n",
    "\tz_test_norm = etas_test.ETAS_array['z'].copy()\n",
    "\t#\n",
    "\tif do_log:\n",
    "\t\tz_fc_norm   = numpy.log10(z_fc_norm)\n",
    "\t\tz_test_norm = numpy.log10(z_test_norm)\n",
    "\t#\n",
    "\tz_fc_norm -= min(z_fc_norm)\n",
    "\tz_test_norm -= min(z_test_norm)\n",
    "\t#\n",
    "\tnorm_fc   = sum(z_fc_norm)\n",
    "\tnorm_test = sum(z_test_norm)\n",
    "\t#\n",
    "\tz_fc_norm /= norm_fc\n",
    "\tz_test_norm /= norm_test\n",
    "\t#\n",
    "\tz1 = z_fc_norm\n",
    "\tz2 = z_test_norm\n",
    "\t#\n",
    "\t#\n",
    "\t# [z1, z2, diff, h, m, f(predicted, didn't happen)\n",
    "\t#diffs = [[z1, z2, z1-z2, max(z1, z2), -min(z1-z2,0.), max(z1-z2,0.)] for z1,z2 in zip(z_fc_norm, z_test_norm)] \n",
    "\t# hits: accurately predicted; min(z1,z2)\n",
    "\t# misses: prediction deficite, or excess events: min(z2-z1,0.)\n",
    "\t# falsie: excess prediction: min(z1-z2,0.)\n",
    "\t# then rates: H = hits/sum(z2), F =falsies/sum(z1)\n",
    "\t#diffs = [[z1, z2, z1-z2, min(z1, z2), max(z2-z1,0.), max(z1-z2, 0.)] for z1,z2 in zip(z_fc_norm, z_test_norm)]\n",
    "\t#\n",
    "\t# so we can test this properly, we'll want to move diffs offline to a function call (eventually)...\n",
    "\t\n",
    "\t#diffs = [[z1, z2, z1-z2, min(z1, z2), max(z2-z1,0.), max(z1-z2, 0.)] for z1,z2 in zip(z1, z2)]\n",
    "\tdiffs = get_gs_diffs(z1,z2)\n",
    "\tdiffs_lbls = ['z_fc', 'z_test', 'z1-z2', 'hits: min(z1,z2)','misses:min(z2-z1,0)', 'falsie: min(z1-z2,0)']\n",
    "\tdiffs_lbl_basic = ['z_fc', 'z_test', 'z1-z2', 'hits','misses', 'falsie']\n",
    "\t#\n",
    "\n",
    "\t# to plot contours, we'll want to use the shape from: etas.lattice_sites.shape\n",
    "\t#\n",
    "\tsh1 = etas_fc.lattice_sites.shape\n",
    "\tsh2 = etas_test.lattice_sites.shape\n",
    "\t#\n",
    "\tprint('shapes: ', sh1, sh2)\n",
    "\t#\n",
    "\tzs_diff, h, m, f = list(zip(*diffs))[2:]\n",
    "\t#\n",
    "\t# and ROC bits:\n",
    "\tH = sum(h)/sum(z2)\n",
    "\tF = sum(f)/sum(z1)\n",
    "\t#\n",
    "\t#for z in [zs_diff, h, m, f]:\n",
    "\t# plot the varous roc_gs contous (z1, z2, z2-z2, hits, etc.)\n",
    "\tfor j,z in enumerate(list(zip(*diffs))):\n",
    "\t\tplt.figure(j+2)\n",
    "\t\tplt.clf()\n",
    "\t\t#\n",
    "\t\tzz=numpy.array(z)\n",
    "\t\tzz.shape=sh1\n",
    "\t\t#plt.contourf(list(set(etas_fc.ETAS_array['x'])), list(set(etas_fc.ETAS_array['y'])), zz, 25)\n",
    "\t\t#plt.contourf(numpy.log10(zz), 25)\n",
    "\t\tplt.contourf(lon_vals, lat_vals, zz, 25)\n",
    "\t\tplt.title(diffs_lbls[j])\n",
    "\t\tplt.colorbar()\n",
    "\t\t#\n",
    "\t\t# ... and make our quad-plot too:\n",
    "\t\tif j==0:\n",
    "\t\t\tax1.contourf(lon_vals, lat_vals, zz, 25)\n",
    "\t\t\tax1.set_title('Forecast ETAS')\n",
    "\t\t\t#ax1.colorbar()\n",
    "\t\tif j==1:\n",
    "\t\t\tax3.contourf(lon_vals, lat_vals, zz, 25)\n",
    "\t\t\tax3.set_title('Test ETAS')\n",
    "\t\t\t#ax3.colorbar()\n",
    "\t\tif j==3:\n",
    "\t\t\tax0.contourf(lon_vals, lat_vals, zz, 25)\n",
    "\t\t\tax0.set_title('Hit Rate')\n",
    "\t\t\t#ax0.colorbar()\n",
    "\t\tif j==5:\n",
    "\t\t\tax2.contourf(lon_vals, lat_vals, zz, 25)\n",
    "\t\t\tax2.set_title('False Alarm Rate')\n",
    "\t\t\t#ax2.colorbar()\n",
    "\t#\n",
    "\t#if diagnostic:\n",
    "\t#\tprint('***', diffs_lbls, type(diffs))\n",
    "\t#\t#return [diffs_lbls] + diffs\n",
    "\t#\treturn diffs\n",
    "\t#else:\n",
    "\t#\treturn F,H\n",
    "\t##return F,H\n",
    "\t#"
   ]
  },
  {
   "cell_type": "code",
   "execution_count": 21,
   "metadata": {
    "collapsed": false
   },
   "outputs": [
    {
     "name": "stdout",
     "output_type": "stream",
     "text": [
      "[  5.69164651e-06   6.12672100e-06   6.55980164e-06   6.99679563e-06\n",
      "   7.45773307e-06   8.01452847e-06   8.68298385e-06   8.85017635e-06\n",
      "   9.08340137e-06   9.41799554e-06] [  5.69164651e-06   6.12672100e-06   6.55980164e-06   6.99679563e-06\n",
      "   7.45773307e-06   8.01452847e-06   8.68298385e-06   8.85017635e-06\n",
      "   9.08340137e-06   9.41799554e-06] [ nan  nan  nan  nan  nan  nan  nan  nan  nan  nan]\n"
     ]
    }
   ],
   "source": [
    "print(z_fc_norm[0:10], z1[0:10], z2[0:10])"
   ]
  },
  {
   "cell_type": "code",
   "execution_count": null,
   "metadata": {
    "collapsed": false
   },
   "outputs": [],
   "source": [
    "#bb=etas_analyzer.nepal_linear_roc()\n",
    "diffs = etas_analyzer.analyze_etas_roc_geospatial(etas_fc=None, etas_test=None, do_log=True, diagnostic=True)\n",
    "\n",
    "AA=etas_analyzer.roc_gs_linear_figs(diffs)"
   ]
  },
  {
   "cell_type": "code",
   "execution_count": null,
   "metadata": {
    "collapsed": false
   },
   "outputs": [],
   "source": [
    "print(diffs[0:10])"
   ]
  },
  {
   "cell_type": "code",
   "execution_count": null,
   "metadata": {
    "collapsed": true
   },
   "outputs": [],
   "source": []
  }
 ],
 "metadata": {
  "kernelspec": {
   "display_name": "Python 3",
   "language": "python",
   "name": "python3"
  },
  "language_info": {
   "codemirror_mode": {
    "name": "ipython",
    "version": 3
   },
   "file_extension": ".py",
   "mimetype": "text/x-python",
   "name": "python",
   "nbconvert_exporter": "python",
   "pygments_lexer": "ipython3",
   "version": "3.5.1"
  }
 },
 "nbformat": 4,
 "nbformat_minor": 0
}
