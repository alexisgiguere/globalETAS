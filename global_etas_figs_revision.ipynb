{
 "cells": [
  {
   "cell_type": "markdown",
   "metadata": {},
   "source": [
    "A notebook to handle figures for the (revisions of) the yoder et al. 2016 Global/Nepal ETAS paper."
   ]
  },
  {
   "cell_type": "code",
   "execution_count": 9,
   "metadata": {
    "collapsed": false,
    "scrolled": true
   },
   "outputs": [
    {
     "name": "stdout",
     "output_type": "stream",
     "text": [
      "The autoreload extension is already loaded. To reload it, use:\n",
      "  %reload_ext autoreload\n"
     ]
    }
   ],
   "source": [
    "#\n",
    "%load_ext autoreload\n",
    "%autoreload 2\n",
    "%matplotlib inline\n",
    "\n",
    "import datetime as dtm\n",
    "import matplotlib.dates as mpd\n",
    "import pytz\n",
    "tzutc = pytz.timezone('UTC')\n",
    "\n",
    "#import operator\n",
    "import math\n",
    "import random\n",
    "import numpy\n",
    "import scipy\n",
    "import scipy.optimize as spo\n",
    "import itertools\n",
    "import sys\n",
    "#import scipy.optimize as spo\n",
    "import os\n",
    "import operator\n",
    "#from PIL import Image as ipp\n",
    "import multiprocessing as mpp\n",
    "#\n",
    "import matplotlib\n",
    "import matplotlib.pyplot as plt\n",
    "import matplotlib as mpl\n",
    "from mpl_toolkits.mplot3d import Axes3D\n",
    "import json\n",
    "#\n",
    "#import shapely.geometry as sgp\n",
    "#\n",
    "from mpl_toolkits.basemap import Basemap as Basemap\n",
    "from matplotlib.backends.backend_agg import FigureCanvasAgg as FigureCanvas\n",
    "from geographiclib.geodesic import Geodesic as ggp\n",
    "#\n",
    "#import ANSStools as atp\n",
    "from yodiipy import ANSStools as atp\n",
    "#\n",
    "import contours2kml\n",
    "import globalETAS as gep\n",
    "from eq_params import *\n",
    "#\n",
    "from nepal_figs import *\n",
    "import optimizers\n",
    "#\n",
    "import random\n",
    "import geopy\n",
    "#\n",
    "#colors_ =  mpl.rcParams['axes.color_cycle']\n",
    "colors_ = ['b', 'g', 'r', 'c', 'm', 'y', 'k']\t\t# make sure these are correct...\n",
    "#\n",
    "emc = {'lat':32.13, 'lon':-115.30, 'event_date':dtm.datetime(2010,4,4,22,40,41, tzinfo=pytz.timezone('UTC'))}\n",
    "nepal_epi_lon = 84.698\n",
    "nepal_epi_lat = 28.175\n",
    "nepal_tms = dtm.datetime(2015, 4, 26, 7, 5, 19 ,tzinfo=pytz.timezone('UTC'))\n",
    "\n",
    "#\n",
    "# set up dict objects for different earthquakes. maybe from eq_params.py ?\n",
    "param_keys = ['lat_center', 'lon_center', 'to_dt', 'mc', 'mc_auto', 'cat_len_plus']\n",
    "# what exactly do we use these for?\n",
    "nepal_params = {key:val for key,val in zip(param_keys, [nepal_epi_lat, nepal_epi_lon, \n",
    "                                                        nepal_tms,\n",
    "                                                        3.0, 4.5, 220])}\n",
    "emc_params =   {key:val for key,val in zip(param_keys, [emc['lat'], emc['lon'],\n",
    "                                                      emc['event_date'] + dtm.timedelta(days=5), 2.5, 5.5, 220])}"
   ]
  },
  {
   "cell_type": "markdown",
   "metadata": {},
   "source": [
    "### some random geopy bits:\n",
    "  - easy syntax for great-circle or vincenty (more precise, iterative model) geodetic distances\n",
    "  - forward and reverse geocoding\n",
    "  "
   ]
  },
  {
   "cell_type": "code",
   "execution_count": null,
   "metadata": {
    "collapsed": false
   },
   "outputs": [],
   "source": [
    "from geopy.distance import vincenty\n",
    "from geopy.distance import great_circle\n",
    "newport_ri = (41.49008, -71.312796)\n",
    "cleveland_oh = (41.499498, -81.695391)\n",
    "print(vincenty(newport_ri, cleveland_oh).miles)\n",
    "print(great_circle(newport_ri, cleveland_oh).miles)\n",
    "\n",
    "from geopy.geocoders import Nominatim\n",
    "geolocator = Nominatim()\n",
    "#location = geolocator.geocode(\"175 5th Avenue NYC\")\n",
    "location = geolocator.geocode(\"509 S Waiola Ave, La Grange IL\")\n",
    "print(location.address)\n",
    "print(location.point)"
   ]
  },
  {
   "cell_type": "markdown",
   "metadata": {},
   "source": [
    "### ETAS and ROC figures\n",
    "  - ETAS map\n",
    "    - include recent (shortly before forecast date) earthquakes\n",
    "  - ROC analysis\n",
    "  \n",
    "  Also include:\n",
    "    - ETAS forecast catalog $t<t_0$\n",
    "    - ETAS test catalog $t>t_0$\n",
    "    - ETAS data.xyz file\n",
    "    - Image(s)\n",
    "    - KML\n",
    "    - ROC table(s)\n",
    "  \n",
    "  For now, copy the make_Nepal_figs from nepal_figs.py. we'll move this to the original, or a new, module when we work out the bugs."
   ]
  },
  {
   "cell_type": "code",
   "execution_count": 2,
   "metadata": {
    "collapsed": true
   },
   "outputs": [],
   "source": [
    "#class nepal__ROC_script(object):\n",
    "#    def __init__(self, fignum=0, mcs = [4., 5., 6., 7.], n_cpu=None):\n",
    "fignum=0\n",
    "mcs = [4., 5., 6., 7.]\n",
    "n_cpu=None\n",
    "\n",
    "# full, one stop shopping script for nepal ROC analysis.\n",
    "#\n",
    "# first, get nepal ETAS objects:\n",
    "#etas_fc, etas_test = etas_analyzer.nepal_etas_roc()\n",
    "#\n",
    "revisions_data = 'data/revisions_outputs'\n",
    "if not os.path.isdir(revisions_data): os.makedirs(revisions_data)"
   ]
  },
  {
   "cell_type": "code",
   "execution_count": null,
   "metadata": {
    "collapsed": false,
    "scrolled": true
   },
   "outputs": [],
   "source": [
    "nepal_etas_fc = etas_analyzer.get_nepal_etas_fc(n_cpu=mpp.cpu_count())\n",
    "#plt.savefig(os.path.join(revisions_data, 'nepal_fc_etas_contours.png'))\n",
    "#\n",
    "# note, nepal_etas_test does not calc. etas, but we'll want etas do to the geospatial bit.\n",
    "nepal_etas_test = etas_analyzer.get_nepal_etas_test(n_cpu=mpp.cpu_count())\n",
    "nepal_etas_test.make_etas()\n",
    "#plt.savefig(os.path.join(revisions_data, 'nepal_test_etas_contours.png'))\n",
    "\n",
    "#\n",
    "# maybe we'll also load up one or more global forecasts as well?"
   ]
  },
  {
   "cell_type": "code",
   "execution_count": null,
   "metadata": {
    "collapsed": false,
    "scrolled": true
   },
   "outputs": [],
   "source": [
    "fg = plt.figure(1, figsize=(10,8))\n",
    "plt.clf()\n",
    "cm_fc = nepal_etas_fc.make_etas_contour_map(fignum=1, fig_size=(10,8))\n",
    "cm_fc.scatter(*zip(*[[rw['lon'], rw['lat']] for rw in nepal_etas_fc.catalog if rw['mag']>5.]), marker='.',latlon=True )\n",
    "# ... not the way to do this...\n",
    "#ax=plt.gca()\n",
    "#ax.set_xlim([83.,88.])\n",
    "#ax.set_ylim([27., 29.5])\n",
    "fg.savefig(os.path.join(revisions_data, 'nepal_fc_etas_contours.png'))"
   ]
  },
  {
   "cell_type": "code",
   "execution_count": null,
   "metadata": {
    "collapsed": false
   },
   "outputs": [],
   "source": [
    "fg=plt.figure(2, figsize=(10,8))\n",
    "plt.clf()\n",
    "cm_test = nepal_etas_test.make_etas_contour_map(fignum=2, fig_size=(10,8))\n",
    "fg.savefig(os.path.join(revisions_data, 'nepal_test_etas_contours.png'))"
   ]
  },
  {
   "cell_type": "code",
   "execution_count": null,
   "metadata": {
    "collapsed": false
   },
   "outputs": [],
   "source": [
    "print(min(nepal_etas_test.catalog['event_date']))\n",
    "print(max(nepal_etas_test.catalog['event_date']))"
   ]
  },
  {
   "cell_type": "code",
   "execution_count": null,
   "metadata": {
    "collapsed": false,
    "scrolled": false
   },
   "outputs": [],
   "source": [
    "etas_test = nepal_etas_test\n",
    "test_catalog = etas_test.catalog\n",
    "etas_fc = nepal_etas_fc\n",
    "#\n",
    "x0 = nepal_epi_lon\n",
    "y0 = nepal_epi_lat\n",
    "null_dist_expon = 1.5     # exponent for null model, aka aftershocks fall off like 1/r**null_dist_expon\n",
    "#\n",
    "mag=7.8\n",
    "L_r = .5*10**(.5*mag - 1.76)\n",
    "xyz = etas_fc.ETAS_array\n",
    "# make a null mode with z ~ 1/r. we'll probably need a contour figure of this.\n",
    "xyz_null = [[x,y,((L_r + great_circle((y,x), (y0,x0)).km)**(-null_dist_expon))] for x,y,z in xyz]\n",
    "xyz_null_1 = [[x,y,((L_r + great_circle((y,x), (y0,x0)).km)**(-1.))] for x,y,z in xyz]\n",
    "xyz_events = list(zip(test_catalog['lon'], test_catalog['lat'], test_catalog['mag']))\n",
    "#\n",
    "# now, replace all of this \"get x,y and ROC\" stuff with the optimizers.roc_tools equivalents.\n",
    "#roc_xyz_handler = optimizers.ROC_xyz_handler(xyz, list(zip(test_catalog['lon'], test_catalog['lat'], test_catalog['mag'])),\n",
    "#                                            z_event_min=None)\n",
    "#\n",
    "#ROC_handler = ROC_xyz_handler(xyz, xyz_events, z_event_min=None)\n",
    "#\n",
    "fg1=plt.figure(fignum, figsize=(10,8))\n",
    "plt.clf()\n",
    "ax1=plt.gca()\n",
    "ax1.set_xscale('linear')\n",
    "\n",
    "fg2=plt.figure(fignum+1, figsize=(10,8))\n",
    "plt.clf()\n",
    "ax2=plt.gca()\n",
    "ax2.set_xscale('log')\n",
    "\n",
    "FHs = {}        # we'll use mc as a key, FH as a val: {mc:[FH]...}\n",
    "for j,mc in enumerate(mcs):\n",
    "    clr = colors_[j%len(colors_)]\n",
    "    print('ROC for mc={}'.format(mc))\n",
    "    #\n",
    "    # there's a faster way to do this...\n",
    "    xyz_ev = [[x,y,z] for x,y,z in xyz_events if z>=mc]\n",
    "    print(\"len(xyz_ev): \", len(xyz_ev))\n",
    "    ROC_real = optimizers.roc_tools.ROC_xyz_handler(xyz, xyz_events, z_event_min=mc)\n",
    "    ROC_null = optimizers.roc_tools.ROC_xyz_handler(xyz_null, xyz_events, z_event_min=mc)\n",
    "    #ROC_null_1 = optimizers.roc_tools.ROC_xyz_handler(xyz_null_1, xyz_events, z_event_min=mc)\n",
    "    #\n",
    "    #events = [z for x,y,z in ROC_handler if z>=mc]\n",
    "    # calc_roc(Z_fc=self.z_fc, Z_ev=self.z_events\n",
    "    FH      = ROC_real.calc_roc()\n",
    "    FH_null = ROC_null.calc_roc()\n",
    "    #FH_null_1 = ROC_null_1.calc_roc()\n",
    "    #\n",
    "    ax1.plot(*zip(*FH), ls='-', color=clr, marker='', lw=2.5, label='$m_c=%.2f$' % mc)\n",
    "    ax1.plot(*zip(*FH_null), ls='--', color=clr, marker='', lw=2.5, label='$1/r$: $m_c=%.2f$' % mc)\n",
    "    #\n",
    "    #ax2.plot(*zip(*[[f,h-f] for f,h in FH]), ls='-', color=clr, marker='', lw=2.5, label='$m_c=%.2f$' % mc)\n",
    "    #ax2.plot(*zip(*[[f,h-f] for f,h in FH_null]), ls='--', color=clr, marker='', lw=2.5, label='$1/r$: $m_c=%.2f$' % mc)\n",
    "    ax2.plot(*zip(*FH), ls='-', color=clr, marker='', lw=2.5, label='$m_c=%.2f$' % mc)\n",
    "    ax2.plot(*zip(*FH_null), ls='--', color=clr, marker='', lw=2.5, label='$1/r$: $m_c=%.2f$' % mc)\n",
    "    #\n",
    "    # try a fill-between on exp=1., exp=exp_aftershcks for the null model.\n",
    "    #f_null = [f for f,h in FH_null]\n",
    "    #h_null_0 = [h for f,h in FH_null]\n",
    "    #h_null_1 = [h for f,h in FH_null_1]\n",
    "    #\n",
    "    #ax1.fill_between(f_null, h_null_0, h_null_1, color=clr, alpha=.4)\n",
    "    \n",
    "    #\n",
    "    # now we need the 1/r model, or maybe a 1/r**1.35 or so, for the reviewer.\n",
    "    #\n",
    "    #plt.show()    # just in case...\n",
    "    #\n",
    "    # now, some random catalogs:\n",
    "\n",
    "#plt.figure()\n",
    "#z_min = min([z for x,y,z in xyz])\n",
    "#z_max = max([z for x,y,z in xyz])\n",
    "z_len = len(xyz)\n",
    "for j in range(25):\n",
    "    # we probably want a better model for this, but if it works, maybe we keep it.\n",
    "    R = random.Random()\n",
    "    #xyz_r = [[x,y,xyz[int(z_len*R.random())][2]] for x,y,z in xyz]\n",
    "    #ROC_rand = optimizers.roc_tools.ROC_xyz_handler(xyz_r, xyz_events, z_event_min=mc)\n",
    "    #\n",
    "    fh = optimizers.roc_tools.calc_roc([z for x,y,z in xyz], sorted([z for x,y,z in xyz], key=lambda x: R.random())[0:int(.2*z_len)])\n",
    "    #\n",
    "    #this_etas = etas_analyzer.Toy_etas_random(etas_in=etas_fc)\n",
    "    #FH = etas_analyzer.roc_normal(this_etas, fignum=None)\n",
    "    ax1.plot(*zip(*fh), marker='', ls='-', alpha=.2, color='y')\n",
    "    ax2.plot(*zip(*[[f,h] for f,h in fh]), marker='', ls='-', alpha=.2, color='y')\n",
    "#\n",
    "#ax1.plot(range(2), range(2), ls='--', color='m', lw=3., alpha=.75, zorder=2)\n",
    "ax1.plot(*zip(*[[x,x] for x in numpy.arange(0.,1.,1000)]), marker='', ls='--', color='m', lw=2.)\n",
    "ax2.plot(*zip(*[[x,x] for x in numpy.arange(0.,1.,1000)]), marker='', ls='--', color='m', lw=2.)\n",
    "#\n",
    "ax1.set_ylim(-.05, 1.05)\n",
    "ax1.set_xlim((-.05, 1.05))\n",
    "ax1.grid()\n",
    "ax1.legend(loc=0, numpoints=1)\n",
    "ax1.set_ylabel('Hit Rate $H$', size=18)\n",
    "ax1.set_xlabel('False Alarm Rate $F$', size=18)\n",
    "#\n",
    "ax2.set_ylim(-.05, 1.05)\n",
    "ax2.set_xlim((-.05, 1.05))\n",
    "ax2.grid()\n",
    "ax2.legend(loc=0, numpoints=1)\n",
    "ax2.set_ylabel('Reduced Hit Rate $H-F$', size=18)\n",
    "ax2.set_xlabel('False Alarm Rate $F$', size=18)\n",
    "#self.__dict__.update(locals())\n",
    "#\n",
    "\n",
    "#################################################\n",
    "#################################################\n",
    "with open(os.path.join(revisions_data, 'nepal_xyz_etas_fc.xyz'), 'w') as f:\n",
    "    f.write('#x\\t\\ty\\tz\\n')\n",
    "    for rw in xyz:\n",
    "        f.write('{}\\n'.format('\\t'.join([str(x) for x in rw])))\n",
    "#\n",
    "with open(os.path.join(revisions_data, 'nepal_xyz_etas_fc_nul_exp_135.xyz'), 'w') as f:\n",
    "    f.write('#x\\t\\ty\\tz\\n')\n",
    "    for rw in xyz:\n",
    "        f.write('{}\\n'.format('\\t'.join([str(x) for x in rw])))\n",
    "#\n",
    "\n",
    "with open(os.path.join(revisions_data, 'nepal_test_catalog.cat'), 'w') as f:\n",
    "    etas_test.catalog.tofile(f, sep='\\t')\n",
    "with open(os.path.join(revisions_data, 'nepal_fc_catalog.cat'), 'w') as f:    \n",
    "    nepal_etas_fc.catalog.tofile(f, sep='\\t')\n",
    "\n",
    "fg1.savefig(os.path.join(revisions_data, 'nepal_roc_lin.png'))\n",
    "fg2.savefig(os.path.join(revisions_data, 'nepal_roc_log.png'))\n",
    "\n",
    "\n",
    "#A = nepal__ROC_script()"
   ]
  },
  {
   "cell_type": "code",
   "execution_count": null,
   "metadata": {
    "collapsed": false
   },
   "outputs": [],
   "source": [
    "ROC_1 = optimizers.roc_tools.ROC_xyz_handler(xyz, xyz_events, z_event_min=None)\n",
    "FH = ROC_1.calc_roc()\n",
    "\n",
    "print(FH[0:5])"
   ]
  },
  {
   "cell_type": "code",
   "execution_count": null,
   "metadata": {
    "collapsed": false
   },
   "outputs": [],
   "source": [
    "# Now, let's write stuff to file:\n",
    "plt.savefig(os.path.join(revisions_data, 'nepal_roc_figure.png'))\n"
   ]
  },
  {
   "cell_type": "code",
   "execution_count": null,
   "metadata": {
    "collapsed": false
   },
   "outputs": [],
   "source": [
    "# import global_etas_auto\n",
    "\n",
    "# aa=global_etas_auto.auto_etas()\n",
    "\n",
    "# #print(aa)\n",
    "\n",
    "# #plt.figure(0,figsize=(10,8))\n",
    "# #ax=plt.gca()\n",
    "# aa.make_etas_contour_map(fig_size=(10,8), n_contours=25 )\n",
    "# date_str = str(dtm.datetimen.now())\n",
    "# plt.title('ETAS, Pacific Islands, {%s}'.format(date_str))\n",
    "# #\n",
    "# plt.savefig('data/pacific/pacific_20160729_{}.png'.format(date_str))\n",
    "# aa.export_xyz('data/pacific/pacific_20160729_{}.xyz'.format(date_str))\n",
    "# aa.export_kml('data/pacific/pacific_20160729_{}.kml'.format(date_str))\n",
    "\n",
    "# # ... and eventually write this into globalETAS()\n",
    "# with open('data/pacific/pacific_cat_20160729_{}.cat'.format(date_str)), 'w') as f:\n",
    "#     aa.catalog.tofile(f, '\\t')"
   ]
  },
  {
   "cell_type": "markdown",
   "metadata": {
    "collapsed": true
   },
   "source": [
    "### Global ETAS and ROC\n",
    "- see nepal_figs.py.global_roc_from_optimizer()\n"
   ]
  },
  {
   "cell_type": "code",
   "execution_count": 3,
   "metadata": {
    "collapsed": true
   },
   "outputs": [],
   "source": [
    "figs_data_path = '/home/myoder/Dropbox/Research/globalETAS/nepal_etas/data_n_figs'\n",
    "xyz_output = os.path.join(figs_data_path, 'global_etas.xyz')\n",
    "#"
   ]
  },
  {
   "cell_type": "code",
   "execution_count": null,
   "metadata": {
    "collapsed": true
   },
   "outputs": [],
   "source": [
    "# we need to re-code global_etas() to use a Pool() instead of manual process handling. in the mean time, just give it\n",
    "# more processes than it has processors (then, the small jobs will finish up early, and the multiple-thread overhead\n",
    "# should be relatively small). the idea is to have all processors running flat out, all the time... and not run out\n",
    "# of memory.\n",
    "do_global = False\n",
    "if do_global:\n",
    "    n_cpu = mpp.cpu_count()*3\n",
    "    #\n",
    "    # note: the default behavior for this is to give a forcast date of now-fc_len, and so a forecast validation up to today.\n",
    "    #\n",
    "    glob_etas_roc =  global_etas_and_roc(fc_len=120, fout_xyz=xyz_output, fignum=0, m_cs=[4.0, 5.0, 6.0, 6.5], n_cpu=n_cpu)\n",
    "    #\n",
    "\n",
    "    with open(os.path.join(figs_data_path, 'global_roc_FH.json'), 'w') as f:\n",
    "        json.dump(glob_etas_roc['roc'],f)"
   ]
  },
  {
   "cell_type": "code",
   "execution_count": 4,
   "metadata": {
    "collapsed": false
   },
   "outputs": [
    {
     "name": "stdout",
     "output_type": "stream",
     "text": [
      "#global ETAS\n",
      "\n",
      "#lats=[-89.0, 89.0]\tlons=[-180.0, 180.0]\tmc=3.0\td_lon=0.1\td_lat=0.1\tetas_range_factor=15.0\tetas_range_padding=0.5\tetas_fit_factor=1.5\tt_now=2016-04-12 12:52:58.803348+00:00\tcat_len=3650.0\n",
      "\n",
      "begin roc_glob...\n",
      "get cataog:  [-180.0, 179.90000000000001] [-89.0, 88.900000000000006] 4.0 2016-04-12 12:52:59+00:00 2016-08-10 12:52:59+00:00\n",
      "data handle fetched...\n",
      " no file.\n",
      "catlen:  4151\n",
      "finished with roc_glob...\n"
     ]
    },
    {
     "data": {
      "image/png": "[encoded data removed]",
      "text/plain": [
       "<matplotlib.figure.Figure at 0x7f3e41395d30>"
      ]
     },
     "metadata": {},
     "output_type": "display_data"
    }
   ],
   "source": [
    "#roc_glob = global_roc_from_optimizer(fc_xyz=etas.ETAS_array, fignum=fignum+1, mcs=6.0,\n",
    "#fc_len=fc_len, ls=roc_ls, marker=roc_marker, lw=roc_lw)\n",
    "# print header data from global eatas output:\n",
    "# (and if we need to, we can extract the prams from here.)\n",
    "with open(xyz_output,'r') as f:\n",
    "    for rw in f:\n",
    "        if rw[0]=='#':\n",
    "            print(rw)\n",
    "        else:\n",
    "            #\n",
    "            # and assume 1) it's a long file, 2) all the comments are at the front.\n",
    "            break\n",
    "        #\n",
    "    #\n",
    "#\n",
    "   \n",
    "\n",
    "# do roc starting just after end of etas (be careful trying to make this more/less fair;\n",
    "#see the global_roc_from_optimizer code.)\n",
    "#\n",
    "print('begin roc_glob...')\n",
    "# should be returning like [[mc, [FH]], [mc, [FH]], ]   # where [FH] implies an array return like [[f,h], [f,h], ... ]\n",
    "roc_glob = global_roc_from_optimizer(fc_xyz=xyz_output, fignum=0,\n",
    "                                     etas_end_date=dtm.datetime(2016,4,12, 12,52,59, tzinfo=pytz.timezone('UTC')),\n",
    "                                     mcs=[4.,5., 6.0], fc_len=120, ls='-', marker='', lw=2)\n",
    "print('finished with roc_glob...')"
   ]
  },
  {
   "cell_type": "code",
   "execution_count": 16,
   "metadata": {
    "collapsed": false
   },
   "outputs": [
    {
     "name": "stdout",
     "output_type": "stream",
     "text": [
      "3\n",
      "sums:  [[0.12307846034715268], [0.1214509350304817], [0.11495115490724638]]\n",
      "[0.47600988165616215]\n",
      "[0.46550649761285068]\n"
     ]
    }
   ],
   "source": [
    "print(len(roc_glob))\n",
    "\n",
    "sums = optimizers.roc_tools.integrate_fh([rw[-1][0:1000000] for rw in roc_glob], n_cpu=2)\n",
    "print('sums: ', sums)\n",
    "\n",
    "print(optimizers.roc_tools.integrate_fh(roc_glob[0][-1]))\n",
    "print(optimizers.roc_tools.integrate_fh(roc_glob[2][-1]))"
   ]
  },
  {
   "cell_type": "code",
   "execution_count": null,
   "metadata": {
    "collapsed": false
   },
   "outputs": [],
   "source": [
    "# TODO: write this into roc_tools.py.\n",
    "# make a single call that nests the spp and mpp versions; maybe also add some code to discriminate\n",
    "# leading meta-data in a row, so we can pass [[x1,x2,..., FH], ...]\n",
    "def integrate_fh(FH, skill=True):\n",
    "    f_factor=skill%2    # integrate skill score (h-f) or h score\n",
    "    #\n",
    "    # do simple block integration; err on the side of a higher score.\n",
    "    return numpy.sum([(h-f_factor*f)*(f-FH[j][0]) for j, (f,h) in enumerate(FH[1:])])\n",
    "\n",
    "n_cpu = None\n",
    "n_cpu = 3\n",
    "n_cpu = (n_cpu or mpp.cpu_count())\n",
    "\n",
    "# note: i think these global ROC bits are about 2GB each...\n",
    "\n",
    "if n_cpu>1:\n",
    "    P = mpp.Pool(mpp.cpu_count())\n",
    "    res=[]\n",
    "    outputs = []\n",
    "    for mc, fh in roc_glob:\n",
    "        #print('score:', mc, integrate_fh(fh))\n",
    "        res += [[mc, P.apply_async(integrate_fh, args=(fh,True))]]\n",
    "    P.close()\n",
    "    P.join()\n",
    "    for mc, r in res:\n",
    "        outputs += [[mc, r.get()]]\n",
    "        print('mc: {}::{}'.format(mc, outputs[-1][1]))\n",
    "else:\n",
    "    for mc,fh in roc_glob:\n",
    "        print('score: {} :: {}'.format(mc, integrate_fh(fh)))\n",
    "    #"
   ]
  },
  {
   "cell_type": "code",
   "execution_count": null,
   "metadata": {
    "collapsed": false
   },
   "outputs": [],
   "source": [
    "for mc, score in outputs:\n",
    "    print('{}: {}'.format(mc, score/.5))"
   ]
  },
  {
   "cell_type": "code",
   "execution_count": null,
   "metadata": {
    "collapsed": false
   },
   "outputs": [],
   "source": [
    "\n",
    "\n",
    "plt.figure(0, figsize=(14,10))\n",
    "print('working... (this might take a while)...')\n",
    "# nepal_figs.\n",
    "CC = draw_global_etas_contours(xyz=xyz_output, fignum=0)\n",
    "\n",
    "print('finishd.')"
   ]
  },
  {
   "cell_type": "code",
   "execution_count": null,
   "metadata": {
    "collapsed": false
   },
   "outputs": [],
   "source": [
    "print(xyz_output)"
   ]
  },
  {
   "cell_type": "code",
   "execution_count": null,
   "metadata": {
    "collapsed": false
   },
   "outputs": [],
   "source": [
    "roc_glob = global_roc_from_optimizer(fc_xyz=xyz_output, fignum=0, mcs=[4.,5.,6.], fc_len=120, ls='-', \n",
    "                                                marker='', lw=2, etas_end_date=dtm.datetime(2016,4,12,13,\n",
    "                                                                                            tzinfo=nepal_figs.pytz.timezone('UTC')))\n",
    "\n",
    "# for global, this will be... HUGE, >600MB. the binary .pkl object (see below) is 500 MB.\n",
    "# for publication, we can share an interpolated copy.\n",
    "#with open(os.path.join(figs_data_path, 'global_roc_FH.json'), 'w') as f:\n",
    "#    json.dump(roc_glob, f)"
   ]
  },
  {
   "cell_type": "code",
   "execution_count": null,
   "metadata": {
    "collapsed": false
   },
   "outputs": [],
   "source": [
    "import pickle\n",
    "\n",
    "with open(os.path.join(figs_data_path, 'global_roc_FH.pkl'), 'wb') as f:\n",
    "    pickle.dump(roc_glob,f)"
   ]
  },
  {
   "cell_type": "code",
   "execution_count": null,
   "metadata": {
    "collapsed": false
   },
   "outputs": [],
   "source": [
    "sys.getsizeof(roc_glob)\n"
   ]
  },
  {
   "cell_type": "code",
   "execution_count": null,
   "metadata": {
    "collapsed": true
   },
   "outputs": [],
   "source": []
  }
 ],
 "metadata": {
  "kernelspec": {
   "display_name": "Python 3",
   "language": "python",
   "name": "python3"
  },
  "language_info": {
   "codemirror_mode": {
    "name": "ipython",
    "version": 3
   },
   "file_extension": ".py",
   "mimetype": "text/x-python",
   "name": "python",
   "nbconvert_exporter": "python",
   "pygments_lexer": "ipython3",
   "version": "3.5.1"
  }
 },
 "nbformat": 4,
 "nbformat_minor": 0
}
