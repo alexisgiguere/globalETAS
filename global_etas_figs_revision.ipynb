{
 "cells": [
  {
   "cell_type": "markdown",
   "metadata": {},
   "source": [
    "A notebook to handle figures for the (revisions of) the yoder et al. 2016 Global/Nepal ETAS paper."
   ]
  },
  {
   "cell_type": "code",
   "execution_count": null,
   "metadata": {
    "collapsed": false
   },
   "outputs": [],
   "source": [
    "#\n",
    "%load_ext autoreload\n",
    "%autoreload 2\n",
    "%matplotlib inline\n",
    "\n",
    "import datetime as dtm\n",
    "import matplotlib.dates as mpd\n",
    "import pytz\n",
    "tzutc = pytz.timezone('UTC')\n",
    "\n",
    "#import operator\n",
    "import math\n",
    "import random\n",
    "import numpy\n",
    "import scipy\n",
    "import scipy.optimize as spo\n",
    "import itertools\n",
    "import sys\n",
    "#import scipy.optimize as spo\n",
    "import os\n",
    "import operator\n",
    "#from PIL import Image as ipp\n",
    "import multiprocessing as mpp\n",
    "#\n",
    "import matplotlib\n",
    "import matplotlib.pyplot as plt\n",
    "import matplotlib as mpl\n",
    "from mpl_toolkits.mplot3d import Axes3D\n",
    "#import functools\n",
    "#\n",
    "#import shapely.geometry as sgp\n",
    "#\n",
    "from mpl_toolkits.basemap import Basemap as Basemap\n",
    "from matplotlib.backends.backend_agg import FigureCanvasAgg as FigureCanvas\n",
    "from geographiclib.geodesic import Geodesic as ggp\n",
    "#\n",
    "#import ANSStools as atp\n",
    "from yodiipy import ANSStools as atp\n",
    "#\n",
    "import contours2kml\n",
    "import globalETAS as gep\n",
    "from eq_params import *\n",
    "#\n",
    "import random\n",
    "import geopy\n",
    "#\n",
    "#colors_ =  mpl.rcParams['axes.color_cycle']\n",
    "colors_ = ['b', 'g', 'r', 'c', 'm', 'y', 'k']\t\t# make sure these are correct...\n",
    "#\n",
    "emc = {'lat':32.13, 'lon':-115.30, 'event_date':dtm.datetime(2010,4,4,22,40,41, tzinfo=pytz.timezone('UTC'))}\n",
    "nepal_epi_lon = 84.698\n",
    "nepal_epi_lat = 28.175\n",
    "\n",
    "#\n",
    "# set up dict objects for different earthquakes. maybe from eq_params.py ?\n",
    "param_keys = ['lat_center', 'lon_center', 'to_dt', 'mc', 'mc_auto', 'cat_len_plus']\n",
    "nepal_params = {key:val for key,val in zip(param_keys, [nepal_epi_lat, nepal_epi_lon, \n",
    "                                                        dtm.datetime(2015,4,30, tzinfo=pytz.timezone('UTC')),\n",
    "                                                        4.0, 4.5, 220])}\n",
    "emc_params =   {key:val for key,val in zip(param_keys, [emc['lat'], emc['lon'],\n",
    "                                                      emc['event_date'] + dtm.timedelta(days=5), 2.5, 5.5, 220])}"
   ]
  },
  {
   "cell_type": "markdown",
   "metadata": {},
   "source": [
    "### some random geopy bits:\n",
    "  - easy syntax for great-circle or vincenty (more precise, iterative model) geodetic distances\n",
    "  - forward and reverse geocoding\n",
    "  "
   ]
  },
  {
   "cell_type": "code",
   "execution_count": null,
   "metadata": {
    "collapsed": false
   },
   "outputs": [],
   "source": [
    "from geopy.distance import vincenty\n",
    "from geopy.distance import great_circle\n",
    "newport_ri = (41.49008, -71.312796)\n",
    "cleveland_oh = (41.499498, -81.695391)\n",
    "print(vincenty(newport_ri, cleveland_oh).miles)\n",
    "print(great_circle(newport_ri, cleveland_oh).miles)\n",
    "\n",
    "from geopy.geocoders import Nominatim\n",
    "geolocator = Nominatim()\n",
    "#location = geolocator.geocode(\"175 5th Avenue NYC\")\n",
    "location = geolocator.geocode(\"509 S Waiola Ave, La Grange IL\")\n",
    "print(location.address)\n",
    "print(location.point)"
   ]
  },
  {
   "cell_type": "markdown",
   "metadata": {},
   "source": [
    "### ETAS and ROC figures\n",
    "  - ETAS map\n",
    "    - include recent (shortly before forecast date) earthquakes\n",
    "  - ROC analysis\n",
    "  \n",
    "  Also include:\n",
    "    - ETAS forecast catalog $t<t_0$\n",
    "    - ETAS test catalog $t>t_0$\n",
    "    - ETAS data.xyz file\n",
    "    - Image(s)\n",
    "    - KML\n",
    "    - ROC table(s)\n",
    "  \n",
    "  For now, copy the make_Nepal_figs from nepal_figs.py. we'll move this to the original, or a new, module when we work out the bugs."
   ]
  },
  {
   "cell_type": "code",
   "execution_count": null,
   "metadata": {
    "collapsed": false
   },
   "outputs": [],
   "source": [
    "from nepal_figs import *\n",
    "\n",
    "class nepal__ROC_script(object):\n",
    "    def __init__(self, fignum=0, mcs = [4., 5., 6., 7.], n_cpu=None):\n",
    "        # this needs to be rewritten a bit to:\n",
    "        # 1) use the same color for each magnitude\n",
    "        # 2) should probably use the roc_generic class; see _rocs3()\n",
    "        #\n",
    "        # full, one stop shopping script for nepal ROC analysis.\n",
    "        #\n",
    "        # first, get nepal ETAS objects:\n",
    "        etas_fc, etas_test = etas_analyzer.nepal_etas_roc()\n",
    "        test_catalog = etas_test.catalog\n",
    "        #\n",
    "        x0 = nepal_epi_lon\n",
    "        y0 = nepal_epi_lat\n",
    "        mag=7.8\n",
    "        L_r = .5*10**(.5*mag - 1.76)\n",
    "        xyz = etas_fc.ETAS_array\n",
    "        #\n",
    "        # now, replace all of this \"get x,y and ROC\" stuff with the optimizers.roc_tools equivalents.\n",
    "        roc_xyz_handler = ROC_xyz_handler(xyz, list(zip(test_catalog['lon'], test_catalog['lat'], test_catalog['mag'])))\n",
    "        # ----- 27 july stop.\n",
    "        #\n",
    "        X_set = sorted(list(set(xyz['x'])))\n",
    "        Y_set = sorted(list(set(xyz['y'])))\n",
    "        nx = len(X_set)\n",
    "        ny = len(Y_set)\n",
    "        get_site = lambda x,y: int(round((x-etas_fc.lons[0]+.5*etas_fc.d_lon)/etas_fc.d_lon)) + int(round((y-etas_fc.lats[0]+.5*etas_fc.d_lat)/etas_fc.d_lat))*nx\n",
    "        #\n",
    "        xyz_r = xyz.copy()\n",
    "        for j,(x,y,z) in enumerate(xyz_r):\n",
    "            xyz_r['z'][j]=1./(dist_to(x,y,x0,y0) + .5*L_r)\n",
    "        #\n",
    "        Zs = sorted(list(xyz['z'].copy()))\n",
    "        Zs_r = sorted(list(xyz_r['z'].copy()))\n",
    "        #\n",
    "        eq_site_zs = [[xyz['z'][get_site(eq['lon'], eq['lat'])], eq['mag']] for eq in test_catalog]\n",
    "        #\n",
    "        plt.figure(fignum)\n",
    "        plt.clf()\n",
    "        plt.plot(range(2), range(2), ls='--', color='m', lw=3., alpha=.75, zorder=2)\n",
    "        FHs = {}        # we'll use mc as a key, FH as a val: {mc:[FH]...}\n",
    "        for j,mc in enumerate(mcs):\n",
    "            clr = colors_[j%len(colors_)]\n",
    "            roc = roc_generic.ROC_mpp(n_procs=n_cpu, Z_events=[z for z,m in eq_site_zs if m>=mc], Z_fc=Zs, h_denom=None, f_denom=None, f_start=0, f_stop=None)\n",
    "            a=roc.calc_roc()        # no parameters, and in fact no return value, but it's never a bad idea to leave a place-holder for one.\n",
    "            #\n",
    "            plt.plot(roc.F, roc.H, ls='-', color=clr, marker='', lw=2.5, label='$m_c=%.2f$' % mc)\n",
    "            #FHs[mc]=[[f,h] for f,h in zip(roc.F, roc.H)]\n",
    "            #\n",
    "            roc = roc_generic.ROC_mpp(n_procs=n_cpu, Z_events=[z for z,m in eq_site_zs if m>=mc], Z_fc=Zs_r, h_denom=None, f_denom=None, f_start=0, f_stop=None)\n",
    "            roc.calc_roc()\n",
    "            plt.plot(roc.F, roc.H, ls='--', color=clr, marker='', lw=2.5, label='$m_c=%.2f$' % mc)\n",
    "            #\n",
    "            plt.show()    # just in case...\n",
    "    \n",
    "    \n",
    "        #ROC_n = roc_normalses(etas_fc, test_catalog=None, to_dt=None, cat_len=120., mc_rocs=[4.5, 5.0, 6.0, 7.0], fignum=fignum, do_clf=True)\n",
    "        #\n",
    "        # now, make a toy catalog:\n",
    "        #etas_toy = Toy_etas_invr(etas_in=etas_fc, mainshock={'mag':7.3, 'lon':84.698, 'lat':28.175})\n",
    "        #\n",
    "        #ROC_t = roc_normalses(etas_toy, test_catalog=None, to_dt=None, cat_len=120., mc_rocs=[4.5, 5.0, 6.0, 7.0], fignum=fignum, do_clf=False, roc_ls='--')\n",
    "        #\n",
    "        # now, some random catalogs:\n",
    "        for j in range(25):\n",
    "            this_etas = etas_analyzer.Toy_etas_random(etas_in=etas_fc)\n",
    "            FH = etas_analyzer.roc_normal(this_etas, fignum=None)\n",
    "            plt.plot(*zip(*FH), marker='.', ls='', alpha=.6)\n",
    "        #\n",
    "        self.__dict__.update(locals())\n",
    "        #\n"
   ]
  },
  {
   "cell_type": "code",
   "execution_count": null,
   "metadata": {
    "collapsed": false
   },
   "outputs": [],
   "source": [
    "import global_etas_auto\n",
    "#Location\n",
    "#    18.515°N 145.529°E\n",
    "\n",
    "aa=global_etas_auto.auto_etas(lon_center=145.529, lat_center=18.515, d_lat_0=1., d_lon_0=1., dt_0=30, Lr_factor=5.)\n"
   ]
  },
  {
   "cell_type": "code",
   "execution_count": null,
   "metadata": {
    "collapsed": false
   },
   "outputs": [],
   "source": [
    "aa.make_etas_contour_map()\n",
    "\n"
   ]
  },
  {
   "cell_type": "code",
   "execution_count": null,
   "metadata": {
    "collapsed": true
   },
   "outputs": [],
   "source": []
  }
 ],
 "metadata": {
  "kernelspec": {
   "display_name": "Python 3",
   "language": "python",
   "name": "python3"
  },
  "language_info": {
   "codemirror_mode": {
    "name": "ipython",
    "version": 3
   },
   "file_extension": ".py",
   "mimetype": "text/x-python",
   "name": "python",
   "nbconvert_exporter": "python",
   "pygments_lexer": "ipython3",
   "version": "3.5.1"
  }
 },
 "nbformat": 4,
 "nbformat_minor": 0
}
