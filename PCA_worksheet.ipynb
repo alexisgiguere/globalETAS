{
 "cells": [
  {
   "cell_type": "code",
   "execution_count": null,
   "metadata": {
    "collapsed": false
   },
   "outputs": [],
   "source": [
    "%load_ext autoreload\n",
    "%autoreload 2\n",
    "%matplotlib inline"
   ]
  },
  {
   "cell_type": "code",
   "execution_count": null,
   "metadata": {
    "collapsed": true
   },
   "outputs": [],
   "source": [
    "import yodiipy\n",
    "import numpy\n",
    "import pylab as plt\n",
    "import math\n",
    "\n",
    "from sklearn.decomposition import PCA\n",
    "from sklearn.discriminant_analysis import LinearDiscriminantAnalysis\n",
    "\n"
   ]
  },
  {
   "cell_type": "code",
   "execution_count": null,
   "metadata": {
    "collapsed": false,
    "scrolled": true
   },
   "outputs": [],
   "source": [
    "# load some etas data to play with.\n",
    "#XYZ = []\n",
    "fl_nm = 'data/nepal_etas_20150507_b.xyz'\n",
    "#fl_nm = 'data/global_xyz_20151129.xyz'\n",
    "with open(fl_nm, 'r') as f:\n",
    "    XYZ = [[float(x) for x in rw[:-1].split()] for rw in f if rw[0] not in ('#', ' ', '\\t', '\\n')]\n",
    "#\n",
    "X_s = sorted(list(set([x for x,y,z in XYZ])))\n",
    "Y_s = sorted(list(set([y for x,y,z, in XYZ])))\n",
    "#\n",
    "Xs,Ys,Zs = [numpy.array(list(x)) for x in zip(*XYZ)]\n",
    "#\n",
    "Zs = numpy.log10(Zs)\n",
    "Zs.shape=(len(X_s), len(Y_s))\n",
    "#\n",
    "pca = PCA(n_components=None)\n",
    "X_r = pca.fit(Zs).transform(Zs)\n",
    "#\n",
    "lda = LinearDiscriminantAnalysis(n_components=None)\n",
    "#X_r2 = lda.fit(X, y).transform(Zs)\n",
    "#\n",
    "plt.figure()\n",
    "plt.imshow(Zs)\n",
    "#\n",
    "plt.figure(figsize=(10,10))\n",
    "plt.imshow(X_r)\n"
   ]
  },
  {
   "cell_type": "code",
   "execution_count": null,
   "metadata": {
    "collapsed": true
   },
   "outputs": [],
   "source": [
    "import yodiipy.pca_tools as ypt\n"
   ]
  },
  {
   "cell_type": "code",
   "execution_count": null,
   "metadata": {
    "collapsed": true
   },
   "outputs": [],
   "source": [
    "vals, vecs = ypt.yoda_pca(Zs)"
   ]
  },
  {
   "cell_type": "code",
   "execution_count": null,
   "metadata": {
    "collapsed": false
   },
   "outputs": [],
   "source": [
    "len(vecs), len(vals)\n",
    "print(vals[0:5])\n",
    "Zs2 = Zs.copy()\n"
   ]
  },
  {
   "cell_type": "code",
   "execution_count": null,
   "metadata": {
    "collapsed": false
   },
   "outputs": [],
   "source": [
    "plt.figure()\n",
    "plt.clf()\n",
    "ax=plt.gca()\n",
    "#\n",
    "ax.set_yscale('log')\n",
    "ax.plot(vals)\n",
    "ax.set_title('eigen vals')\n",
    "#ax2 = ax.twinx()\n",
    "plt.figure()\n",
    "plt.clf()\n",
    "ax2=plt.gca()\n",
    "sh=Zs2.shape\n",
    "Zs2.shape=((Zs2.size,))\n",
    "ax2.plot(sorted(Zs2), color='r')"
   ]
  },
  {
   "cell_type": "code",
   "execution_count": null,
   "metadata": {
    "collapsed": true
   },
   "outputs": [],
   "source": []
  }
 ],
 "metadata": {
  "kernelspec": {
   "display_name": "Python 3",
   "language": "python",
   "name": "python3"
  },
  "language_info": {
   "codemirror_mode": {
    "name": "ipython",
    "version": 3
   },
   "file_extension": ".py",
   "mimetype": "text/x-python",
   "name": "python",
   "nbconvert_exporter": "python",
   "pygments_lexer": "ipython3",
   "version": "3.5.1"
  }
 },
 "nbformat": 4,
 "nbformat_minor": 0
}
