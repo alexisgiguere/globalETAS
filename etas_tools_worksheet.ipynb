{
 "cells": [
  {
   "cell_type": "code",
   "execution_count": null,
   "metadata": {
    "collapsed": false
   },
   "outputs": [],
   "source": [
    "%load_ext autoreload\n",
    "%autoreload 2\n",
    "%matplotlib inline"
   ]
  },
  {
   "cell_type": "code",
   "execution_count": null,
   "metadata": {
    "collapsed": false
   },
   "outputs": [],
   "source": [
    "import optimizers\n",
    "import optimizers.roc_tools as ortp\n",
    "import numpy\n",
    "import pylab as plt\n",
    "import globalETAS as gep\n",
    "from yodiipy import ANSStools as atp\n",
    "import datetime as dtm\n",
    "import pytz\n",
    "#\n",
    "from etas_roc_tools import ETAS_roc\n"
   ]
  },
  {
   "cell_type": "code",
   "execution_count": null,
   "metadata": {
    "collapsed": false
   },
   "outputs": [],
   "source": [
    "# class ETAS_roc(ortp.ROC_xyz_handler):\n",
    "#     #\n",
    "#     # class to construct an optimizers.ROC_xyz_handler() from etas and etas related inputs.\n",
    "#     # as needed, load or compute ETAS, load catalog.\n",
    "#     #def __init__(self, fc_xyz, events_xyz=None, dx=None, dy=None, fignum=0, do_clf=True, z_event_min=None, z_events_as_dicts=False):\n",
    "#     def __init__(self, etas_xyz=None, events_xyz=None, lats=None, lons=None, z_event_min=None,\n",
    "#                  fc_date=None, cat_len=5*365, fc_len=120, d_lat=.1, d_lon=.1, n_procs=None, mc_etas=2.5,\n",
    "#                  mc_catalog=None, etas_range_factor=25, etas_range_padding=1.0, transform_type='equal_area',\n",
    "#                  transform_ratio_max=2.5, etas_fit_factor=1.0, *args, **kwargs):\n",
    "#         #\n",
    "#         mc_catalog = (mc_catalog or mc_etas)\n",
    "#         #\n",
    "#         # first handle the ETAS (forecast) bits.\n",
    "#         if etas_xyz is None or (hasattr(etas_xyz,'__len__') and not isinstance(etas_xyz,str) and len(etas_xyz[0])>3): \n",
    "#             # get compute ETAS from input parameters.\n",
    "#             # ... eventually.\n",
    "#             # globalETAS call signature: def __init__(self, catalog=None, lats=None, lons=None, mc=2.5, mc_etas=None,\n",
    "#             #d_lon=.1, d_lat=.1, bin_lon0=0., bin_lat0=0., etas_range_factor=10.0, etas_range_padding=.25, etas_fit_factor=1.0,\n",
    "#             #t_0=dtm.datetime(1990,1,1, tzinfo=tz_utc), t_now=dtm.datetime.now(tzutc), transform_type='equal_area', \n",
    "#             #transform_ratio_max=2.5, cat_len=5.*365., \n",
    "#             #calc_etas=True, n_contours=15, etas_cat_range=None, etas_xyz_range=None, p_cat=1.1, q_cat=1.5, p_etas=None,**kwargs)\n",
    "#             #\n",
    "#             # can we figure out if a list/array passed is a catalog? maybe if len(X[0]>3, then it's probably a catalog?)\n",
    "#             #\n",
    "#             if not etas_xyz is None: catalog = etas_xyz\n",
    "\n",
    "#             etas = ETAS_mpp_handler(n_processes=n_procs, catalog=catalog, lats=lats, lons=lons, mc=mc_etas, d_lat=d_lat,\n",
    "#                                     d_lon=d_lon, etas_range_factor=etas_range_factor, etas_range_padding=etas_range_padding,\n",
    "#                                     etas_fit_factor=etas_fit_factor, t_now=fc_date, cat_len=cat_len, \n",
    "#                                     transform_type=transform_type, transform_ratio_max=transform_ratio_max)\n",
    "#             #etas_xyz = etas.ETAS_array.tolist()\n",
    "#             etas_xyz = etas.ETAS_array\n",
    "#             #\n",
    "#         if isinstance(etas_xyz, str):\n",
    "#             # it's a file; load it. assume x,y,z format.\n",
    "#             with open(etas_xyz, 'r') as f:\n",
    "#                 etas_xyz = [[float(x) for x in rw.split()] \n",
    "#                             for rw in f if rw[0] not in (chr(9), chr(32), chr(10), chr(13), '#')]\n",
    "#             #\n",
    "#         #\n",
    "#         # now, let's handle events. gather some lats, lons from the ETAS input. we'll need to go over the default\n",
    "#         # behaviors a few times until we get it right.\n",
    "#         #\n",
    "#         #lons = (lons or [min(x for x,y,z in etas_xyz), max(x for x,y,z in etas_xyz)])\n",
    "#         #lats = (lats or [min(y for x,y,z in etas_xyz), max(y for x,y,z in etas_xyz)])\n",
    "#         Xs = sorted(list(set(x for x,y,z in etas_xyz)))\n",
    "#         Ys = sorted(list(set(y for x,y,z in etas_xyz)))\n",
    "#         lons = (lons or [min(Xs), max(Xs)])\n",
    "#         lats = (lats or [min(Ys), max(Ys)])\n",
    "#         d_lon = abs(Xs[1] - Xs[0])\n",
    "#         d_lat = abs(Ys[1] - Ys[0])\n",
    "#         #\n",
    "#         if events_xyz is None:\n",
    "#             # ... and maybe other criteria? load a catalog from ANSS\n",
    "#             anss_cat = atp.catfromANSS(lon=[lons[0]-d_lon/2., lons[1]+d_lon/2.], lat=[lats[0]-d_lat/2., lats[1]+d_lat/2.], minMag=mc_etas, \n",
    "#                                    dates0=[fc_date, fc_date + dtm.timedelta(days=cat_len)],\n",
    "#                                    Nmax=None, fout=None, rec_array=True)\n",
    "#         if isinstance(events_xyz,str):\n",
    "#             with open(events_xyz, 'r') as f:\n",
    "#                 events_xyz = [[float(x) for x in rw.split()] \n",
    "#                               for rw in f if rw[0] not in (chr(9), chr(32), chr(10), chr(13), '#')]\n",
    "#             #\n",
    "#         if not hasattr(events_xyz, 'dtype'):\n",
    "#             events_xyz = numpy.core.records.fromarrays((anss_cat['lon'], anss_cat['lat'], anss_cat['mag']), \n",
    "#                                                   dtype=[('x', 'double'), ('y', 'double'), ('z', 'double')])\n",
    "            \n",
    "    \n",
    "#         super(ETAS_roc, self).__init__(etas_xyz, events_xyz, z_event_min=z_event_min)"
   ]
  },
  {
   "cell_type": "code",
   "execution_count": null,
   "metadata": {
    "collapsed": false
   },
   "outputs": [],
   "source": [
    "# Nepal ETAS:\n",
    "#\n",
    "etas_input = 'data/nepal_etas_xyz.csv'   # this is the old etas, with the 1/area instead of 1/L error... and it \n",
    "#                                        # happens to produce a slightly better ROC... so we should look into\n",
    "#                                        # steeper spatial scaling exponents.\n",
    "fcdt = dtm.datetime(2015,5,7, tzinfo=pytz.timezone('UTC'))\n",
    "\n",
    "z_event_min=None\n",
    "z_event_min = 4.0\n",
    "etas_roc = ETAS_roc(etas_input, fc_date=fcdt, z_event_min=z_event_min)\n",
    "\n",
    "etas_roc2 = ETAS_roc('data/nepal_etas_20150507_b.xyz', fc_date=fcdt, z_event_min=z_event_min)\n",
    "\n",
    "FH_molch = etas_roc.calc_molchan()\n",
    "plt.figure()\n",
    "plt.plot(*zip(*FH_molch), marker='', ls='-')\n",
    "plt.plot(*zip(*etas_roc.calc_roc()), marker='', ls='-')\n",
    "\n",
    "plt.plot(*zip(*etas_roc2.calc_roc()), marker='', ls='-')\n",
    "plt.plot(*zip(*etas_roc2.calc_molchan()), marker='', ls='-')\n",
    "#\n",
    "plt.plot(range(2), range(2), ls='-', lw=2., color='r')\n"
   ]
  },
  {
   "cell_type": "code",
   "execution_count": null,
   "metadata": {
    "collapsed": false
   },
   "outputs": [],
   "source": [
    "plt.figure()\n",
    "plt.clf()\n",
    "cat = etas_roc2.anss_cat\n",
    "#print(cat.dtype.names)\n",
    "plt.plot(cat['event_date'], cat['mag'], '.-')\n",
    "print(cat['event_date'][0:5])"
   ]
  },
  {
   "cell_type": "code",
   "execution_count": null,
   "metadata": {
    "collapsed": false
   },
   "outputs": [],
   "source": [
    "# Global ETAS:\n",
    "#\n",
    "etas_input_glob = 'global/global_xyz_20151129.xyz'   # this is the old etas, with the 1/area instead of 1/L error... and it \n",
    "#                                        # happens to produce a slightly better ROC... so we should look into\n",
    "#                                        # steeper spatial scaling exponents.\n",
    "fcdt = dtm.datetime(2015,11,29, tzinfo=pytz.timezone('UTC'))\n",
    "\n",
    "z_event_min=None\n",
    "z_event_min = 4.0\n",
    "etas_roc_glob = ETAS_roc(etas_input_glob, fc_date=fcdt, z_event_min=z_event_min)\n",
    "\n",
    "#etas_roc2 = ETAS_roc('data/nepal_etas_20150507_b.xyz', fc_date=fcdt, z_event_min=z_event_min)\n",
    "#\n",
    "plt.figure()\n",
    "plt.plot(*zip(*etas_roc_glob.calc_molchan()), marker='', ls='-')\n",
    "plt.plot(*zip(*etas_roc_glob.calc_roc()), marker='', ls='-')\n",
    "\n",
    "#plt.plot(*zip(*etas_roc2.calc_roc()), marker='', ls='-')\n",
    "#plt.plot(*zip(*etas_roc2.calc_molchan()), marker='', ls='-')\n",
    "#\n",
    "plt.plot(range(2), range(2), ls='-', lw=2., color='r')\n"
   ]
  },
  {
   "cell_type": "code",
   "execution_count": null,
   "metadata": {
    "collapsed": false
   },
   "outputs": [],
   "source": [
    "# Global ETAS:\n",
    "#\n",
    "etas_input_glob = 'global/global_xyz_20151129.xyz'   # this is the old etas, with the 1/area instead of 1/L error... and it \n",
    "#                                        # happens to produce a slightly better ROC... so we should look into\n",
    "#                                        # steeper spatial scaling exponents.\n",
    "fcdt = dtm.datetime(2015,11,29, tzinfo=pytz.timezone('UTC'))\n",
    "\n",
    "z_event_min=None\n",
    "z_event_min = 6.0\n",
    "etas_roc_glob = ETAS_roc(etas_input_glob, fc_date=fcdt, z_event_min=z_event_min)\n",
    "\n",
    "#etas_roc2 = ETAS_roc('data/nepal_etas_20150507_b.xyz', fc_date=fcdt, z_event_min=z_event_min)\n",
    "#\n",
    "plt.figure()\n",
    "plt.plot(*zip(*etas_roc_glob.calc_molchan()), marker='', ls='-')\n",
    "plt.plot(*zip(*etas_roc_glob.calc_roc()), marker='', ls='-')\n",
    "\n",
    "#plt.plot(*zip(*etas_roc2.calc_roc()), marker='', ls='-')\n",
    "#plt.plot(*zip(*etas_roc2.calc_molchan()), marker='', ls='-')\n",
    "#\n",
    "plt.plot(range(2), range(2), ls='-', lw=2., color='r')\n"
   ]
  },
  {
   "cell_type": "code",
   "execution_count": null,
   "metadata": {
    "collapsed": true
   },
   "outputs": [],
   "source": []
  }
 ],
 "metadata": {
  "kernelspec": {
   "display_name": "Python 3",
   "language": "python",
   "name": "python3"
  },
  "language_info": {
   "codemirror_mode": {
    "name": "ipython",
    "version": 3
   },
   "file_extension": ".py",
   "mimetype": "text/x-python",
   "name": "python",
   "nbconvert_exporter": "python",
   "pygments_lexer": "ipython3",
   "version": "3.5.1"
  }
 },
 "nbformat": 4,
 "nbformat_minor": 0
}
