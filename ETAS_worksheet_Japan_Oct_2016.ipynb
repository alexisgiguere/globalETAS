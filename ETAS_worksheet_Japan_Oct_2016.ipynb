{
 "cells": [
  {
   "cell_type": "code",
   "execution_count": 1,
   "metadata": {
    "collapsed": false
   },
   "outputs": [],
   "source": [
    "%load_ext autoreload\n",
    "%autoreload 2\n",
    "%matplotlib inline\n"
   ]
  },
  {
   "cell_type": "code",
   "execution_count": 2,
   "metadata": {
    "collapsed": false,
    "scrolled": true
   },
   "outputs": [
    {
     "name": "stdout",
     "output_type": "stream",
     "text": [
      "failed while loading urllib and/or urllib. maybe python 3.x?\n",
      "failed while loading urllib and/or urllib. maybe python 3.x?\n"
     ]
    },
    {
     "name": "stderr",
     "output_type": "stream",
     "text": [
      "/home/myoder/anaconda3/lib/python3.5/site-packages/matplotlib/__init__.py:892: UserWarning: axes.color_cycle is deprecated and replaced with axes.prop_cycle; please use the latter.\n",
      "  warnings.warn(self.msg_depr % (key, alt_key))\n"
     ]
    }
   ],
   "source": [
    "import globalETAS\n",
    "import global_etas_auto\n",
    "import os\n",
    "import pylab as plt\n",
    "import multiprocessing as mpp\n",
    "import datetime as dtm\n",
    "import matplotlib.dates as mpd\n",
    "import numpy\n",
    "#\n",
    "import pytz\n",
    "from yodiipy import ANSStools as atp\n",
    "#\n",
    "# 2016-10-21 05:07:23 UTC 35.358°N   133.801°E 10.0 km depth\n"
   ]
  },
  {
   "cell_type": "code",
   "execution_count": 3,
   "metadata": {
    "collapsed": true
   },
   "outputs": [],
   "source": [
    "### \n",
    "#etas = global_etas_auto.auto_etas(dt_0=6, lon_center=179.055, lat_center=-37.401, d_lat_0=3., d_lon_0=3., fnameroot='etas_auto_global_2016_09_01',\n",
    "#                                   kmldir='/home/myoder/Dropbox/Research/etas/etas_auto_2016_09_01',\n",
    "#                                   to_dt=dtm.datetime(2016,8,31, tzinfo=pytz.timezone('UTC')))\n",
    "#\n",
    "# japan oct 2016\n",
    "d_lat=3.\n",
    "d_lon=3.\n",
    "ev_lon, ev_lat = (133.801, 35.358)\n",
    "t_now = dtm.datetime.now(pytz.timezone('UTC'))\n",
    "m_c = 1.5\n",
    "cat_len=3650.\n",
    "#\n",
    "lats = [ev_lat-d_lat, ev_lat+d_lat]\n",
    "lons = [ev_lon-d_lon, ev_lon+d_lon]\n",
    "#"
   ]
  },
  {
   "cell_type": "code",
   "execution_count": 4,
   "metadata": {
    "collapsed": false
   },
   "outputs": [
    {
     "ename": "HTTPError",
     "evalue": "HTTP Error 403: FORBIDDEN",
     "output_type": "error",
     "traceback": [
      "\u001b[1;31m---------------------------------------------------------------------------\u001b[0m",
      "\u001b[1;31mHTTPError\u001b[0m                                 Traceback (most recent call last)",
      "\u001b[1;32m<ipython-input-4-2f41adc5c068>\u001b[0m in \u001b[0;36m<module>\u001b[1;34m()\u001b[0m\n\u001b[0;32m      1\u001b[0m \u001b[1;31m#\u001b[0m\u001b[1;33m\u001b[0m\u001b[1;33m\u001b[0m\u001b[0m\n\u001b[0;32m      2\u001b[0m cat_prelim = atp.catfromANSS(lon=lons, lat=lats, minMag=m_c, dates0=[t_now-dtm.timedelta(days=cat_len), t_now], \n\u001b[1;32m----> 3\u001b[1;33m                              Nmax=None, fout=None, rec_array=True)\n\u001b[0m",
      "\u001b[1;32m/home/myoder/Documents/Research/yoder/globalETAS/yodiipy/ANSStools.py\u001b[0m in \u001b[0;36mcatfromANSS\u001b[1;34m(lon, lat, minMag, dates0, Nmax, fout, rec_array)\u001b[0m\n\u001b[0;32m    126\u001b[0m                 \u001b[0mdates0\u001b[0m\u001b[1;33m[\u001b[0m\u001b[1;36m1\u001b[0m\u001b[1;33m]\u001b[0m\u001b[1;33m=\u001b[0m\u001b[0mdtm\u001b[0m\u001b[1;33m.\u001b[0m\u001b[0mdatetime\u001b[0m\u001b[1;33m.\u001b[0m\u001b[0mnow\u001b[0m\u001b[1;33m(\u001b[0m\u001b[0mtzutc\u001b[0m\u001b[1;33m)\u001b[0m\u001b[1;33m\u001b[0m\u001b[0m\n\u001b[0;32m    127\u001b[0m         \u001b[1;31m#\u001b[0m\u001b[1;33m\u001b[0m\u001b[1;33m\u001b[0m\u001b[0m\n\u001b[1;32m--> 128\u001b[1;33m         \u001b[0mcatlist\u001b[0m\u001b[1;33m=\u001b[0m\u001b[0mgetANSSlist\u001b[0m\u001b[1;33m(\u001b[0m\u001b[0mlon\u001b[0m\u001b[1;33m,\u001b[0m \u001b[0mlat\u001b[0m\u001b[1;33m,\u001b[0m \u001b[0mminMag\u001b[0m\u001b[1;33m,\u001b[0m \u001b[0mdates0\u001b[0m\u001b[1;33m,\u001b[0m \u001b[0mNmax\u001b[0m\u001b[1;33m,\u001b[0m \u001b[1;32mNone\u001b[0m\u001b[1;33m)\u001b[0m\u001b[1;33m\u001b[0m\u001b[0m\n\u001b[0m\u001b[0;32m    129\u001b[0m         \u001b[1;32mif\u001b[0m \u001b[0mfout\u001b[0m\u001b[1;33m==\u001b[0m\u001b[1;32mNone\u001b[0m\u001b[1;33m:\u001b[0m \u001b[0mprint\u001b[0m\u001b[1;33m(\u001b[0m\u001b[1;34m\" no file.\"\u001b[0m\u001b[1;33m)\u001b[0m\u001b[1;33m\u001b[0m\u001b[0m\n\u001b[0;32m    130\u001b[0m \u001b[1;33m\u001b[0m\u001b[0m\n",
      "\u001b[1;32m/home/myoder/Documents/Research/yoder/globalETAS/yodiipy/ANSStools.py\u001b[0m in \u001b[0;36mgetANSSlist\u001b[1;34m(lon, lat, minMag, dates0, Nmax, fin)\u001b[0m\n\u001b[0;32m    369\u001b[0m         \u001b[1;32mif\u001b[0m \u001b[0mfin\u001b[0m\u001b[1;33m==\u001b[0m\u001b[1;32mNone\u001b[0m\u001b[1;33m:\u001b[0m\u001b[1;33m\u001b[0m\u001b[0m\n\u001b[0;32m    370\u001b[0m                 \u001b[1;31m#print \"get data from ANSS...(%s, %s, %s, %s, %s)\" % (lon, lat, minMag, dates, Nmax)\u001b[0m\u001b[1;33m\u001b[0m\u001b[1;33m\u001b[0m\u001b[0m\n\u001b[1;32m--> 371\u001b[1;33m                 \u001b[0mfin\u001b[0m \u001b[1;33m=\u001b[0m \u001b[0mgetANSStoFilehandler\u001b[0m\u001b[1;33m(\u001b[0m\u001b[0mlon\u001b[0m\u001b[1;33m,\u001b[0m \u001b[0mlat\u001b[0m\u001b[1;33m,\u001b[0m \u001b[0mminMag\u001b[0m\u001b[1;33m,\u001b[0m \u001b[0mdates\u001b[0m\u001b[1;33m,\u001b[0m \u001b[0mNmax\u001b[0m\u001b[1;33m)\u001b[0m\u001b[1;33m\u001b[0m\u001b[0m\n\u001b[0m\u001b[0;32m    372\u001b[0m                 \u001b[1;31m#fin = getANSStoFilehandler([-180, 180], [-90, 90], 0, [datetime.date(1910,1,1), datetime.date(2010, 01, 16)], 9999999)\u001b[0m\u001b[1;33m\u001b[0m\u001b[1;33m\u001b[0m\u001b[0m\n\u001b[0;32m    373\u001b[0m \u001b[1;33m\u001b[0m\u001b[0m\n",
      "\u001b[1;32m/home/myoder/Documents/Research/yoder/globalETAS/yodiipy/ANSStools.py\u001b[0m in \u001b[0;36mgetANSStoFilehandler\u001b[1;34m(lon, lat, minMag, dates0, Nmax)\u001b[0m\n\u001b[0;32m    105\u001b[0m         \u001b[1;32melse\u001b[0m\u001b[1;33m:\u001b[0m\u001b[1;33m\u001b[0m\u001b[0m\n\u001b[0;32m    106\u001b[0m                 \u001b[0mbinary_post_data\u001b[0m \u001b[1;33m=\u001b[0m \u001b[0murllib\u001b[0m\u001b[1;33m.\u001b[0m\u001b[0mparse\u001b[0m\u001b[1;33m.\u001b[0m\u001b[0murlencode\u001b[0m\u001b[1;33m(\u001b[0m\u001b[0manssPrams\u001b[0m\u001b[1;33m)\u001b[0m\u001b[1;33m.\u001b[0m\u001b[0mencode\u001b[0m\u001b[1;33m(\u001b[0m\u001b[1;34m'ascii'\u001b[0m\u001b[1;33m)\u001b[0m\u001b[1;33m\u001b[0m\u001b[0m\n\u001b[1;32m--> 107\u001b[1;33m                 \u001b[0mf\u001b[0m \u001b[1;33m=\u001b[0m \u001b[0murllib\u001b[0m\u001b[1;33m.\u001b[0m\u001b[0mrequest\u001b[0m\u001b[1;33m.\u001b[0m\u001b[0murlopen\u001b[0m\u001b[1;33m(\u001b[0m\u001b[1;34m'http://www.ncedc.org/cgi-bin/catalog-search2.pl'\u001b[0m\u001b[1;33m,\u001b[0m \u001b[0mbinary_post_data\u001b[0m \u001b[1;33m)\u001b[0m\u001b[1;33m\u001b[0m\u001b[0m\n\u001b[0m\u001b[0;32m    108\u001b[0m         \u001b[1;31m#\u001b[0m\u001b[1;33m\u001b[0m\u001b[1;33m\u001b[0m\u001b[0m\n\u001b[0;32m    109\u001b[0m         \u001b[1;31m# we might return f, a string of f, or maybe a list of lines from f. we'll work that out shortly...\u001b[0m\u001b[1;33m\u001b[0m\u001b[1;33m\u001b[0m\u001b[0m\n",
      "\u001b[1;32m/home/myoder/anaconda3/lib/python3.5/urllib/request.py\u001b[0m in \u001b[0;36murlopen\u001b[1;34m(url, data, timeout, cafile, capath, cadefault, context)\u001b[0m\n\u001b[0;32m    160\u001b[0m     \u001b[1;32melse\u001b[0m\u001b[1;33m:\u001b[0m\u001b[1;33m\u001b[0m\u001b[0m\n\u001b[0;32m    161\u001b[0m         \u001b[0mopener\u001b[0m \u001b[1;33m=\u001b[0m \u001b[0m_opener\u001b[0m\u001b[1;33m\u001b[0m\u001b[0m\n\u001b[1;32m--> 162\u001b[1;33m     \u001b[1;32mreturn\u001b[0m \u001b[0mopener\u001b[0m\u001b[1;33m.\u001b[0m\u001b[0mopen\u001b[0m\u001b[1;33m(\u001b[0m\u001b[0murl\u001b[0m\u001b[1;33m,\u001b[0m \u001b[0mdata\u001b[0m\u001b[1;33m,\u001b[0m \u001b[0mtimeout\u001b[0m\u001b[1;33m)\u001b[0m\u001b[1;33m\u001b[0m\u001b[0m\n\u001b[0m\u001b[0;32m    163\u001b[0m \u001b[1;33m\u001b[0m\u001b[0m\n\u001b[0;32m    164\u001b[0m \u001b[1;32mdef\u001b[0m \u001b[0minstall_opener\u001b[0m\u001b[1;33m(\u001b[0m\u001b[0mopener\u001b[0m\u001b[1;33m)\u001b[0m\u001b[1;33m:\u001b[0m\u001b[1;33m\u001b[0m\u001b[0m\n",
      "\u001b[1;32m/home/myoder/anaconda3/lib/python3.5/urllib/request.py\u001b[0m in \u001b[0;36mopen\u001b[1;34m(self, fullurl, data, timeout)\u001b[0m\n\u001b[0;32m    469\u001b[0m         \u001b[1;32mfor\u001b[0m \u001b[0mprocessor\u001b[0m \u001b[1;32min\u001b[0m \u001b[0mself\u001b[0m\u001b[1;33m.\u001b[0m\u001b[0mprocess_response\u001b[0m\u001b[1;33m.\u001b[0m\u001b[0mget\u001b[0m\u001b[1;33m(\u001b[0m\u001b[0mprotocol\u001b[0m\u001b[1;33m,\u001b[0m \u001b[1;33m[\u001b[0m\u001b[1;33m]\u001b[0m\u001b[1;33m)\u001b[0m\u001b[1;33m:\u001b[0m\u001b[1;33m\u001b[0m\u001b[0m\n\u001b[0;32m    470\u001b[0m             \u001b[0mmeth\u001b[0m \u001b[1;33m=\u001b[0m \u001b[0mgetattr\u001b[0m\u001b[1;33m(\u001b[0m\u001b[0mprocessor\u001b[0m\u001b[1;33m,\u001b[0m \u001b[0mmeth_name\u001b[0m\u001b[1;33m)\u001b[0m\u001b[1;33m\u001b[0m\u001b[0m\n\u001b[1;32m--> 471\u001b[1;33m             \u001b[0mresponse\u001b[0m \u001b[1;33m=\u001b[0m \u001b[0mmeth\u001b[0m\u001b[1;33m(\u001b[0m\u001b[0mreq\u001b[0m\u001b[1;33m,\u001b[0m \u001b[0mresponse\u001b[0m\u001b[1;33m)\u001b[0m\u001b[1;33m\u001b[0m\u001b[0m\n\u001b[0m\u001b[0;32m    472\u001b[0m \u001b[1;33m\u001b[0m\u001b[0m\n\u001b[0;32m    473\u001b[0m         \u001b[1;32mreturn\u001b[0m \u001b[0mresponse\u001b[0m\u001b[1;33m\u001b[0m\u001b[0m\n",
      "\u001b[1;32m/home/myoder/anaconda3/lib/python3.5/urllib/request.py\u001b[0m in \u001b[0;36mhttp_response\u001b[1;34m(self, request, response)\u001b[0m\n\u001b[0;32m    579\u001b[0m         \u001b[1;32mif\u001b[0m \u001b[1;32mnot\u001b[0m \u001b[1;33m(\u001b[0m\u001b[1;36m200\u001b[0m \u001b[1;33m<=\u001b[0m \u001b[0mcode\u001b[0m \u001b[1;33m<\u001b[0m \u001b[1;36m300\u001b[0m\u001b[1;33m)\u001b[0m\u001b[1;33m:\u001b[0m\u001b[1;33m\u001b[0m\u001b[0m\n\u001b[0;32m    580\u001b[0m             response = self.parent.error(\n\u001b[1;32m--> 581\u001b[1;33m                 'http', request, response, code, msg, hdrs)\n\u001b[0m\u001b[0;32m    582\u001b[0m \u001b[1;33m\u001b[0m\u001b[0m\n\u001b[0;32m    583\u001b[0m         \u001b[1;32mreturn\u001b[0m \u001b[0mresponse\u001b[0m\u001b[1;33m\u001b[0m\u001b[0m\n",
      "\u001b[1;32m/home/myoder/anaconda3/lib/python3.5/urllib/request.py\u001b[0m in \u001b[0;36merror\u001b[1;34m(self, proto, *args)\u001b[0m\n\u001b[0;32m    507\u001b[0m         \u001b[1;32mif\u001b[0m \u001b[0mhttp_err\u001b[0m\u001b[1;33m:\u001b[0m\u001b[1;33m\u001b[0m\u001b[0m\n\u001b[0;32m    508\u001b[0m             \u001b[0margs\u001b[0m \u001b[1;33m=\u001b[0m \u001b[1;33m(\u001b[0m\u001b[0mdict\u001b[0m\u001b[1;33m,\u001b[0m \u001b[1;34m'default'\u001b[0m\u001b[1;33m,\u001b[0m \u001b[1;34m'http_error_default'\u001b[0m\u001b[1;33m)\u001b[0m \u001b[1;33m+\u001b[0m \u001b[0morig_args\u001b[0m\u001b[1;33m\u001b[0m\u001b[0m\n\u001b[1;32m--> 509\u001b[1;33m             \u001b[1;32mreturn\u001b[0m \u001b[0mself\u001b[0m\u001b[1;33m.\u001b[0m\u001b[0m_call_chain\u001b[0m\u001b[1;33m(\u001b[0m\u001b[1;33m*\u001b[0m\u001b[0margs\u001b[0m\u001b[1;33m)\u001b[0m\u001b[1;33m\u001b[0m\u001b[0m\n\u001b[0m\u001b[0;32m    510\u001b[0m \u001b[1;33m\u001b[0m\u001b[0m\n\u001b[0;32m    511\u001b[0m \u001b[1;31m# XXX probably also want an abstract factory that knows when it makes\u001b[0m\u001b[1;33m\u001b[0m\u001b[1;33m\u001b[0m\u001b[0m\n",
      "\u001b[1;32m/home/myoder/anaconda3/lib/python3.5/urllib/request.py\u001b[0m in \u001b[0;36m_call_chain\u001b[1;34m(self, chain, kind, meth_name, *args)\u001b[0m\n\u001b[0;32m    441\u001b[0m         \u001b[1;32mfor\u001b[0m \u001b[0mhandler\u001b[0m \u001b[1;32min\u001b[0m \u001b[0mhandlers\u001b[0m\u001b[1;33m:\u001b[0m\u001b[1;33m\u001b[0m\u001b[0m\n\u001b[0;32m    442\u001b[0m             \u001b[0mfunc\u001b[0m \u001b[1;33m=\u001b[0m \u001b[0mgetattr\u001b[0m\u001b[1;33m(\u001b[0m\u001b[0mhandler\u001b[0m\u001b[1;33m,\u001b[0m \u001b[0mmeth_name\u001b[0m\u001b[1;33m)\u001b[0m\u001b[1;33m\u001b[0m\u001b[0m\n\u001b[1;32m--> 443\u001b[1;33m             \u001b[0mresult\u001b[0m \u001b[1;33m=\u001b[0m \u001b[0mfunc\u001b[0m\u001b[1;33m(\u001b[0m\u001b[1;33m*\u001b[0m\u001b[0margs\u001b[0m\u001b[1;33m)\u001b[0m\u001b[1;33m\u001b[0m\u001b[0m\n\u001b[0m\u001b[0;32m    444\u001b[0m             \u001b[1;32mif\u001b[0m \u001b[0mresult\u001b[0m \u001b[1;32mis\u001b[0m \u001b[1;32mnot\u001b[0m \u001b[1;32mNone\u001b[0m\u001b[1;33m:\u001b[0m\u001b[1;33m\u001b[0m\u001b[0m\n\u001b[0;32m    445\u001b[0m                 \u001b[1;32mreturn\u001b[0m \u001b[0mresult\u001b[0m\u001b[1;33m\u001b[0m\u001b[0m\n",
      "\u001b[1;32m/home/myoder/anaconda3/lib/python3.5/urllib/request.py\u001b[0m in \u001b[0;36mhttp_error_default\u001b[1;34m(self, req, fp, code, msg, hdrs)\u001b[0m\n\u001b[0;32m    587\u001b[0m \u001b[1;32mclass\u001b[0m \u001b[0mHTTPDefaultErrorHandler\u001b[0m\u001b[1;33m(\u001b[0m\u001b[0mBaseHandler\u001b[0m\u001b[1;33m)\u001b[0m\u001b[1;33m:\u001b[0m\u001b[1;33m\u001b[0m\u001b[0m\n\u001b[0;32m    588\u001b[0m     \u001b[1;32mdef\u001b[0m \u001b[0mhttp_error_default\u001b[0m\u001b[1;33m(\u001b[0m\u001b[0mself\u001b[0m\u001b[1;33m,\u001b[0m \u001b[0mreq\u001b[0m\u001b[1;33m,\u001b[0m \u001b[0mfp\u001b[0m\u001b[1;33m,\u001b[0m \u001b[0mcode\u001b[0m\u001b[1;33m,\u001b[0m \u001b[0mmsg\u001b[0m\u001b[1;33m,\u001b[0m \u001b[0mhdrs\u001b[0m\u001b[1;33m)\u001b[0m\u001b[1;33m:\u001b[0m\u001b[1;33m\u001b[0m\u001b[0m\n\u001b[1;32m--> 589\u001b[1;33m         \u001b[1;32mraise\u001b[0m \u001b[0mHTTPError\u001b[0m\u001b[1;33m(\u001b[0m\u001b[0mreq\u001b[0m\u001b[1;33m.\u001b[0m\u001b[0mfull_url\u001b[0m\u001b[1;33m,\u001b[0m \u001b[0mcode\u001b[0m\u001b[1;33m,\u001b[0m \u001b[0mmsg\u001b[0m\u001b[1;33m,\u001b[0m \u001b[0mhdrs\u001b[0m\u001b[1;33m,\u001b[0m \u001b[0mfp\u001b[0m\u001b[1;33m)\u001b[0m\u001b[1;33m\u001b[0m\u001b[0m\n\u001b[0m\u001b[0;32m    590\u001b[0m \u001b[1;33m\u001b[0m\u001b[0m\n\u001b[0;32m    591\u001b[0m \u001b[1;32mclass\u001b[0m \u001b[0mHTTPRedirectHandler\u001b[0m\u001b[1;33m(\u001b[0m\u001b[0mBaseHandler\u001b[0m\u001b[1;33m)\u001b[0m\u001b[1;33m:\u001b[0m\u001b[1;33m\u001b[0m\u001b[0m\n",
      "\u001b[1;31mHTTPError\u001b[0m: HTTP Error 403: FORBIDDEN"
     ]
    }
   ],
   "source": [
    "#\n",
    "cat_prelim = atp.catfromANSS(lon=lons, lat=lats, minMag=m_c, dates0=[t_now-dtm.timedelta(days=cat_len), t_now], \n",
    "                             Nmax=None, fout=None, rec_array=True)"
   ]
  },
  {
   "cell_type": "code",
   "execution_count": null,
   "metadata": {
    "collapsed": true
   },
   "outputs": [],
   "source": [
    "#\n",
    "f_dates = [x.astype(float) for x in cat_prelim['event_date']]\n",
    "delta_ts = [x-f_dates[k] for k,x in enumerate(f_dates[1:])]"
   ]
  },
  {
   "cell_type": "code",
   "execution_count": null,
   "metadata": {
    "collapsed": false
   },
   "outputs": [],
   "source": [
    "#print(cat_prelim.dtype.names)\n",
    "d = cat_prelim['event_date'][0]\n",
    "d.astype(dtm.datetime)\n",
    "#\n",
    "from mpl_toolkits.basemap import Basemap as Basemap\n",
    "#\n",
    "def basic_basemap(fignum=0, ax=None, fig_size=(6.,6.), map_resolution='i', map_projection='cyl', d_lon_range=None,\n",
    "                  d_lat_range=None, lats=None, lons=None ):\n",
    "\t'''\n",
    "\t# plot contours over a map.\n",
    "\t# TODO: move a version of this to ANSS_tools, or another support module meant to be used with ANSS_tools\n",
    "    # to be used as a standard diagnostic/pre-evaluation script.\n",
    "\t'''\n",
    "\t#\n",
    "\t# first, get contours:\n",
    "\t#etas_contours = self.calc_etas_contours(n_contours=n_contours, fignum=fignum, contour_fig_file=contour_fig_file, contour_kml_file=contour_kml_file, kml_contours_bottom=kml_contours_bottom, kml_contours_top=kml_contours_top, alpha_kml=alpha_kml, refresh_etas=refresh_etas)\n",
    "\t#\n",
    "\t# now, clear away the figure and set up the basemap...\n",
    "\t#\n",
    "\td_lon_range = (d_lon_range or 1.)\n",
    "\td_lat_range = (d_lat_range or 1.)\n",
    "\t#\n",
    "    # TODO: sort out the default behavior\n",
    "\tif ax==None:\n",
    "\t\tfignum = (fignum or 0)\n",
    "\t\tax = plt.gca()\n",
    "\t\tfg = plt.figure(fignum, fig_size)\n",
    "\t\tplt.clf()\n",
    "\t#\n",
    "\tcntr = [numpy.mean(lons), numpy.mean(lats)]\n",
    "\t#\n",
    "\tcm = Basemap(llcrnrlon=lons[0], llcrnrlat=lats[0], urcrnrlon=lons[1], urcrnrlat=lats[1],\n",
    "                 resolution=map_resolution, projection=map_projection, lon_0=cntr[0], lat_0=cntr[1], ax=ax)\n",
    "\t#\n",
    "\t#cm.drawlsmask(land_color='0.8', ocean_color='b', resolution=map_resolution)\n",
    "\tcm.drawcoastlines(color='gray', zorder=1)\n",
    "\tcm.drawcountries(color='black', zorder=1)\n",
    "\tcm.drawstates(color='black', zorder=1)\n",
    "\tcm.drawrivers(color='blue', zorder=1)\n",
    "\tcm.fillcontinents(color='beige', lake_color='blue', zorder=0)\n",
    "\t# drawlsmask(land_color='0.8', ocean_color='w', lsmask=None, lsmask_lons=None, lsmask_lats=None, lakes=True, resolution='l', grid=5, **kwargs)\n",
    "\t#cm.drawlsmask(land_color='0.8', ocean_color='c', lsmask=None, lsmask_lons=None, lsmask_lats=None, lakes=True, resolution=self.mapres, grid=5)\n",
    "\t#\n",
    "\t#\n",
    "\tcm.drawmeridians(numpy.arange(int(lons[0]/d_lon_range)*d_lon_range, lons[1], d_lon_range),\n",
    "                     color='k', labels=[0,0,1,1])\n",
    "\tcm.drawparallels(numpy.arange(int(lats[0]/d_lat_range)*d_lat_range, lats[1], d_lat_range),\n",
    "                     color='k', labels=[1, 1, 0, 0])\n",
    "\t#\n",
    "\treturn cm\n"
   ]
  },
  {
   "cell_type": "code",
   "execution_count": null,
   "metadata": {
    "collapsed": false
   },
   "outputs": [],
   "source": [
    "fg  = plt.figure(figsize=(14,6))\n",
    "ax0 = fg.add_axes([.1,.1,.35,.38])\n",
    "ax1 = fg.add_axes([.1,.55,.35,.38], sharex=ax0)\n",
    "ax2 = fg.add_axes([.5,.1, .35,.85])\n",
    "#\n",
    "cm = basic_basemap(fignum=None, ax=ax2, fig_size=None, map_resolution='i', map_projection='cyl', d_lon_range=None,\n",
    "                  d_lat_range=None, lats=lats, lons=lons )\n",
    "#\n",
    "# mags:\n",
    "ax0.vlines([x.astype(dtm.datetime) for x in cat_prelim['event_date']], ymin=[m_c-.5 for _ in cat_prelim], \n",
    "           ymax=cat_prelim['mag'], colors='b')\n",
    "ax1.plot([x.astype(dtm.datetime) for x in cat_prelim['event_date'][1:]], delta_ts, ls='-', lw=2, marker='.')\n",
    "cm0 = basic_basemap(lats=lats, lons=lons, map_resolution='i', map_projection='cyl', d_lon_range=None,\n",
    "                  d_lat_range=None)\n",
    "for ev in cat_prelim:\n",
    "    cm0.scatter(ev['lon'], ev['lat'], marker='o', c='none', edgecolor='b', s=2.*ev['mag'])\n",
    "#\n",
    "#fg1 = plt.figure()\n",
    "#ax3=plt.gca()\n",
    "ax3 = fg.add_axes([.4,.7,.2, .3])\n",
    "ax3.plot(sorted(cat_prelim['mag']), numpy.log(numpy.linspace(1., 0., len(cat_prelim))), ls='-', marker='.')\n",
    "#ax0.set_xlabel('Event time $t$')\n",
    "ax0.set_ylabel('Event Magnitude $m$')\n",
    "ax1.set_ylabel('Interval $\\Delta t$')\n",
    "#"
   ]
  },
  {
   "cell_type": "code",
   "execution_count": null,
   "metadata": {
    "collapsed": false
   },
   "outputs": [],
   "source": [
    "#\n",
    "etas_range_factor=5.\n",
    "etas_range_padding=.5\n",
    "etas = globalETAS.ETAS_mpp(n_cpu=mpp.cpu_count(), lats=[ev_lat-d_lat-.5, ev_lat+d_lat], lons=[ev_lon-d_lon-.5,\n",
    "                    ev_lon+d_lon], mc=m_c, transform_ratio_max=5., etas_range_factor=etas_range_factor,\n",
    "                           etas_range_padding=etas_range_padding, t_now=t_now)\n",
    "#"
   ]
  },
  {
   "cell_type": "code",
   "execution_count": null,
   "metadata": {
    "collapsed": false
   },
   "outputs": [],
   "source": [
    "# get mainshock:\n",
    "for ev in reversed(etas.catalog):\n",
    "    if ev['mag']>6.:\n",
    "        nz_mainshock = ev\n",
    "        break\n",
    "\n",
    "plt.figure(0, figsize=(10,8))\n",
    "plt.clf()\n",
    "ax=plt.gca()\n",
    "etas.make_etas_contour_map(ax=ax, n_contours=25)\n",
    "#\n",
    "x,y = etas.cm(nz_mainshock['lon'], nz_mainshock['lat'])\n",
    "etas.cm.scatter([x], [y], marker='o', edgecolor='b', facecolor='none', s=100)\n",
    "#\n",
    "out_path = '/home/myoder/Dropbox/Research/etas/japan_oct_2016/japan_oct_2016_{}'.format(t_now)\n",
    "out_fname = 'japan_oct_2016_{}'.format(t_now)\n",
    "if not os.path.isdir(out_path): os.makedirs(out_path)\n",
    "#\n",
    "etas.export_kml(os.path.join(out_path, '{}.kml'.format(out_fname)))\n",
    "etas.export_xyz(os.path.join(out_path, '{}.xyz'.format(out_fname)))\n",
    "plt.savefig((os.path.join(out_path, '{}.png'.format(out_fname))))"
   ]
  },
  {
   "cell_type": "markdown",
   "metadata": {},
   "source": [
    "### Brute-force ETAS:\n",
    "for relatively small ETAS, we usually run the r-tree model so that it (usually) covers most of the geospatial domain anyway. we might as well just run the brute, loop-loop model; we would skip the overhead of the indexing."
   ]
  },
  {
   "cell_type": "code",
   "execution_count": null,
   "metadata": {
    "collapsed": false
   },
   "outputs": [],
   "source": [
    "# can we run a brute-force (loop-loop) ETAS?\n",
    "etas_brute = globalETAS.ETAS_mpp(n_cpu=mpp.cpu_count(), lats=[ev_lat-d_lat, ev_lat+d_lat], lons=[ev_lon-d_lon,\n",
    "                    ev_lon+d_lon], mc=m_c, transform_ratio_max=5., t_now=t_now, worker_class=globalETAS.ETAS_brute)"
   ]
  },
  {
   "cell_type": "code",
   "execution_count": null,
   "metadata": {
    "collapsed": false
   },
   "outputs": [],
   "source": [
    "# get mainshock:\n",
    "for ev in reversed(etas_brute.catalog):\n",
    "    if ev['mag']>6.:\n",
    "        nz_mainshock = ev\n",
    "        break\n",
    "\n",
    "plt.figure(0, figsize=(10,8))\n",
    "plt.clf()\n",
    "ax=plt.gca()\n",
    "etas_brute.make_etas_contour_map(ax=ax, n_contours=25)\n",
    "#\n",
    "x,y = etas_brute.cm(nz_mainshock['lon'], nz_mainshock['lat'])\n",
    "etas_brute.cm.scatter([x], [y], marker='o', edgecolor='b', facecolor='none', s=100)\n",
    "#\n",
    "# out_path = '/home/myoder/Dropbox/Research/etas/japan_oct_2016/japan_oct_2016_{}'.format(t_now)\n",
    "# out_fname = 'japan_oct_2016_{}'.format(t_now)\n",
    "# if not os.path.isdir(out_path): os.makedirs(out_path)\n",
    "# #\n",
    "# etas_brute.export_kml(os.path.join(out_path, '{}.kml'.format(out_fname)))\n",
    "# etas_brute.export_xyz(os.path.join(out_path, '{}.xyz'.format(out_fname)))\n",
    "# plt.savefig((os.path.join(out_path, '{}.png'.format(out_fname))))"
   ]
  },
  {
   "cell_type": "markdown",
   "metadata": {},
   "source": [
    "### run another etas?"
   ]
  },
  {
   "cell_type": "raw",
   "metadata": {
    "collapsed": false,
    "scrolled": true
   },
   "source": [
    "#2016-09-03 12:02:44 (UTC)\n",
    "# 36.429°N 96.923°W\n",
    "\n",
    "d_lat=4.\n",
    "d_lon=4.\n",
    "ev_lon, ev_lat = (-96.923, 36.431)\n",
    "t_now = dtm.datetime.now(pytz.timezone('UTC'))\n",
    "\n",
    "\n",
    "etas_us = globalETAS.ETAS_mpp(n_cpu=2*mpp.cpu_count(), lats=[ev_lat-d_lat, ev_lat+d_lat], lons=[ev_lon-d_lon, ev_lon+d_lon], mc=1.5,\n",
    "                           transform_ratio_max=5., etas_range_factor=15.0, etas_range_padding=2.5, t_now=t_now,\n",
    "                              cat_len=3650)\n",
    "\n"
   ]
  },
  {
   "cell_type": "raw",
   "metadata": {
    "collapsed": false,
    "scrolled": false
   },
   "source": [
    "\n",
    "out_path = '/home/myoder/Dropbox/Research/etas/japan_oct_2016/japan_2016_oct_{}'.format(etas_us.t_now)\n",
    "out_fname = 'japan_2016_oct_{}'.format(etas_us.t_now)\n",
    "if not os.path.isdir(out_path): os.makedirs(out_path)\n",
    "\n",
    "fg = plt.figure(0, figsize=(12,10))\n",
    "etas_us.make_etas_contour_map(fignum=0, n_contours=25)\n",
    "\n",
    "x,y = etas_us.cm(-96.923, 36.429)\n",
    "etas_us.cm.scatter([x], [y], latlon=False, marker='o', facecolor='none', edgecolor='b', s=100, lw=2.)\n",
    "\n",
    "plt.title('ETAS to: {}, {} days\\n\\n'.format(etas_us.t_now, etas_us.cat_len))\n",
    "\n",
    "etas_us.export_kml(os.path.join(out_path, '{}.kml'.format(out_fname)))\n",
    "etas_us.export_xyz(os.path.join(out_path, '{}.xyz'.format(out_fname)))\n",
    "fg.savefig((os.path.join(out_path, '{}.png'.format(out_fname))))"
   ]
  },
  {
   "cell_type": "raw",
   "metadata": {
    "collapsed": false
   },
   "source": [
    "for rw in etas_us.catalog:\n",
    "    if rw['mag']>5.0: print(rw)"
   ]
  },
  {
   "cell_type": "raw",
   "metadata": {
    "collapsed": false
   },
   "source": [
    "print('lats: ', min(etas_us.catalog['lat']), max(etas_us.catalog['lat']))\n",
    "print('lons: ', min(etas_us.catalog['lon']), max(etas_us.catalog['lon']))\n",
    "print('mags: ', min(etas_us.catalog['mag']), max(etas_us.catalog['mag']))\n",
    "\n",
    "fg = plt.figure(figsize=(8,6))\n",
    "ax_u = fg.add_axes([.1,.5,.8,.35]) \n",
    "ax_l = fg.add_axes([.1,.1,.8,.35], sharex=ax_u)\n",
    "#\n",
    "ax_u.set_yscale('log')\n",
    "#\n",
    "ax_l.plot(etas_us.catalog['event_date'].astype(dtm.datetime), etas_us.catalog['mag'], '.-' )\n",
    "f_dts = mpd.date2num(etas_us.catalog['event_date'].astype(dtm.datetime))\n",
    "dts = [x-f_dts[j] for j,x in enumerate(f_dts[1:])]\n",
    "ax_u.plot(etas_us.catalog['event_date'].astype(dtm.datetime)[1:], dts)\n"
   ]
  },
  {
   "cell_type": "raw",
   "metadata": {
    "collapsed": false
   },
   "source": [
    "#etas_us2 = global_etas_auto.auto_etas(lat_center = -95., lon_center=40., d_lat=_0=30., d_lon_0=15.)\n",
    "\n",
    "#import ANSStools\n",
    "\n",
    "#CC = ANSStools.catfromANSS(lat=[32.4, 40.4], lon=[-120., 60.], minMag=4.5,\n",
    "#                           dates0=[dtm.datetime(2016,8,1, tzinfo=pytz.timezone('UTC')), dtm.datetime.now(pytz.timezone('UTC')) ])\n"
   ]
  },
  {
   "cell_type": "raw",
   "metadata": {
    "collapsed": false
   },
   "source": [
    "#len(CC)"
   ]
  },
  {
   "cell_type": "raw",
   "metadata": {
    "collapsed": false
   },
   "source": [
    "#print(CC)"
   ]
  },
  {
   "cell_type": "raw",
   "metadata": {
    "collapsed": false
   },
   "source": [
    "etas_us2 = globalETAS.ETAS_mpp(n_cpu=mpp.cpu_count(), lats=[ev_lat-d_lat, ev_lat+d_lat], lons=[ev_lon-d_lon, ev_lon+d_lon],\n",
    "                              mc=4.5,\n",
    "                           transform_ratio_max=5., etas_range_factor=15.0, etas_range_padding=1., t_now=t_now, cat_len=10)\n"
   ]
  },
  {
   "cell_type": "raw",
   "metadata": {
    "collapsed": false
   },
   "source": [
    "fg=plt.figure(0, figsize=(12,10))\n",
    "etas_us2.make_etas_contour_map(fignum=0, n_contours=25)\n",
    "\n",
    "#y = 36.429\n",
    "#x = -96.923\n",
    "x,y = etas_us2.cm(-96.923, 36.429)\n",
    "etas_us2.cm.scatter([x], [y], latlon=False, marker='o', facecolor='none', edgecolor='b', s=100, lw=2.)"
   ]
  },
  {
   "cell_type": "code",
   "execution_count": null,
   "metadata": {
    "collapsed": false
   },
   "outputs": [],
   "source": []
  },
  {
   "cell_type": "code",
   "execution_count": null,
   "metadata": {
    "collapsed": true
   },
   "outputs": [],
   "source": []
  }
 ],
 "metadata": {
  "kernelspec": {
   "display_name": "Python 3",
   "language": "python",
   "name": "python3"
  },
  "language_info": {
   "codemirror_mode": {
    "name": "ipython",
    "version": 3
   },
   "file_extension": ".py",
   "mimetype": "text/x-python",
   "name": "python",
   "nbconvert_exporter": "python",
   "pygments_lexer": "ipython3",
   "version": "3.5.1"
  }
 },
 "nbformat": 4,
 "nbformat_minor": 0
}
