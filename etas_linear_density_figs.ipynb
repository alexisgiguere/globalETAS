{
 "cells": [
  {
   "cell_type": "code",
   "execution_count": 4,
   "metadata": {
    "collapsed": false
   },
   "outputs": [],
   "source": [
    "#\n",
    "%load_ext autoreload\n",
    "%autoreload 2\n",
    "%matplotlib inline\n",
    "\n",
    "import datetime as dtm\n",
    "import matplotlib.dates as mpd\n",
    "import pytz\n",
    "tzutc = pytz.timezone('UTC')\n",
    "\n",
    "#import operator\n",
    "import math\n",
    "import random\n",
    "import numpy\n",
    "import scipy\n",
    "import scipy.optimize as spo\n",
    "import itertools\n",
    "import sys\n",
    "#import scipy.optimize as spo\n",
    "import os\n",
    "import operator\n",
    "#from PIL import Image as ipp\n",
    "import multiprocessing as mpp\n",
    "#\n",
    "import matplotlib\n",
    "import matplotlib.pyplot as plt\n",
    "import matplotlib as mpl\n",
    "from mpl_toolkits.mplot3d import Axes3D\n",
    "#import functools\n",
    "#\n",
    "#import shapely.geometry as sgp\n",
    "#\n",
    "from mpl_toolkits.basemap import Basemap as Basemap\n",
    "from matplotlib.backends.backend_agg import FigureCanvasAgg as FigureCanvas\n",
    "from geographiclib.geodesic import Geodesic as ggp\n",
    "#\n",
    "#\n",
    "#import ANSStools as atp\n",
    "from common import ANSStools as atp\n",
    "#import bindex\n",
    "import contours2kml\n",
    "import globalETAS as gep\n",
    "from eq_params import *\n",
    "import roc_generic            # we'll eventually want to move to a new library of roc tools.\n",
    "import random\n",
    "#\n",
    "#colors_ =  mpl.rcParams['axes.color_cycle']\n",
    "colors_ = ['b', 'g', 'r', 'c', 'm', 'y', 'k']\t\t# make sure these are correct...\n",
    "#\n",
    "emc = {'lon':32.13, 'lat':-115.30, 'event_date':dtm.datetime(2010,4,4,22,40,41, tzinfo=pytz.timezone('UTC'))}\n"
   ]
  },
  {
   "cell_type": "code",
   "execution_count": 5,
   "metadata": {
    "collapsed": true
   },
   "outputs": [],
   "source": [
    "def make_LD_figure(lats=[-31.], lons=[32.], lons=[-115., -113.],\n",
    "                   to_dt=None, dt_0=30,\n",
    "                   mc=2.5, d_lambda=1.76, dm=1.0, Ds=[1.0, 2.0]):\n",
    "    '''\n",
    "    # we want a liner density vs ETAS estimated linear densit figure.\n",
    "    # first, get a catalog. find the biggest event in the catalog, plot linear distance from that event.\n",
    "    # then, figure out the ETAS paramaters and see what we get and show for the domain 1. < D < 2.\n",
    "    '''\n",
    "    #\n",
    "    #eqcat = atp.catfromANSS(lon=lons, lat=lats, minMag=cm, dates0=dates, Nmax=None, fout=None, rec_array=True)\n",
    "    #eqcat.sort(order='event_date')\n",
    "    # auto_cat(lon_center=None, lat_center=None, d_lat_0=.25, d_lon_0=.5, dt_0=10,  mc=2.5, mc_0=4.5, to_dt=None, catlen=5.0*365.0 range_factor=5., rec_array=True, **kwargs)\n",
    "    eq_cat_params = atp.auto_cat_params(lat_center=emc['lat'], lon_center=emc['lon'],\n",
    "                                        d_lat=.5, d_lon=.5, dt_0=dt_0, mc_0=5.0, \n",
    "                                        to_dt=to_dt)\n",
    "    eqcat = atp.catfromANSS(lat=eq_cat_params['lat'], lon=eq_cat_params['lon'], minMag=mc, \n",
    "                            dates0=[eq_cat_params['mainshock_date'], eq_cat_params['mainshock_date'] + dtm.time_delta(days=cat_len_plus)],\n",
    "                            fout=None, rec_array=True)\n",
    "    #\n",
    "    # find the biggest event; dump everything before that.\n",
    "    #eqcat.sort(order='mag')   # ... except that we want the index too. so let's just spin it:\n",
    "    mainshock = eqcat[0]\n",
    "    mainshock_index = 0\n",
    "    for j,rw in eqcat:\n",
    "        if rw['mag']>mainshock['mag']: mainshock\n",
    "        #\n",
    "    #\n",
    "    eqcat.sort(order='event_date')\n",
    "    #\n",
    "    # now, we need a distance formula. this can be using geographiclib or spherical dists. we could hook up some\n",
    "    # of the class structures in the various etas codes...\n",
    "    #dists = []\n",
    "    #for j,ev in enumerate(eqcat):\n",
    "    #    g1=ggp.WGS84.Inverse(self.mainshock['lat'], self.mainshock['lon'], rw['y'], rw['x'])\n",
    "    #    r=g1['s12']/1000.)\n",
    "    #\n",
    "    dists = [[j,ggp.WGS84.Inverse(self.mainshock['lat'], self.mainshock['lon'], rw['y'], rw['x'])['s12']/1000.] for j,ev in enumerate(eqcat)]\n",
    "    #\n",
    "    dists2 =[[k,j,r] for k, (j,r) in enumerate(sorted(dists, key=lambda rw: rw[1]))]\n",
    "    plt.figure()\n",
    "    plt.plot(*zip(*[[r,k] for k,j,r in dists2]), '.-')\n",
    "    "
   ]
  },
  {
   "cell_type": "code",
   "execution_count": null,
   "metadata": {
    "collapsed": true
   },
   "outputs": [],
   "source": []
  },
  {
   "cell_type": "code",
   "execution_count": null,
   "metadata": {
    "collapsed": true
   },
   "outputs": [],
   "source": []
  }
 ],
 "metadata": {
  "kernelspec": {
   "display_name": "Python 3",
   "language": "python",
   "name": "python3"
  },
  "language_info": {
   "codemirror_mode": {
    "name": "ipython",
    "version": 3
   },
   "file_extension": ".py",
   "mimetype": "text/x-python",
   "name": "python",
   "nbconvert_exporter": "python",
   "pygments_lexer": "ipython3",
   "version": "3.5.1"
  }
 },
 "nbformat": 4,
 "nbformat_minor": 0
}
