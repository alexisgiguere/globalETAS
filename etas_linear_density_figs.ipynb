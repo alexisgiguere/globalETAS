{
 "cells": [
  {
   "cell_type": "code",
   "execution_count": 91,
   "metadata": {
    "collapsed": false
   },
   "outputs": [
    {
     "name": "stdout",
     "output_type": "stream",
     "text": [
      "The autoreload extension is already loaded. To reload it, use:\n",
      "  %reload_ext autoreload\n"
     ]
    }
   ],
   "source": [
    "#\n",
    "%load_ext autoreload\n",
    "%autoreload 2\n",
    "%matplotlib inline\n",
    "\n",
    "import datetime as dtm\n",
    "import matplotlib.dates as mpd\n",
    "import pytz\n",
    "tzutc = pytz.timezone('UTC')\n",
    "\n",
    "#import operator\n",
    "import math\n",
    "import random\n",
    "import numpy\n",
    "import scipy\n",
    "import scipy.optimize as spo\n",
    "import itertools\n",
    "import sys\n",
    "#import scipy.optimize as spo\n",
    "import os\n",
    "import operator\n",
    "#from PIL import Image as ipp\n",
    "import multiprocessing as mpp\n",
    "#\n",
    "import matplotlib\n",
    "import matplotlib.pyplot as plt\n",
    "import matplotlib as mpl\n",
    "from mpl_toolkits.mplot3d import Axes3D\n",
    "#import functools\n",
    "#\n",
    "#import shapely.geometry as sgp\n",
    "#\n",
    "from mpl_toolkits.basemap import Basemap as Basemap\n",
    "from matplotlib.backends.backend_agg import FigureCanvasAgg as FigureCanvas\n",
    "from geographiclib.geodesic import Geodesic as ggp\n",
    "#\n",
    "#\n",
    "#import ANSStools as atp\n",
    "from yodiipy import ANSStools as atp\n",
    "#import bindex\n",
    "import contours2kml\n",
    "import globalETAS as gep\n",
    "from eq_params import *\n",
    "#import roc_generic            # we'll eventually want to move to a new library of roc tools.\n",
    "import random\n",
    "#\n",
    "#colors_ =  mpl.rcParams['axes.color_cycle']\n",
    "colors_ = ['b', 'g', 'r', 'c', 'm', 'y', 'k']\t\t# make sure these are correct...\n",
    "#\n",
    "emc = {'lon':32.13, 'lat':-115.30, 'event_date':dtm.datetime(2010,4,4,22,40,41, tzinfo=pytz.timezone('UTC'))}\n",
    "nepal_epi_lon = 84.698\n",
    "nepal_epi_lat = 28.175\n"
   ]
  },
  {
   "cell_type": "code",
   "execution_count": 92,
   "metadata": {
    "collapsed": false
   },
   "outputs": [],
   "source": [
    "class LD_figure(object):\n",
    "    def __init__(self, lat_center=nepal_epi_lat, lon_center=nepal_epi_lon, d_lat_auto=.5, d_lon_auto=.5,\n",
    "                       to_dt=dtm.datetime(2015,4,30, tzinfo=pytz.timezone('UTC')), dt_0=30, mc=2.5,\n",
    "                 mc_auto=4.5, d_lambda=1.76, dm=1.0, Ds=[1.0, 2.0], cat_len_plus=250.):\n",
    "        '''\n",
    "        # we want a liner density vs ETAS estimated linear densit figure.\n",
    "        # first, get a catalog. find the biggest event in the catalog, plot linear distance from that event.\n",
    "        # then, figure out the ETAS paramaters and see what we get and show for the domain 1. < D < 2.\n",
    "        '''\n",
    "        #\n",
    "        #eqcat = atp.catfromANSS(lon=lons, lat=lats, minMag=cm, dates0=dates, Nmax=None, fout=None, rec_array=True)\n",
    "        #eqcat.sort(order='event_date')\n",
    "        # auto_cat(lon_center=None, lat_center=None, d_lat_0=.25, d_lon_0=.5, dt_0=10,  mc=2.5, mc_0=4.5, to_dt=None, catlen=5.0*365.0 range_factor=5., rec_array=True, **kwargs)\n",
    "        eq_cat_params = atp.auto_cat_params(lat_center=lat_center, lon_center=lon_center,\n",
    "                                            d_lat=d_lat_auto, d_lon=d_lon_auto, dt_0=dt_0, mc_0=mc_auto, \n",
    "                                            to_dt=to_dt, range_factor=5.)\n",
    "        print('eq_cat_params: ', eq_cat_params)\n",
    "        # r_val = mpd.num2date(mpd.datestr2num(date_in.astype(str)), tz=tz_out)\n",
    "        eqcat = atp.catfromANSS(lat=eq_cat_params['lat'], lon=eq_cat_params['lon'], \n",
    "                                minMag=mc, dates0=[dtm64_to_datetime(eq_cat_params['mainshock_date']), \n",
    "                                                   dtm64_to_datetime(eq_cat_params['mainshock_date']) + dtm.timedelta(days=cat_len_plus)],\n",
    "                                fout=None, rec_array=True)\n",
    "        #\n",
    "        # find the biggest event; dump everything before that.\n",
    "        #eqcat.sort(order='mag')   # ... except that we want the index too. so let's just spin it:\n",
    "        mainshock = eqcat[0]\n",
    "        mainshock_index = 0\n",
    "        for j,rw in enumerate(eqcat):\n",
    "            if rw['mag']>mainshock['mag']: mainshock\n",
    "            #\n",
    "        #\n",
    "        eqcat.sort(order='event_date')\n",
    "        #\n",
    "        # now, we need a distance formula. this can be using geographiclib or spherical dists. we could hook up some\n",
    "        # of the class structures in the various etas codes...\n",
    "        #dists = []\n",
    "        #for j,ev in enumerate(eqcat):\n",
    "        #    g1=ggp.WGS84.Inverse(self.mainshock['lat'], self.mainshock['lon'], rw['y'], rw['x'])\n",
    "        #    r=g1['s12']/1000.)\n",
    "        #\n",
    "        dists = [[j,ggp.WGS84.Inverse(mainshock['lat'], mainshock['lon'], ev['lon'], ev['lat'])['s12']/1000.] \n",
    "                 for j,ev in enumerate(eqcat)]\n",
    "        #\n",
    "        dists2 =[[k,j,r] for k, (j,r) in enumerate(sorted(dists, key=lambda rw: rw[1]))]\n",
    "        plt.figure()\n",
    "        plt.plot(*zip(*[[r,k] for k,j,r in dists2]), '.-')\n",
    "        #\n",
    "        self.__dict__.update(locals())\n",
    "\n",
    "# eventually, consolidate the generalized datetime-wrangler code.\n",
    "def dtm64_to_datetime(x, tz_out=pytz.timezone('UTC')):\n",
    "    if isinstance(x, dtm.datetime): return x\n",
    "    return  mpd.num2date(mpd.datestr2num(x.astype(str)), tz=tz_out)"
   ]
  },
  {
   "cell_type": "code",
   "execution_count": 93,
   "metadata": {
    "collapsed": false
   },
   "outputs": [
    {
     "name": "stdout",
     "output_type": "stream",
     "text": [
      "stuff:  28.175 84.698 0.5 0.25 4.5 2015-04-30 00:00:00+00:00\n",
      "data handle fetched...\n",
      " no file.\n",
      "cat_0:  9\n",
      "mainshock data:  {'lat': 28.147300000000001, 'depth': 15.0, 'mag': 7.7999999999999998, 'event_date': numpy.datetime64('2015-04-25T01:11:26.270000-0500'), 'event_date_float': 735713.25794293976, 'lon': 84.707899999999995} 69.0192132301 3.10617521288 3.52278815046\n",
      "eq_cat_params:  {'lat': [25.041124787122225, 31.253475212877778], 'mainshock_lat': 28.147300000000001, 'mainshock_lon': 84.707899999999995, 'lon': [81.185111849537464, 88.230688150462527], 'mainshock_date': numpy.datetime64('2015-04-25T01:11:26.270000-0500')}\n",
      "data handle fetched...\n",
      " no file.\n"
     ]
    },
    {
     "data": {
      "image/png": "[encoded data removed]",
      "text/plain": [
       "<matplotlib.figure.Figure at 0x7fb13af89668>"
      ]
     },
     "metadata": {},
     "output_type": "display_data"
    }
   ],
   "source": [
    "A = LD_figure()\n",
    "# lats=[28.175-1., 28.175+1.], lons = [84.7-1., 84.7+1], to_dt=dtm.datetime(2015,5,1, tzinfo=pytz.timezone('UTC')) \n",
    "#"
   ]
  },
  {
   "cell_type": "code",
   "execution_count": 94,
   "metadata": {
    "collapsed": false
   },
   "outputs": [
    {
     "name": "stdout",
     "output_type": "stream",
     "text": [
      "stuff:  28.175 84.698 0.5 0.5 4.5 2015-04-30 00:00:00+00:00\n",
      "data handle fetched...\n",
      " no file.\n",
      "cat_0:  12\n",
      "mainshock data:  {'lat': 28.147300000000001, 'depth': 15.0, 'mag': 7.7999999999999998, 'event_date': numpy.datetime64('2015-04-25T01:11:26.270000-0500'), 'event_date_float': 735713.25794293976, 'lon': 84.707899999999995} 69.0192132301 3.10617521288 3.52278815046\n"
     ]
    }
   ],
   "source": [
    "\n",
    "\n",
    "aa = atp.auto_cat_params(lon_center=nepal_epi_lon, lat_center=nepal_epi_lat, d_lat_0=.5, d_lon_0=.5,\n",
    "                     dt_0=40, mc_0=4.5, to_dt=dtm.datetime(2015,4,30, tzinfo=pytz.timezone('UTC')),\n",
    "                     range_factor=5.)"
   ]
  },
  {
   "cell_type": "code",
   "execution_count": null,
   "metadata": {
    "collapsed": true
   },
   "outputs": [],
   "source": []
  },
  {
   "cell_type": "code",
   "execution_count": null,
   "metadata": {
    "collapsed": true
   },
   "outputs": [],
   "source": []
  },
  {
   "cell_type": "code",
   "execution_count": null,
   "metadata": {
    "collapsed": true
   },
   "outputs": [],
   "source": []
  }
 ],
 "metadata": {
  "kernelspec": {
   "display_name": "Python 3",
   "language": "python",
   "name": "python3"
  },
  "language_info": {
   "codemirror_mode": {
    "name": "ipython",
    "version": 3
   },
   "file_extension": ".py",
   "mimetype": "text/x-python",
   "name": "python",
   "nbconvert_exporter": "python",
   "pygments_lexer": "ipython3",
   "version": "3.5.1"
  }
 },
 "nbformat": 4,
 "nbformat_minor": 0
}
