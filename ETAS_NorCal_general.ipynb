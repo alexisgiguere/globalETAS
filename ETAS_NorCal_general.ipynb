{
 "cells": [
  {
   "cell_type": "markdown",
   "metadata": {},
   "source": [
    "### ETAS: NorCal, General Purpose\n"
   ]
  },
  {
   "cell_type": "code",
   "execution_count": 1,
   "metadata": {
    "collapsed": false
   },
   "outputs": [],
   "source": [
    "#\n",
    "%load_ext autoreload\n",
    "%autoreload 2\n",
    "%matplotlib inline"
   ]
  },
  {
   "cell_type": "code",
   "execution_count": 2,
   "metadata": {
    "collapsed": false
   },
   "outputs": [
    {
     "name": "stdout",
     "output_type": "stream",
     "text": [
      "failed while loading urllib and/or urllib. maybe python 3.x?\n"
     ]
    },
    {
     "name": "stderr",
     "output_type": "stream",
     "text": [
      "/home/myoder/anaconda3/lib/python3.6/site-packages/matplotlib/__init__.py:938: UserWarning: axes.color_cycle is deprecated and replaced with axes.prop_cycle; please use the latter.\n",
      "  warnings.warn(self.msg_depr % (key, alt_key))\n"
     ]
    }
   ],
   "source": [
    "import datetime as dtm\n",
    "import matplotlib.dates as mpd\n",
    "import pytz\n",
    "tzutc = pytz.timezone('UTC')\n",
    "\n",
    "#import operator\n",
    "import math\n",
    "import random\n",
    "import numpy\n",
    "import scipy\n",
    "import scipy.optimize as spo\n",
    "from scipy import interpolate\n",
    "import itertools\n",
    "import sys\n",
    "#import scipy.optimize as spo\n",
    "import os\n",
    "import operator\n",
    "#from PIL import Image as ipp\n",
    "import multiprocessing as mpp\n",
    "#\n",
    "import matplotlib\n",
    "import matplotlib.pyplot as plt\n",
    "import matplotlib as mpl\n",
    "from mpl_toolkits.mplot3d import Axes3D\n",
    "import json\n",
    "import pickle\n",
    "#\n",
    "\n",
    "import geopy.distance\n",
    "#from geopy.distance import vincenty\n",
    "#from geopy.distance import great_circle\n",
    "#\n",
    "#import shapely.geometry as sgp\n",
    "#\n",
    "from mpl_toolkits.basemap import Basemap as Basemap\n",
    "from matplotlib.backends.backend_agg import FigureCanvasAgg as FigureCanvas\n",
    "from geographiclib.geodesic import Geodesic as ggp\n",
    "#\n",
    "\n",
    "#import ANSStools as atp\n",
    "from yodiipy import ANSStools as atp\n",
    "#\n",
    "\n",
    "import contours2kml\n",
    "import globalETAS as gep\n",
    "\n",
    "import global_etas_auto as ggep\n",
    "\n",
    "from eq_params import *\n",
    "#\n",
    "from nepal_figs import *\n",
    "import optimizers\n",
    "#\n",
    "import random\n",
    "import geopy"
   ]
  },
  {
   "cell_type": "code",
   "execution_count": 3,
   "metadata": {
    "collapsed": true
   },
   "outputs": [],
   "source": [
    "# event was some time on the 24th or maybe late the 23rd. this, plus defaults, should find the event:\n",
    "#to_dt = dtm.datetime(2016,8,25, tzinfo=pytz.timezone('UTC'))\n",
    "to_dt = dtm.datetime.now(pytz.timezone('UTC'))\n",
    "#\n",
    "Lr_factor = 10.\n",
    "# define these from the t_now in the actual etas object, in the event that we load it from pickle,\n",
    "#  rather than calc it here.\n",
    "#f_path = '/home/myoder/Dropbox/Research/etas/italy_2016_10/etas_{}'.format(to_dt)\n",
    "#f_root = 'etas_2016'\n",
    "#\n",
    "\n",
    "t0 = dtm.datetime.now(pytz.timezone('UTC'))\n",
    "t_ms = t0\n",
    "to_dt\n",
    "#\n",
    "# sacramento:\n",
    "lat0 = 38.5816\n",
    "lon0 = -121.4944\n",
    "ll_sacramento = (lon0, lat0)\n",
    "\n",
    "#m0 = 7.8\n",
    "\n",
    "d_lat=5.\n",
    "d_lon=5.\n",
    "#\n",
    "lats = [lat0-d_lat, lat0+d_lat]\n",
    "lons = [lon0-d_lon, lon0+d_lon]\n",
    "#to_dt = t0-dtm.timedelta(hours=2)\n",
    "#to_dt = dtm.datetime.now(pytz.utc)\n",
    "#\n",
    "#etas = ggep.auto_etas(to_dt=to_dt, Lr_factor=Lr_factor, dt_0=5)\n",
    "#italy_prams = {'do_recarray': True, 'D_fract': 1.5,\n",
    "#                't_0':dtm.datetime(1990, 1, 1, 0, 0, tzinfo=pytz.timezone('UTC')),\n",
    "#                't_now':to_dt, \n",
    "#                'lats': [42.,43.5], 'p': 1.1, 'b1': 1.0, 'mc': 2.5, 'q': 1.5,\n",
    "#                'lons': [12.,15.], 'dmstar': 1.0, 'b2': 1.5, 'd_tau': 2.28,\n",
    "#                'incat': None, 'fit_factor': 2.0, 'd_lambda': 1.76}\n",
    "eq_prams = {'do_recarray': True, 'D_fract': 1.5,\n",
    "               't_0':dtm.datetime(1990, 1, 1, 0, 0, tzinfo=pytz.timezone('UTC')),\n",
    "               't_now':dtm.datetime(2007,1,1, tzinfo=pytz.timezone('UTC')), \n",
    "               'lats': lats, 'p_cat': 1.1, 'b1': 1.0, 'mc': 1., 'q_cat': 1.5,\n",
    "               'lons': lons, 'dmstar': 1.0, 'b2': 1.5, 'd_tau': 2.28,\n",
    "               'incat': None, 'fit_factor': 2.0, 'd_lambda': 1.76, 'etas_range_padding':1.5,\n",
    "            'etas_range_factor':30.0, 'ab_ratio_expon':.25 }\n",
    "#eq_prams.update({'mc':3.0, 'd_lat':.25, 'd_lon':.25})"
   ]
  },
  {
   "cell_type": "code",
   "execution_count": null,
   "metadata": {
    "collapsed": true
   },
   "outputs": [],
   "source": [
    "# let's add a preliminary map...\n",
    "class Preliminary_Map(object):\n",
    "    def __init__(self, lats, lons):\n",
    "        pass"
   ]
  },
  {
   "cell_type": "code",
   "execution_count": null,
   "metadata": {
    "collapsed": false,
    "scrolled": false
   },
   "outputs": [
    {
     "name": "stdout",
     "output_type": "stream",
     "text": [
      "begin globalETAS.__init()__\n",
      "Overriding t_0 (etas catalog start date/time) for ETAS calculations. using catalog start, t_0 = t_now - catlen (1825.000000) = 2002-01-02 00:00:00+00:00\n",
      "fetch and process catalog for dates: [datetime.datetime(2002, 1, 2, 0, 0, tzinfo=<UTC>), datetime.datetime(2007, 1, 1, 0, 0, tzinfo=<UTC>)]\n",
      "etas_prams:  {'do_recarray': False, 'b2': 1.5, 'b1': 1.0, 'dmstar': 1.0, 'q': 1.5, 'p': 1.1, 'fit_factor': 1.0, 'd_tau': 2.28, 'd_lambda': 1.76, 'D_fract': 1.5, 'date_range': [datetime.datetime(2002, 1, 2, 0, 0, tzinfo=<UTC>), datetime.datetime(2007, 1, 1, 0, 0, tzinfo=<UTC>)], 'mc': 1.0, 'lons': [-126.4944, -116.4944], 'lats': [33.5816, 43.5816], 'incat': None}\n",
      "data handle fetched...\n",
      " no file.\n",
      "results fetched.\n",
      "catalog fetched and processed.\n",
      "ETAS over etas_cat_range/xyz_range:  ([0, 110833], None)\n",
      "make_etas():\n",
      "etas_mpp worker xyz_range:  [0, 1250]\n",
      "begin globalETAS.__init()__\n",
      "Overriding t_0 (etas catalog start date/time) for ETAS calculations. using catalog start, t_0 = t_now - catlen (1825.000000) = 2002-01-02 00:00:00+00:00\n",
      "ETAS over etas_cat_range/xyz_range:  ([0, 110833], [0, 1250])\n",
      "etas_mpp worker xyz_range:  [1250, 2500]\n",
      "begin globalETAS.__init()__\n",
      "Overriding t_0 (etas catalog start date/time) for ETAS calculations. using catalog start, t_0 = t_now - catlen (1825.000000) = 2002-01-02 00:00:00+00:00\n",
      "ETAS over etas_cat_range/xyz_range:  ([0, 110833], [1250, 2500])\n",
      "etas_mpp worker xyz_range:  [2500, 3750]\n",
      "begin globalETAS.__init()__\n",
      "Overriding t_0 (etas catalog start date/time) for ETAS calculations. using catalog start, t_0 = t_now - catlen (1825.000000) = 2002-01-02 00:00:00+00:00\n",
      "ETAS over etas_cat_range/xyz_range:  ([0, 110833], [2500, 3750])\n",
      "etas_mpp worker xyz_range:  [3750, 5000]\n",
      "begin globalETAS.__init()__\n",
      "Overriding t_0 (etas catalog start date/time) for ETAS calculations. using catalog start, t_0 = t_now - catlen (1825.000000) = 2002-01-02 00:00:00+00:00\n",
      "ETAS over etas_cat_range/xyz_range:  ([0, 110833], [3750, 5000])\n",
      "etas_mpp worker xyz_range:  [5000, 6250]\n",
      "begin globalETAS.__init()__\n",
      "Overriding t_0 (etas catalog start date/time) for ETAS calculations. using catalog start, t_0 = t_now - catlen (1825.000000) = 2002-01-02 00:00:00+00:00\n",
      "ETAS over etas_cat_range/xyz_range:  ([0, 110833], [5000, 6250])\n",
      "etas_mpp worker xyz_range:  [6250, 7500]\n",
      "begin globalETAS.__init()__\n",
      "Overriding t_0 (etas catalog start date/time) for ETAS calculations. using catalog start, t_0 = t_now - catlen (1825.000000) = 2002-01-02 00:00:00+00:00\n",
      "ETAS over etas_cat_range/xyz_range:  ([0, 110833], [6250, 7500])\n",
      "etas_mpp worker xyz_range:  [7500, 8750]\n",
      "begin globalETAS.__init()__\n",
      "Overriding t_0 (etas catalog start date/time) for ETAS calculations. using catalog start, t_0 = t_now - catlen (1825.000000) = 2002-01-02 00:00:00+00:00\n",
      "ETAS over etas_cat_range/xyz_range:  ([0, 110833], [7500, 8750])\n",
      "etas_mpp worker xyz_range:  [8750, 10000]\n",
      "begin globalETAS.__init()__\n",
      "Overriding t_0 (etas catalog start date/time) for ETAS calculations. using catalog start, t_0 = t_now - catlen (1825.000000) = 2002-01-02 00:00:00+00:00\n",
      "ETAS over etas_cat_range/xyz_range:  ([0, 110833], [8750, 10000])\n",
      "begin make_etas_rtree()\n",
      "begin make_etas_rtree()\n",
      "begin make_etas_rtree()\n",
      "begin make_etas_rtree()\n",
      "begin make_etas_rtree()\n",
      "len(local_lattice_dict):  1250\n",
      "begin make_etas_rtree()\n",
      "len(local_lattice_dict):  1250\n",
      "begin make_etas_rtree()\n",
      "begin make_etas_rtree()\n",
      "len(local_lattice_dict):  1250\n",
      "len(local_lattice_dict):  1250\n",
      "len(local_lattice_dict):  1250\n",
      "len(local_lattice_dict):  1250\n",
      "len(local_lattice_dict):  1250\n",
      "len(local_lattice_dict):  1250\n",
      "Indices initiated. begin ETAS ::  [0, 110833]\n",
      "now gather sub-arrays...\n",
      "Indices initiated. begin ETAS ::  [0, 110833]\n",
      "Indices initiated. begin ETAS ::  [0, 110833]\n",
      "Indices initiated. begin ETAS ::  [0, 110833]\n",
      "Indices initiated. begin ETAS ::  [0, 110833]\n",
      "Indices initiated. begin ETAS ::  [0, 110833]\n",
      "Indices initiated. begin ETAS ::  [0, 110833]\n",
      "Indices initiated. begin ETAS ::  [0, 110833]\n",
      "finished calculateing ETAS (rtree). wrap up in recarray and return.\n",
      "etas complete (from mpp_rtree run() loop); now pipe back([0, 110833])\n"
     ]
    }
   ],
   "source": [
    "n_cpu = 2*mpp.cpu_count()\n",
    "#n_cpu=5\n",
    "etas = gep.ETAS_mpp(n_cpu=n_cpu, **eq_prams)\n",
    "#\n",
    "# we've run this; we can reload it from pickle:\n",
    "#with open('data/etas_201610.pkl', 'rb') as fin:\n",
    "#    etas = pickle.load(fin)\n",
    "#\n",
    "event_name = 'NorCal_general'\n",
    "f_path = '/home/myoder/Dropbox/Research/etas/{}/etas_{}'.format(event_name, etas.t_now)\n",
    "f_root = 'etas_{}_2016_11'.format(event_name)"
   ]
  },
  {
   "cell_type": "code",
   "execution_count": null,
   "metadata": {
    "collapsed": false,
    "scrolled": true
   },
   "outputs": [],
   "source": [
    "#print(etas.t0, etas.t_now, etas.t_forecast, etas.catalog[-1])"
   ]
  },
  {
   "cell_type": "code",
   "execution_count": null,
   "metadata": {
    "collapsed": false,
    "scrolled": false
   },
   "outputs": [],
   "source": [
    "\n",
    "fg=plt.figure(0, figsize=(12,10))\n",
    "ax=plt.gca()\n",
    "etas.make_etas_contour_map(n_contours=25, fignum=0, map_resolution='f', alpha=.3, ax=ax)\n",
    "#\n",
    "#mainshock = sorted(etas.catalog, key=lambda rw: rw['mag'])[-1]\n",
    "#print('mainshock: ', mainshock)\n",
    "# get mainshock. it's an m>6 event in the last week or so... this is subjective.\n",
    "# if we just look for the biggest event, we get the L'Aquila event, so we'll need to be more creative...\n",
    "# or just specify it.\n",
    "\n",
    "mainshock = etas.catalog[-1]\n",
    "for j,eq in enumerate(reversed(etas.catalog)):\n",
    "    #print('*** ', pytz.utc.localize(eq['event_date'].astype(dtm.datetime)))\n",
    "    if pytz.utc.localize(eq['event_date'].astype(dtm.datetime))<etas.t_now-dtm.timedelta(days=180): break\n",
    "    if eq['mag']>mainshock['mag']:\n",
    "        mainshock = eq\n",
    "        #\n",
    "    #\n",
    "#\n",
    "print('ms: ', mainshock, mainshock['lon'], mainshock['lat'])\n",
    "x,y = etas.cm(mainshock['lon'], mainshock['lat'])\n",
    "#\n",
    "#print('mm: ', max(etas.catalog['mag']))\n",
    "#\n",
    "# let's get everything m>6 in the last 6 months?\n",
    "#m6s = [rw for rw in etas.catalog if rw['mag'] >= 5.5 \n",
    "#       and pytz.utc.localize(rw['event_date'].astype(dtm.datetime))>to_dt-dtm.timedelta(days=180)]\n",
    "m6s = [rw for rw in etas.catalog if rw['mag'] >= 3.5 \n",
    "       and pytz.utc.localize(rw['event_date'].astype(dtm.datetime))>to_dt-dtm.timedelta(days=5)]\n",
    "\n",
    "#\n",
    "# plot mainshock:\n",
    "dt = mainshock['event_date'].astype(dtm.datetime)\n",
    "dt=t0\n",
    "dt_str = '{}-{}-{} {}:{}:{}'.format(dt.year, dt.month, dt.day, dt.hour, dt.minute, dt.second)\n",
    "#etas.cm.plot([x], [y], latlon=False, marker='*', color='r', ms=16, zorder=11,\n",
    "#                   label='m={}, {}'.format(mainshock['mag'], dt_str))\n",
    "#etas.cm.plot([lon0], [lat0], latlon=False, marker='*', color='r', ms=16, zorder=11,\n",
    "#                   label='m={}, {}'.format(m0, dt_str))\n",
    "\n",
    "ax.set_title('ETAS: {}, {}\\n\\n'.format(event_name, etas.t_now), size=16)\n",
    "for j,m6 in enumerate(m6s):\n",
    "    clr = colors_[j%len(colors_)]\n",
    "    #\n",
    "    dt = m6['event_date'].astype(dtm.datetime)\n",
    "    dt_str = '{}-{}-{} {}:{}:{}'.format(dt.year, dt.month, dt.day, dt.hour, dt.minute, dt.second)\n",
    "    etas.cm.scatter(m6['lon'], m6['lat'], s=3*(m6['mag']+12.), edgecolors=clr, \n",
    "                          c='none', marker='o', zorder=11, label='m={}, {}'.format(m6['mag'], dt_str))\n",
    "\n",
    "x,y = etas.cm(*ll_sacramento)\n",
    "etas.cm.scatter([x],[y], marker='o', s=18, edgecolors='r', c='r',\n",
    "                    label='Sacramento')\n",
    "t_cat = mpd.date2num(etas.t_now-dtm.timedelta(days=15))\n",
    "print('tt: ', t_cat, etas.catalog['event_date'][0], type(etas.catalog['event_date'][0]))\n",
    "k=0\n",
    "for j,rw in enumerate(etas.catalog):\n",
    "    if mpd.date2num(rw['event_date'].astype(dtm.datetime))<t_cat: continue\n",
    "    k+=1\n",
    "    clr = colors_[k%len(colors_)]\n",
    "    #\n",
    "    dt = rw['event_date'].astype(dtm.datetime)\n",
    "    dt_str = '{}-{}-{} {}:{}:{}'.format(dt.year, dt.month, dt.day, dt.hour, dt.minute, dt.second)\n",
    "    #etas.cm.scatter(rw['lon'],rw['lat'], s=3*(rw['mag']+12.), edgecolors=clr, \n",
    "    #                      c='none', marker='o', zorder=11, label='m={}, {}'.format(rw['mag'], dt_str))\n",
    "    etas.cm.plot(rw['lon'],rw['lat'], ms=1.*(rw['mag']+2.), color=clr, \n",
    "                          marker='o', zorder=11, label='m={}, {}'.format(rw['mag'], dt_str), latlon=True)\n",
    "    \n",
    "    #\n",
    "plt.gca().legend()\n",
    "#print(etas.catalog[-10:])"
   ]
  },
  {
   "cell_type": "raw",
   "metadata": {
    "collapsed": false,
    "scrolled": false
   },
   "source": [
    "fg=plt.figure(0, figsize=(12,10))\n",
    "ax=plt.gca()\n",
    "etas.make_etas_contour_map(n_contours=25, fignum=0, map_resolution='f', alpha=.3, ax=ax)\n",
    "\n",
    "#\n",
    "# let's get everything m>6 in the last 6 months?\n",
    "m6s = [rw for rw in etas.catalog if rw['mag'] >= 5.5 \n",
    "       and pytz.utc.localize(rw['event_date'].astype(dtm.datetime))>to_dt-dtm.timedelta(days=120)]\n",
    "#\n",
    "# plot mainshock:\n",
    "dt = mainshock['event_date'].astype(dtm.datetime)\n",
    "etas.cm.plot([x], [y], latlon=False, marker='*', color='r', ms=16, zorder=11,\n",
    "                   label='m={}, {}'.format(mainshock['mag'], dt_str))\n",
    "ax.set_title('ETAS: Italy, {}\\n\\n'.format(etas.t_now), size=16)\n",
    "for j,m6 in enumerate(m6s):\n",
    "    clr = colors_[j%len(colors_)]\n",
    "    #\n",
    "    dt = m6['event_date'].astype(dtm.datetime)\n",
    "    dt_str = '{}-{}-{} {}:{}:{}'.format(dt.year, dt.month, dt.day, dt.hour, dt.minute, dt.second)\n",
    "    etas.cm.scatter(m6['lon'], m6['lat'], s=3*(m6['mag']+12.), edgecolors=clr, \n",
    "                          c='none', marker='o', zorder=11, label='m={}, {}'.format(m6['mag'], dt_str))\n",
    "    #\n",
    "plt.gca().legend()"
   ]
  },
  {
   "cell_type": "code",
   "execution_count": null,
   "metadata": {
    "collapsed": false,
    "scrolled": true
   },
   "outputs": [],
   "source": [
    "print(['{},{}\\n'.format(rw['event_date'], rw['mag'] ) for rw in etas.catalog if rw['mag'] >= 5.5])\n",
    "len(['{},{}\\n'.format(rw['event_date'], rw['mag'] ) for rw in etas.catalog if rw['mag'] >= 5.5\n",
    "     and rw['event_date'].astype(dtm.datetime)>dtm.datetime(2016,10,20)])\n",
    "\n"
   ]
  },
  {
   "cell_type": "code",
   "execution_count": null,
   "metadata": {
    "collapsed": false
   },
   "outputs": [],
   "source": [
    "## hey, pickling works with the new ETAS objects (or at least it appears to...):\n",
    "# with open('data/etas_201610.pkl', 'wb') as fpkl:\n",
    "#     pickle.dump( etas, fpkl)    \n",
    "#\n",
    "#with open('data/etas_201610.pkl', 'rb') as fin:\n",
    "#    etas2 = pickle.load(fin)\n",
    "#\n",
    "#print(etas2.catalog[0:5])\n",
    "# TODO: we want the datetime part of the filename to come from the etas object itself, for purposes of\n",
    "# integrity. BUT, we want this script to be a bit more portable, so we should replace all the etas\n",
    "# references/object name to just 'etas'\n",
    "#\n",
    "etas.export_kml(os.path.join(f_path, '{}_{}.kml'.format(f_root, str(etas.t_now).replace(' ', '_'))))\n",
    "etas.export_xyz(os.path.join(f_path, '{}_{}.xyz'.format(f_root, str(etas.t_now).replace(' ', '_'))))\n",
    "fg.savefig(os.path.join(f_path, '{}_{}.png'.format(f_root, str(etas.t_now).replace(' ', '_'))))\n",
    "#\n",
    "# so this worked, once upon a time, but breaks maybe when the script does not run cleanly all the way through?\n",
    "#with open (os.path.join(f_path, '{}_{}.pkl'.format(f_root, str(etas.t_now).replace(' ', '_'))), 'wb') as fpkl:\n",
    "#    pickle.dump(etas, fpkl)\n"
   ]
  },
  {
   "cell_type": "code",
   "execution_count": null,
   "metadata": {
    "collapsed": false
   },
   "outputs": [],
   "source": [
    "plt.figure(figsize=(8,5))\n",
    "plt.clf()\n",
    "ax1=plt.subplot('121')\n",
    "ax2=plt.subplot('122')\n",
    "ax1.plot(etas.catalog['lon'], etas.catalog['lat'], ',')\n",
    "ax1.plot([mainshock['lon']], [mainshock['lat']], marker='*', color='r', ms=16, zorder=11)\n",
    "#\n",
    "ax2.plot([m for m in reversed(sorted(etas.catalog['mag']))], numpy.arange(1,len(etas.catalog)+1),\n",
    "         '.-', lw=2.)\n",
    "ax2.set_yscale('log')"
   ]
  },
  {
   "cell_type": "code",
   "execution_count": null,
   "metadata": {
    "collapsed": false
   },
   "outputs": [],
   "source": [
    "#print(etas.mc, etas.mc_etas)"
   ]
  },
  {
   "cell_type": "code",
   "execution_count": null,
   "metadata": {
    "collapsed": true
   },
   "outputs": [],
   "source": []
  },
  {
   "cell_type": "code",
   "execution_count": null,
   "metadata": {
    "collapsed": false
   },
   "outputs": [],
   "source": [
    "# plot a cross-section of ETAS. let's get smart about this and do a PCA on the xyz field...\n",
    "#\n",
    "#plt.figure()\n",
    "##my_xy = [[x,y,z] for x,y in zip(etas.catalog['lon'], etas['lat']) if x>=42.25 and x<=42.75]\n",
    "#my_xyz = [[x,y,z] for x,y,z in etas.ETAS_array if y>=42.25 and y<=42.75]\n",
    "#plt.figure(figsize=(8,6))\n",
    "#plt.plot([x for x,y,z in my_xyz ], [z for x,y,z in my_xyz], '.')"
   ]
  },
  {
   "cell_type": "code",
   "execution_count": null,
   "metadata": {
    "collapsed": false
   },
   "outputs": [],
   "source": [
    "mycat = atp.catfromANSS(lon=lons, lat=lats, minMag=2.5,\n",
    "                        dates0=[dtm.datetime(2005,1,1, tzinfo=tzutc), None], Nmax=None, fout=None, rec_array=True)\n"
   ]
  },
  {
   "cell_type": "code",
   "execution_count": null,
   "metadata": {
    "collapsed": false
   },
   "outputs": [],
   "source": [
    "print(mycat.dtype)"
   ]
  },
  {
   "cell_type": "code",
   "execution_count": null,
   "metadata": {
    "collapsed": true
   },
   "outputs": [],
   "source": []
  }
 ],
 "metadata": {
  "kernelspec": {
   "display_name": "Python 3",
   "language": "python",
   "name": "python3"
  },
  "language_info": {
   "codemirror_mode": {
    "name": "ipython",
    "version": 3
   },
   "file_extension": ".py",
   "mimetype": "text/x-python",
   "name": "python",
   "nbconvert_exporter": "python",
   "pygments_lexer": "ipython3",
   "version": "3.6.0"
  }
 },
 "nbformat": 4,
 "nbformat_minor": 0
}
