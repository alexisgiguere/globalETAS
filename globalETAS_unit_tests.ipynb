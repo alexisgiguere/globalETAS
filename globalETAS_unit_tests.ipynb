{
 "cells": [
  {
   "cell_type": "code",
   "execution_count": 65,
   "metadata": {
    "collapsed": false
   },
   "outputs": [
    {
     "name": "stdout",
     "output_type": "stream",
     "text": [
      "The autoreload extension is already loaded. To reload it, use:\n",
      "  %reload_ext autoreload\n"
     ]
    }
   ],
   "source": [
    "#\n",
    "#\n",
    "%load_ext autoreload\n",
    "%autoreload 2\n",
    "%matplotlib inline\n",
    "#%matplotlib notebook\n",
    "\n",
    "\n",
    "#import operator\n",
    "import math\n",
    "import random\n",
    "import numpy\n",
    "import scipy\n",
    "import scipy.optimize as spo\n",
    "from scipy import interpolate\n",
    "import itertools\n",
    "import sys\n",
    "#import scipy.optimize as spo\n",
    "import os\n",
    "import operator\n",
    "#from PIL import Image as ipp\n",
    "import multiprocessing as mpp\n",
    "#\n",
    "import matplotlib\n",
    "import matplotlib.pyplot as plt\n",
    "import matplotlib as mpl\n",
    "import matplotlib.dates as mpd\n",
    "from mpl_toolkits.mplot3d import Axes3D\n",
    "import json\n",
    "import pickle\n",
    "#\n",
    "import geopy.distance\n",
    "#from geopy.distance import vincenty\n",
    "#from geopy.distance import great_circle\n",
    "#\n",
    "#import shapely.geometry as sgp\n",
    "#\n",
    "from mpl_toolkits.basemap import Basemap as Basemap\n",
    "from matplotlib.backends.backend_agg import FigureCanvasAgg as FigureCanvas\n",
    "from geographiclib.geodesic import Geodesic as ggp\n",
    "#\n",
    "#import ANSStools as atp\n",
    "from yodiipy import ANSStools as atp\n",
    "#\n",
    "import contours2kml\n",
    "import globalETAS as gep\n",
    "from eq_params import *\n",
    "#\n",
    "from nepal_figs import *\n",
    "import nepal_figs\n",
    "import optimizers\n",
    "#\n",
    "import random\n",
    "import geopy\n",
    "#\n",
    "#colors_ =  mpl.rcParams['axes.color_cycle']\n",
    "colors_ = ['b', 'g', 'r', 'c', 'm', 'y', 'k']\t\t# make sure these are correct...\n",
    "tzutc = pytz.timezone('UTC')\n",
    "#"
   ]
  },
  {
   "cell_type": "code",
   "execution_count": 66,
   "metadata": {
    "collapsed": false
   },
   "outputs": [],
   "source": [
    "# TODO: wtf? check out:\n",
    "#> globalETAS.elliptical_transform_test(theta = 0., x0=0., y0=0., n_quakes=100, m=6.0, max_ratio=2.0, fignum=0):\n",
    "# this seems to work really well. it should be pretty much exactly the test we're writing here.\n",
    "\n",
    "class orientation_test(object):\n",
    "    \n",
    "    def __init__(self, N_ev=20, theta=3.14/4., m0=7., dm=3., lat0=35., lon0=-115., dt=2.,\n",
    "                     t0=dtm.datetime(2016,1,1, tzinfo=tzutc)):\n",
    "        #\n",
    "        # TODO:\n",
    "        # something odd going on so that the transformation is not fitting correctly, but we don't see this\n",
    "        # in the globalETAS.py unit test, and i don't think we see it in actualy ETAS instances... but\n",
    "        # we should sort it out.\n",
    "        # the globalETAS script seems to get the right pca transform; let's figure out what we're doing wrong\n",
    "        # and confirm that it's not happing in real life.\n",
    "        #\n",
    "        L_r = 10.**(.5*m0 - 1.76)\n",
    "        L = 3.5*L_r\n",
    "        #print('**L,L_r = ', L, L_r)\n",
    "        d_LL = L/111.1\n",
    "        y_scatter = 0.\n",
    "        #\n",
    "        R = random.Random()\n",
    "        r_factor=.2\n",
    "        km2_ll = 1./111.\n",
    "        m = m0-dm\n",
    "        m_ms = m0\n",
    "        #\n",
    "        #d_lat = km2_ll*L*math.sin(theta)/N_ev\n",
    "        #d_lon = km2_ll*L*math.cos(theta)/(N_ev*math.cos(lat0))\n",
    "        dt = dtm.timedelta(days=dt)\n",
    "        dy0=0.\n",
    "        #dy0=.5*L\n",
    "        LLs = [[-.5*L/111.1,dy0], [.5*L/111.1, dy0]]\n",
    "        LLs = numpy.array(LLs + [[(R.random()-.5)*L_r/(111.1*math.cos(lat0)), dy0 + (R.random()-.5)*y_scatter*L_r/111.1] for j in range(N_ev)])\n",
    "        #\n",
    "        print('LLs: ', LLs[0:5])\n",
    "        #print('theta: ', theta)\n",
    "        M_r = numpy.array([[math.cos(theta), -math.sin(theta)], [math.sin(theta), math.cos(theta)]])\n",
    "        #print('M_r: ', M_r)\n",
    "        LLs = numpy.dot(LLs, M_r)\n",
    "        #for j,rw in enumerate(LLs):\n",
    "        #    LLs[j][0]+=lon0\n",
    "        #    LLs[j][1]+=lat0\n",
    "        #\n",
    "        # put some earthquakes on a line, then rotate them:\n",
    "        #lons_lats = [[R.random()*L]]\n",
    "        #plt.figure()\n",
    "        #plt.plot(*zip(*LLs), marker='.', ls='')\n",
    "\n",
    "        #\n",
    "        cat = []\n",
    "        #for j in range(N_ev):\n",
    "        #    cat += [[t0+dt*j, lon0+j*d_lon*(1.0+R.random()*r_factor), lat0+j*d_lat*(1.0+R.random()*r_factor), m-3., mpd.date2num(t0+dt*j) ]]\n",
    "        for j, (lon,lat) in enumerate(LLs):\n",
    "            cat += [[t0+dt*j, lon+lon0, lat+lat0, m, mpd.date2num(t0+dt*j) ]]\n",
    "        #\n",
    "        tms = cat[int(.5*len(cat))][0]\n",
    "        #cat += [[cat[-1][0]+dt, numpy.mean([rw[1] for rw in cat]), numpy.mean([rw[2] for rw in cat]), m_ms,\n",
    "        #        mpd.date2num(cat[-1][0]+dt) ]]\n",
    "        cat += [[tms+.5*dt, numpy.mean([rw[1] for rw in cat]), numpy.mean([rw[2] for rw in cat]), m_ms,\n",
    "                mpd.date2num(tms+.5*dt) ]]\n",
    "        #\n",
    "        cat = numpy.core.records.fromarrays(zip(*cat), dtype = [('event_date', 'datetime64[us]'),\n",
    "                                                                ('lon', '>f8'), ('lat', '>f8'), ('mag', '>f8'),\n",
    "                                                               ('event_date_float', '>f8')])\n",
    "\n",
    "        #cat = gep.make_ETAS_catalog_mpp(cat)\n",
    "        cat = gep.make_ETAS_catalog(cat, fit_factor=2.0)\n",
    "        #\n",
    "        # get the pca transform (for debugging):\n",
    "        xy = [cat['lon'], cat['lat']]\n",
    "        cov = numpy.cov(xy)\n",
    "        print('evals/vecs: ', numpy.linalg.eig(cov))\n",
    "        #\n",
    "        #etas = gep.ETAS_mpp(catalog=cat, lons=sorted(cat['lon'])[0::len(cat)-1],  lats=sorted(cat['lat'])[0::len(cat)-1]),\n",
    "        etas = gep.ETAS_mpp(catalog=cat )\n",
    "        #\n",
    "        plt.figure(figsize=(8,6))\n",
    "        plt.clf()\n",
    "        plt.plot(cat['lon'], cat['lat'], marker='o', ls='')\n",
    "        plt.plot(cat['lon'][-1], cat['lat'][-1], marker='*', color='r', ls='', ms=16)\n",
    "        #plt.plot(cat2['lon'], cat2['lat']+.25, marker='o', ls='', color='r')'\n",
    "        for x,y in itertools.product(sorted(cat['lon'])[0::len(cat)-1], sorted(cat['lat'])[0::len(cat)-1]):\n",
    "            plt.plot([x],[y], '.')\n",
    "        #\n",
    "        #return etas\n",
    "        self.__dict__.update(locals())\n",
    "\n",
    "   "
   ]
  },
  {
   "cell_type": "code",
   "execution_count": 67,
   "metadata": {
    "collapsed": false,
    "scrolled": false
   },
   "outputs": [
    {
     "name": "stdout",
     "output_type": "stream",
     "text": [
      "LLs:  [[-0.86561344  0.        ]\n",
      " [ 0.86561344  0.        ]\n",
      " [-0.27009646  0.        ]\n",
      " [ 0.13233131  0.        ]\n",
      " [-0.15144017  0.        ]]\n",
      "evals/vecs:  (array([  3.84639784e-02,   6.93889390e-18]), array([[ 0.70738827, -0.70682518],\n",
      "       [ 0.70682518,  0.70738827]]))\n",
      "begin globalETAS.__init()__\n",
      "Overriding t0 (etas catalog start date/time) for ETAS calculations. using catalog start, t0 = t_now - catlen (1825.000000) = 2011-12-11 00:07:33.657387+00:00\n",
      "ETAS over etas_cat_range/xyz_range:  ([0, 103], None)\n",
      "make_etas():\n",
      "etas_mpp worker xyz_range:  [0, 169]\n",
      "begin globalETAS.__init()__\n",
      "Overriding t0 (etas catalog start date/time) for ETAS calculations. using catalog start, t0 = t_now - catlen (1825.000000) = 2011-12-11 00:07:33.657387+00:00\n",
      "ETAS over etas_cat_range/xyz_range:  ([0, 103], [0, 169])\n",
      "now gather sub-arrays...\n",
      "begin make_etas_rtree()\n",
      "len(local_lattice_dict):  169\n",
      "Indices initiated. begin ETAS ::  [0, 103]\n"
     ]
    },
    {
     "name": "stderr",
     "output_type": "stream",
     "text": [
      "/home/myoder/Documents/Research/yoder/globalETAS/globalETAS.py:1119: RuntimeWarning: invalid value encountered in double_scalars\n",
      "  R_prime = R * numpy.linalg.norm([dx_prime,dy_prime])/numpy.linalg.norm([dx,dy])\n"
     ]
    },
    {
     "name": "stdout",
     "output_type": "stream",
     "text": [
      "finished calculateing ETAS (rtree). wrap up in recarray and return.\n",
      "etas complete (from mpp_rtree run() loop); now pipe back([0, 103])\n",
      "ETAS complete.\n",
      "(datetime.datetime(2016, 4, 13, 0, 0), -115.01337998545218, 34.98663066514865, 7.0, 736067.0, 54.954087385762456, 997.8404925454946, 2.0021630113650087e-05, 16.595869074375614, 126.65018464658773, 0.0019486750167964611, 1.0, 1.1, 1.5, array([  1.23707705e+08,   6.28336261e+02]), array([[ 0.93724017,  0.34868449],\n",
      "       [-0.34868449,  0.93724017]]), 103.0)\n",
      "finished...\n"
     ]
    },
    {
     "data": {
      "image/png": "[encoded data removed]",
      "text/plain": [
       "<matplotlib.figure.Figure at 0x7ff6c6cfbc50>"
      ]
     },
     "metadata": {},
     "output_type": "display_data"
    },
    {
     "data": {
      "image/png": "[encoded data removed]",
      "text/plain": [
       "<matplotlib.figure.Figure at 0x7ff6c6c825f8>"
      ]
     },
     "metadata": {},
     "output_type": "display_data"
    }
   ],
   "source": [
    "#etas = orientation_test(N_ev=50, theta=0.*3.14/4.)\n",
    "#for theta in [3.14/6, 3.14/4., 3.14/2., .75*3.14]:\n",
    "for theta in [-3.14/4.]:\n",
    "    etas = None\n",
    "    etas = orientation_test(N_ev=100, theta=theta, m0=7., dm=4.)\n",
    "    #\n",
    "    plt.figure(figsize=(10,8))\n",
    "    plt.clf()\n",
    "    ax=plt.gca()\n",
    "    etas.etas.make_etas_contour_map(ax=ax)\n",
    "    ms=etas.etas.catalog[0]\n",
    "    for ev in etas.etas.catalog:\n",
    "        #x,y = etas.etas.cm(ev['lon'], ev['lat'])\n",
    "        if ev['mag']>ms['mag']: ms=ev\n",
    "        x,y = ev['lon'], ev['lat']\n",
    "        etas.etas.cm.scatter(x,y, marker='o', edgecolors='b')\n",
    "    print(etas.etas.catalog[-1])\n",
    "    etas.etas.cm.scatter(ms['lon'], ms['lat'], marker='*', s=28, c='m', zorder=11)\n",
    "print('finished...')"
   ]
  },
  {
   "cell_type": "code",
   "execution_count": 68,
   "metadata": {
    "collapsed": true
   },
   "outputs": [],
   "source": [
    "XY = numpy.array(list(zip(etas.cat['lon'], etas.cat['lat'])))"
   ]
  },
  {
   "cell_type": "code",
   "execution_count": 69,
   "metadata": {
    "collapsed": false
   },
   "outputs": [
    {
     "name": "stdout",
     "output_type": "stream",
     "text": [
      "cov:  [[ 0.0192473   0.01923198]\n",
      " [ 0.01923198  0.01921667]]\n",
      "eig_vals:  [  3.84639784e-02  -1.38777878e-17]\n",
      "eig_vecs:  [[ 0.70738827 -0.70682518]\n",
      " [ 0.70682518  0.70738827]]\n"
     ]
    },
    {
     "data": {
      "text/plain": [
       "[<matplotlib.lines.Line2D at 0x7ff6c7144cf8>]"
      ]
     },
     "execution_count": 69,
     "metadata": {},
     "output_type": "execute_result"
    },
    {
     "data": {
      "image/png": "[encoded data removed]",
      "text/plain": [
       "<matplotlib.figure.Figure at 0x7ff6c6cfb710>"
      ]
     },
     "metadata": {},
     "output_type": "display_data"
    }
   ],
   "source": [
    "plt.figure()\n",
    "plt.plot(*zip(*XY), marker='.', ls='')\n",
    "\n",
    "cov = numpy.cov(XY.T)\n",
    "print('cov: ', cov)\n",
    "eig_vals, eig_vecs = numpy.linalg.eig(cov)\n",
    "print('eig_vals: ', eig_vals)\n",
    "print('eig_vecs: ', eig_vecs)\n",
    "#\n",
    "x0 = numpy.mean([x for x,y in XY])\n",
    "y0 = numpy.mean([y for x,y in XY])\n",
    "plt.plot([x0], [y0], 'o')\n",
    "# for ev in eig_vecs:\n",
    "#     print('ev: ', ev)\n",
    "#     #plt.plot(*zip([x0,y0], ev+numpy.array([x0,y0])), marker='.', ls='-')\n",
    "#     plt.plot([x0, x0+ev[0]], [y0, y0+ev[1]], marker='.', ls='-')\n",
    "evs = eig_vecs\n",
    "plt.plot([x0, x0+evs[0][0]], [y0, y0+evs[0][1]], ls='-', color='r')\n",
    "plt.plot([x0, x0+evs[1][0]], [y0, y0+evs[1][1]], ls='-', color='c')\n",
    "\n",
    "plt.plot([x0+evs[0][0]], [y0+evs[0][1]], '*')\n",
    "plt.plot([x0+evs[1][0]], [y0+evs[1][1]], '*')\n"
   ]
  },
  {
   "cell_type": "code",
   "execution_count": 70,
   "metadata": {
    "collapsed": false
   },
   "outputs": [
    {
     "name": "stdout",
     "output_type": "stream",
     "text": [
      "0.0\n"
     ]
    }
   ],
   "source": [
    "print(numpy.dot(evs[0], evs[1]))"
   ]
  },
  {
   "cell_type": "code",
   "execution_count": null,
   "metadata": {
    "collapsed": true
   },
   "outputs": [],
   "source": []
  },
  {
   "cell_type": "code",
   "execution_count": 71,
   "metadata": {
    "collapsed": false
   },
   "outputs": [
    {
     "name": "stdout",
     "output_type": "stream",
     "text": [
      "[[-0.61232479 -0.61183737]\n",
      " [ 0.61232479  0.61183737]\n",
      " [-0.19106307 -0.19091098]\n",
      " [ 0.09360962  0.0935351 ]\n",
      " [-0.107127   -0.10704172]\n",
      " [-0.01831843 -0.01830385]\n",
      " [-0.13050321 -0.13039933]\n",
      " [-0.11536526 -0.11527343]\n",
      " [-0.05337112 -0.05332864]\n",
      " [-0.08048606 -0.080422  ]]\n"
     ]
    }
   ],
   "source": [
    "print(etas.LLs[0:10])"
   ]
  },
  {
   "cell_type": "code",
   "execution_count": 72,
   "metadata": {
    "collapsed": true
   },
   "outputs": [],
   "source": [
    "eq=gep.Earthquake(etas.etas.catalog[-1])"
   ]
  },
  {
   "cell_type": "code",
   "execution_count": 73,
   "metadata": {
    "collapsed": false
   },
   "outputs": [
    {
     "name": "stdout",
     "output_type": "stream",
     "text": [
      "[  1.23707705e+08   6.28336261e+02] [5.0, 0.2] [[ 0.93724017  0.34868449]\n",
      " [-0.34868449  0.93724017]]\n"
     ]
    }
   ],
   "source": [
    "print(eq.e_vals, eq.e_vals_n, eq.e_vecs)"
   ]
  },
  {
   "cell_type": "code",
   "execution_count": 74,
   "metadata": {
    "collapsed": true
   },
   "outputs": [],
   "source": [
    "eq1=gep.Earthquake(etas.etas.catalog[1])"
   ]
  },
  {
   "cell_type": "code",
   "execution_count": 75,
   "metadata": {
    "collapsed": false
   },
   "outputs": [
    {
     "name": "stdout",
     "output_type": "stream",
     "text": [
      "[ 1.  1.] [1.0, 1.0] [[ 1.  0.]\n",
      " [ 0.  1.]]\n"
     ]
    }
   ],
   "source": [
    "print(eq1.e_vals, eq1.e_vals_n, eq1.e_vecs)"
   ]
  },
  {
   "cell_type": "code",
   "execution_count": null,
   "metadata": {
    "collapsed": true
   },
   "outputs": [],
   "source": []
  }
 ],
 "metadata": {
  "kernelspec": {
   "display_name": "Python 3",
   "language": "python",
   "name": "python3"
  },
  "language_info": {
   "codemirror_mode": {
    "name": "ipython",
    "version": 3
   },
   "file_extension": ".py",
   "mimetype": "text/x-python",
   "name": "python",
   "nbconvert_exporter": "python",
   "pygments_lexer": "ipython3",
   "version": "3.5.1"
  }
 },
 "nbformat": 4,
 "nbformat_minor": 0
}
