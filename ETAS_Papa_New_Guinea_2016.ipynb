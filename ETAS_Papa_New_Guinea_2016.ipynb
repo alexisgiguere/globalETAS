{
 "cells": [
  {
   "cell_type": "markdown",
   "metadata": {},
   "source": []
  },
  {
   "cell_type": "raw",
   "metadata": {},
   "source": []
  },
  {
   "cell_type": "code",
   "execution_count": null,
   "metadata": {
    "collapsed": true
   },
   "outputs": [],
   "source": []
  },
  {
   "cell_type": "markdown",
   "metadata": {},
   "source": [
    "### ETAS: Papa New Guinea G2016\n",
    "#### 2016-12-06 22:03:32 (UTC) m=6.5\n",
    "\n",
    "#### and 2017-01-22 04:30:23 (UTC)\n",
    "\n",
    "Time\n",
    "2017-01-22 04:30:23 (UTC)\n",
    "Location\n",
    "6.214°S 155.122°E\n",
    "Depth\n",
    "136.0 km"
   ]
  },
  {
   "cell_type": "code",
   "execution_count": 4,
   "metadata": {
    "collapsed": false
   },
   "outputs": [
    {
     "name": "stdout",
     "output_type": "stream",
     "text": [
      "The autoreload extension is already loaded. To reload it, use:\n",
      "  %reload_ext autoreload\n"
     ]
    }
   ],
   "source": [
    "#\n",
    "%load_ext autoreload\n",
    "%autoreload 2\n",
    "%matplotlib inline"
   ]
  },
  {
   "cell_type": "code",
   "execution_count": 5,
   "metadata": {
    "collapsed": false,
    "scrolled": true
   },
   "outputs": [],
   "source": [
    "import datetime as dtm\n",
    "import matplotlib.dates as mpd\n",
    "import pytz\n",
    "tzutc = pytz.timezone('UTC')\n",
    "\n",
    "#import operator\n",
    "import math\n",
    "import random\n",
    "import numpy\n",
    "import scipy\n",
    "import scipy.optimize as spo\n",
    "from scipy import interpolate\n",
    "import itertools\n",
    "import sys\n",
    "#import scipy.optimize as spo\n",
    "import os\n",
    "import operator\n",
    "#from PIL import Image as ipp\n",
    "import multiprocessing as mpp\n",
    "#\n",
    "import matplotlib\n",
    "import matplotlib.pyplot as plt\n",
    "import matplotlib as mpl\n",
    "from mpl_toolkits.mplot3d import Axes3D\n",
    "import json\n",
    "import pickle\n",
    "#\n",
    "import geopy.distance\n",
    "#from geopy.distance import vincenty\n",
    "#from geopy.distance import great_circle\n",
    "#\n",
    "#import shapely.geometry as sgp\n",
    "#\n",
    "from mpl_toolkits.basemap import Basemap as Basemap\n",
    "from matplotlib.backends.backend_agg import FigureCanvasAgg as FigureCanvas\n",
    "from geographiclib.geodesic import Geodesic as ggp\n",
    "#\n",
    "#import ANSStools as atp\n",
    "from yodiipy import ANSStools as atp\n",
    "#\n",
    "import contours2kml\n",
    "import globalETAS as gep\n",
    "import global_etas_auto as ggep\n",
    "from eq_params import *\n",
    "#\n",
    "from nepal_figs import *\n",
    "import optimizers\n",
    "#\n",
    "import random\n",
    "import geopy\n",
    "\n",
    "#from geopy.geocoders import Nominatim\n",
    "\n",
    "\n",
    "#\n",
    "# on a fresh linux install... (can we script this?)\n",
    "# stuff we have to do besides just clone this:\n",
    "# pip install geopy\n",
    "# conda install basemap\n",
    "# pip install geographiclib\n",
    "# conda install -c ioos rtree\n"
   ]
  },
  {
   "cell_type": "code",
   "execution_count": 6,
   "metadata": {
    "collapsed": false
   },
   "outputs": [],
   "source": [
    "# event was some time on the 24th or maybe late the 23rd. this, plus defaults, should find the event:\n",
    "#to_dt = dtm.datetime(2016,8,25, tzinfo=pytz.timezone('UTC'))\n",
    "to_dt = dtm.datetime.now(pytz.timezone('UTC'))\n",
    "#\n",
    "#gl = Nominatim()\n",
    "#\n",
    "# Time\n",
    "# 2016-12-17 10:51:12 (UTC)\n",
    "# Location\n",
    "# 4.509°S 153.450°E\n",
    "# Depth\n",
    "# 103.2 km\n",
    "#\n",
    "event_name = 'Papa_New_Guinea_2016'\n",
    "# apparently not getting corect geocoding...\n",
    "#png = gl.geocode('Papa New Guinea')\n",
    "#lon0 = png.longitude\n",
    "#lat0 = png.latitude\n",
    "lon0 = 153.45\n",
    "lat0 = -4.509\n",
    "#\n",
    "Lr_factor = 10.\n",
    "#\n",
    "#t0 = dtm.datetime(2016, 12, 6, 22, 3, 32, tzinfo=pytz.timezone('UTC'))\n",
    "t0 = dtm.datetime(2017, 1, 22, 4,30,23, tzinfo=pytz.timezone('UTC'))\n",
    "t_ms = t0\n",
    "to_dt = dtm.datetime.now(pytz.utc)\n",
    "#\n",
    "m0 = 7.8\n",
    "d_lat=5.\n",
    "d_lon=5.\n",
    "lats = [lat0-d_lat, lat0+d_lat]\n",
    "lons = [lon0-d_lon, lon0+d_lon]\n",
    "\n",
    "#to_dt = t0-dtm.timedelta(hours=2)\n",
    "#to_dt = dtm.datetime.now(pytz.utc)\n",
    "#"
   ]
  },
  {
   "cell_type": "code",
   "execution_count": 7,
   "metadata": {
    "collapsed": false
   },
   "outputs": [],
   "source": [
    "#anss_cat = atp.catfromANSS(lat=[28.6-2., 38.6+2.], lon=[-122., -118.], minMag=1.0)\n",
    "#print(\"len(cat): \", len(anss_cat))"
   ]
  },
  {
   "cell_type": "code",
   "execution_count": 8,
   "metadata": {
    "collapsed": false
   },
   "outputs": [
    {
     "name": "stdout",
     "output_type": "stream",
     "text": [
      "active prams:  {'mc': 1.5, 'ab_ratio_expon': 0.25, 'b1': 1.0, 'dmstar': 1.0, 'lats': [-9.509, 0.49099999999999966], 'do_recarray': True, 'd_lat': 0.1, 'd_tau': 2.28, 'lons': [148.45, 158.45], 'D_fract': 1.5, 't_0': datetime.datetime(1990, 1, 1, 0, 0, tzinfo=<UTC>), 'd_lon': 0.1, 't_now': datetime.datetime(2017, 1, 23, 6, 14, 31, 335270, tzinfo=<UTC>), 'fit_factor': 1.0, 'etas_range_factor': 30.0, 'b2': 1.5, 'd_lambda': 1.76, 'incat': None, 'etas_range_padding': 1.5, 'q': 1.5, 'p': 1.1}\n"
     ]
    }
   ],
   "source": [
    "#etas = ggep.auto_etas(to_dt=to_dt, Lr_factor=Lr_factor, dt_0=5)\n",
    "\n",
    "eq_prams = {'do_recarray': True, 'D_fract': 1.5,\n",
    "               't_0':dtm.datetime(1990, 1, 1, 0, 0, tzinfo=pytz.timezone('UTC')),\n",
    "               't_now':to_dt, \n",
    "               'd_lat': .1, 'd_lon':.1, 'mc': 2.5,'etas_range_factor':30.0, 'etas_range_padding':1.5,  \n",
    "               'lats': lats, 'p': 1.1, 'b1': 1.0, 'q': 1.5,\n",
    "               'lons': lons, 'dmstar': 1.0, 'b2': 1.5, 'd_tau': 2.28,\n",
    "               'incat': None, 'fit_factor': 1.0, 'd_lambda': 1.76, \n",
    "               'ab_ratio_expon':.25 }\n",
    "eq_prams.update({'d_lat': .1, 'd_lon':.1, 'mc': 1.5,'etas_range_factor':30.0, 'etas_range_padding':1.5 })\n",
    "\n",
    "print('active prams: ', eq_prams)\n",
    "# prototype of GlobalNet NZ catalog:\n",
    "#nz_cat0 = test_cat = atp.cat_from_geonet(lats=lats, lons=lons, m_c=2.5, date_from=dtm.datetime(2000,1,1,tzinfo=atp.tzutc),\n",
    "#                              date_to=dtm.datetime.now(atp.tzutc))\n",
    "#nz_cat = gep.make_ETAS_catalog_mpp(incat=nz_cat0)\n"
   ]
  },
  {
   "cell_type": "markdown",
   "metadata": {},
   "source": [
    "#### Make a composite catalog\n",
    "- Combine the ANSS catalog with the USGS  one-week, most recent events catalog.\n",
    "- (this could use some testing and refinement probably)."
   ]
  },
  {
   "cell_type": "code",
   "execution_count": 9,
   "metadata": {
    "collapsed": false
   },
   "outputs": [
    {
     "name": "stdout",
     "output_type": "stream",
     "text": [
      "url_str: http://earthquake.usgs.gov/earthquakes/feed/v1.0/summary/2.5_week.csv\n",
      "data handle fetched...\n",
      " no file.\n"
     ]
    },
    {
     "ename": "TypeError",
     "evalue": "invalid type promotion",
     "output_type": "error",
     "traceback": [
      "\u001b[1;31m---------------------------------------------------------------------------\u001b[0m",
      "\u001b[1;31mTypeError\u001b[0m                                 Traceback (most recent call last)",
      "\u001b[1;32m<ipython-input-9-a360d19d1416>\u001b[0m in \u001b[0;36m<module>\u001b[1;34m()\u001b[0m\n\u001b[0;32m      6\u001b[0m                            minMag=eq_prams['mc'])\n\u001b[0;32m      7\u001b[0m \u001b[1;31m#\u001b[0m\u001b[1;33m\u001b[0m\u001b[1;33m\u001b[0m\u001b[0m\n\u001b[1;32m----> 8\u001b[1;33m \u001b[0mnew_cat\u001b[0m \u001b[1;33m=\u001b[0m \u001b[0mnumpy\u001b[0m\u001b[1;33m.\u001b[0m\u001b[0mappend\u001b[0m\u001b[1;33m(\u001b[0m\u001b[0mcat_usgs\u001b[0m\u001b[1;33m,\u001b[0m \u001b[0mcat_anss\u001b[0m\u001b[1;33m)\u001b[0m\u001b[1;33m\u001b[0m\u001b[0m\n\u001b[0m\u001b[0;32m      9\u001b[0m \u001b[0mnew_cat\u001b[0m\u001b[1;33m.\u001b[0m\u001b[0msort\u001b[0m\u001b[1;33m(\u001b[0m\u001b[0morder\u001b[0m\u001b[1;33m=\u001b[0m\u001b[1;34m'event_date'\u001b[0m\u001b[1;33m)\u001b[0m\u001b[1;33m\u001b[0m\u001b[0m\n\u001b[0;32m     10\u001b[0m \u001b[1;31m#new_cat.sort(key=lambda rw: rw[0])\u001b[0m\u001b[1;33m\u001b[0m\u001b[1;33m\u001b[0m\u001b[0m\n",
      "\u001b[1;32m/home/myoder/anaconda3/lib/python3.5/site-packages/numpy/lib/function_base.py\u001b[0m in \u001b[0;36mappend\u001b[1;34m(arr, values, axis)\u001b[0m\n\u001b[0;32m   4148\u001b[0m         \u001b[0mvalues\u001b[0m \u001b[1;33m=\u001b[0m \u001b[0mravel\u001b[0m\u001b[1;33m(\u001b[0m\u001b[0mvalues\u001b[0m\u001b[1;33m)\u001b[0m\u001b[1;33m\u001b[0m\u001b[0m\n\u001b[0;32m   4149\u001b[0m         \u001b[0maxis\u001b[0m \u001b[1;33m=\u001b[0m \u001b[0marr\u001b[0m\u001b[1;33m.\u001b[0m\u001b[0mndim\u001b[0m\u001b[1;33m-\u001b[0m\u001b[1;36m1\u001b[0m\u001b[1;33m\u001b[0m\u001b[0m\n\u001b[1;32m-> 4150\u001b[1;33m     \u001b[1;32mreturn\u001b[0m \u001b[0mconcatenate\u001b[0m\u001b[1;33m(\u001b[0m\u001b[1;33m(\u001b[0m\u001b[0marr\u001b[0m\u001b[1;33m,\u001b[0m \u001b[0mvalues\u001b[0m\u001b[1;33m)\u001b[0m\u001b[1;33m,\u001b[0m \u001b[0maxis\u001b[0m\u001b[1;33m=\u001b[0m\u001b[0maxis\u001b[0m\u001b[1;33m)\u001b[0m\u001b[1;33m\u001b[0m\u001b[0m\n\u001b[0m",
      "\u001b[1;31mTypeError\u001b[0m: invalid type promotion"
     ]
    }
   ],
   "source": [
    "cat_usgs_0 = atp.cat_from_usgs(duration='week', mc=2.5, rec_array=True)\n",
    "cat_usgs = [rw for rw in cat_usgs_0 if rw['lon']>lons[0] and rw['lon']<lons[1] and rw['lat']>lats[0] and rw['lat']<lats[1]\n",
    "            and rw['mag']>eq_prams['mc']]\n",
    "cat_anss = atp.catfromANSS(lon=eq_prams['lons'], lat=eq_prams['lats'], \n",
    "                           dates0=[to_dt-dtm.timedelta(days=365*5), dtm.datetime.now(pytz.utc)-dtm.timedelta(days=7)],\n",
    "                           minMag=eq_prams['mc'])\n",
    "#\n",
    "new_cat = numpy.append(cat_usgs, cat_anss)\n",
    "new_cat.sort(order='event_date')\n",
    "#new_cat.sort(key=lambda rw: rw[0])\n",
    "#new_cat = numpy.rec.array(new_cat, dtype=cat_anss.dtype)\n",
    "\n",
    "print('descr: ', new_cat.dtype.descr)\n",
    "#print('cescr2: ', cat_anss.dtype.descr)\n",
    "#\n",
    "etas_catalog = globalETAS.make_ETAS_catalog(incat=new_cat, lats=eq_prams['lats'], lons=eq_prams['lons'],\n",
    "                                            mc=eq_prams['mc'], date_range=[to_dt-dtm.timedelta(days=365*5),\n",
    "                                                                           dtm.datetime.now(pytz.utc)])"
   ]
  },
  {
   "cell_type": "code",
   "execution_count": null,
   "metadata": {
    "collapsed": false
   },
   "outputs": [],
   "source": [
    "print(type(cat_usgs))\n",
    "print(len(etas_catalog), len(cat_usgs), len(cat_anss))"
   ]
  },
  {
   "cell_type": "code",
   "execution_count": null,
   "metadata": {
    "collapsed": false,
    "scrolled": false
   },
   "outputs": [],
   "source": [
    "#etas = gep.ETAS_mpp(n_cpu=2*mpp.cpu_count(), catalog=nz_cat, **eq_prams)\n",
    "#etas = gep.ETAS_mpp(n_cpu=2*mpp.cpu_count(), catalog=None, **eq_prams)\n",
    "etas = gep.ETAS_mpp(n_cpu=2*mpp.cpu_count(), catalog=etas_catalog, **eq_prams)\n",
    "#\n",
    "# we've run this; we can reload it from pickle:\n",
    "#with open('data/etas_201610.pkl', 'rb') as fin:\n",
    "#    etas = pickle.load(fin)\n",
    "#"
   ]
  },
  {
   "cell_type": "code",
   "execution_count": null,
   "metadata": {
    "collapsed": false,
    "scrolled": true
   },
   "outputs": [],
   "source": [
    "#\n",
    "f_path = '/home/myoder/Dropbox/Research/etas/{}/etas_{}'.format(event_name, etas.t_now)\n",
    "f_root = 'etas_{}'.format(event_name)\n",
    "\n",
    "#print(etas.t0, etas.t_now, etas.t_forecast, etas.catalog[-1])\n",
    "print(to_dt)\n",
    "print(etas.t_0, mpd.num2date(etas.t_forecast), etas.t_now, t_ms)\n",
    "#print(etas.catalog[-5:])"
   ]
  },
  {
   "cell_type": "code",
   "execution_count": null,
   "metadata": {
    "collapsed": true
   },
   "outputs": [],
   "source": []
  },
  {
   "cell_type": "code",
   "execution_count": null,
   "metadata": {
    "collapsed": false
   },
   "outputs": [],
   "source": [
    "## TODO: do we need this? we run this figure again below...\n",
    "# ... not really, but we do a bunch of variable definitions here, so...\n",
    "#\n",
    "fg=plt.figure(0, figsize=(12,10))\n",
    "ax=plt.gca()\n",
    "etas.make_etas_contour_map(n_contours=25, fignum=0, map_resolution='f', alpha=.3, ax=ax)\n",
    "#\n",
    "#mainshock = sorted(etas.catalog, key=lambda rw: rw['mag'])[-1]\n",
    "#print('mainshock: ', mainshock)\n",
    "# get mainshock. it's an m>6 event in the last week or so... this is subjective.\n",
    "# if we just look for the biggest event, we get the L'Aquila event, so we'll need to be more creative...\n",
    "# or just specify it.\n",
    "\n",
    "mainshock = etas.catalog[-1]\n",
    "for j,eq in enumerate(reversed(etas.catalog)):\n",
    "    #print('*** ', pytz.utc.localize(eq['event_date'].astype(dtm.datetime)))\n",
    "    if pytz.utc.localize(eq['event_date'].astype(dtm.datetime))<etas.t_now-dtm.timedelta(days=180): break\n",
    "    if eq['mag']>mainshock['mag']:\n",
    "        mainshock = eq\n",
    "        #\n",
    "    #\n",
    "#\n",
    "print('ms: ', mainshock, mainshock['lon'], mainshock['lat'])\n",
    "x,y = etas.cm(mainshock['lon'], mainshock['lat'])\n",
    "#\n",
    "#print('mm: ', max(etas.catalog['mag']))\n",
    "#\n",
    "# let's get everything m>6 in the last 6 months?\n",
    "m6s = [rw for rw in etas.catalog if rw['mag'] >= 6.0\n",
    "       and pytz.utc.localize(rw['event_date'].astype(dtm.datetime))>t_ms-dtm.timedelta(days=180)]\n",
    "\n",
    "# plot mainshock:\n",
    "dt = mainshock['event_date'].astype(dtm.datetime)\n",
    "dt=t0\n",
    "dt_str = '{}-{}-{} {}:{}:{}'.format(dt.year, dt.month, dt.day, dt.hour, dt.minute, dt.second)\n",
    "#etas.cm.plot([x], [y], latlon=False, marker='*', color='r', ms=16, zorder=11,\n",
    "#                   label='m={}, {}'.format(mainshock['mag'], dt_str))\n",
    "#etas.cm.plot([lon0], [lat0], latlon=False, marker='*', color='r', ms=16, zorder=11,\n",
    "#                   label='m={}, *{}*'.format(m0, dt_str))\n",
    "#\n",
    "ax.set_title('ETAS: {},\\n{}\\n\\n'.format(event_name, etas.t_now), size=16)\n",
    "for j,m6 in enumerate(m6s):\n",
    "    clr = colors_[j%len(colors_)]\n",
    "    #\n",
    "    dt = m6['event_date'].astype(dtm.datetime)\n",
    "    dt_str = '{}-{}-{} {}:{}:{}'.format(dt.year, dt.month, dt.day, dt.hour, dt.minute, dt.second)\n",
    "    etas.cm.scatter(m6['lon'], m6['lat'], s=3*(m6['mag']+12.), edgecolors=clr, \n",
    "                          c='none', marker='o', zorder=11, label='m={}, {}'.format(m6['mag'], dt_str))\n",
    "    #\n",
    "#\n",
    "etas.cm.scatter(etas.catalog['lon'], etas.catalog['lat'], s=2., edgecolors='b', c='b', marker='.', zorder=6, alpha=.15)\n",
    "plt.gca().legend(loc='upper right')"
   ]
  },
  {
   "cell_type": "code",
   "execution_count": null,
   "metadata": {
    "collapsed": false,
    "scrolled": false
   },
   "outputs": [],
   "source": [
    "plt.figure(figsize=(10,6))\n",
    "plt.clf()\n",
    "ax1 = plt.subplot('211')\n",
    "ax2 = plt.subplot('212', sharex=ax1)\n",
    "#ax1.plot(etas.catalog['event_date'], etas.catalog['mag'], marker='.', ls='-', label='mag')\n",
    "f_dates = [mpd.date2num(x.astype(dtm.datetime)) for x in etas.catalog['event_date']]\n",
    "ax1.vlines(f_dates, (min(etas.catalog['mag'])-.5)*numpy.ones(len(etas.catalog)), \n",
    "           etas.catalog['mag'], lw=2., label='mag', color='b')\n",
    "ax2.plot(f_dates[1:], numpy.diff(f_dates,1), '.-')\n",
    "\n",
    "ax2.set_ylabel('intervals $\\Delta t$')\n",
    "ax1.set_ylabel('magnitudes $m$')"
   ]
  },
  {
   "cell_type": "code",
   "execution_count": null,
   "metadata": {
    "collapsed": false,
    "scrolled": true
   },
   "outputs": [],
   "source": [
    "fg=plt.figure(0, figsize=(12,10))\n",
    "ax=plt.gca()\n",
    "etas.make_etas_contour_map(n_contours=25, fignum=0, map_resolution='f', alpha=.3, ax=ax)\n",
    "\n",
    "#\n",
    "# let's get everything m>6 in the last 6 months?\n",
    "m6s = [rw for rw in etas.catalog if rw['mag'] >= 6.0\n",
    "       and pytz.utc.localize(rw['event_date'].astype(dtm.datetime))>to_dt-dtm.timedelta(days=120)]\n",
    "#\n",
    "# plot mainshock:\n",
    "dt = mainshock['event_date'].astype(dtm.datetime)\n",
    "etas.cm.plot([x], [y], latlon=False, marker='*', color='r', ms=16, zorder=11,\n",
    "                   label='m={}, {}'.format(mainshock['mag'], dt_str))\n",
    "ax.set_title('ETAS: {}, {}\\n\\n'.format(event_name, etas.t_now), size=16)\n",
    "for j,m6 in enumerate(m6s):\n",
    "    clr = colors_[j%len(colors_)]\n",
    "    #\n",
    "    dt = m6['event_date'].astype(dtm.datetime)\n",
    "    dt_str = '{}-{}-{} {}:{}:{}'.format(dt.year, dt.month, dt.day, dt.hour, dt.minute, dt.second)\n",
    "    etas.cm.scatter(m6['lon'], m6['lat'], s=3*(m6['mag']+12.), edgecolors=clr, \n",
    "                          c='none', marker='o', zorder=11, label='m={}, {}'.format(m6['mag'], dt_str))\n",
    "    #\n",
    "\n",
    "#\n",
    "etas.cm.scatter(etas.catalog['lon'], etas.catalog['lat'], s=2., edgecolors='b', c='b', marker='.', zorder=6, alpha=.2)\n",
    "plt.gca().legend(loc='upper right')"
   ]
  },
  {
   "cell_type": "code",
   "execution_count": null,
   "metadata": {
    "collapsed": false
   },
   "outputs": [],
   "source": [
    "for rw in m6s:\n",
    "    print(rw)"
   ]
  },
  {
   "cell_type": "code",
   "execution_count": null,
   "metadata": {
    "collapsed": false,
    "scrolled": true
   },
   "outputs": [],
   "source": [
    "## hey, pickling works with the new ETAS objects (or at least it appears to...):\n",
    "# with open('data/etas_201610.pkl', 'wb') as fpkl:\n",
    "#     pickle.dump( etas, fpkl)    \n",
    "#\n",
    "#with open('data/etas_201610.pkl', 'rb') as fin:\n",
    "#    etas2 = pickle.load(fin)\n",
    "#\n",
    "#print(etas2.catalog[0:5])\n",
    "# TODO: we want the datetime part of the filename to come from the etas object itself, for purposes of\n",
    "# integrity. BUT, we want this script to be a bit more portable, so we should replace all the etas\n",
    "# references/object name to just 'etas'\n",
    "#\n",
    "etas.export_kml(os.path.join(f_path, '{}_{}.kml'.format(f_root, str(etas.t_now).replace(' ', '_'))), \n",
    "                kml_contours_bottom=.25, kml_contours_top=1.0)\n",
    "etas.export_xyz(os.path.join(f_path, '{}_{}.xyz'.format(f_root, str(etas.t_now).replace(' ', '_'))))\n",
    "fg.savefig(os.path.join(f_path, '{}_{}.png'.format(f_root, str(etas.t_now).replace(' ', '_'))))\n",
    "\n",
    "with open (os.path.join(f_path, '{}_{}.pkl'.format(f_root, str(etas.t_now).replace(' ', '_'))), 'wb') as fpkl:\n",
    "    pickle.dump(etas, fpkl)\n"
   ]
  },
  {
   "cell_type": "code",
   "execution_count": null,
   "metadata": {
    "collapsed": false
   },
   "outputs": [],
   "source": [
    "plt.figure(figsize=(8,5))\n",
    "plt.clf()\n",
    "ax1=plt.subplot('121')\n",
    "ax2=plt.subplot('122')\n",
    "ax1.plot(etas.catalog['lon'], etas.catalog['lat'], ',')\n",
    "ax1.plot([mainshock['lon']], [mainshock['lat']], marker='*', color='r', ms=16, zorder=11)\n",
    "#\n",
    "ax2.plot([m for m in reversed(sorted(etas.catalog['mag']))], numpy.arange(1,len(etas.catalog)+1),\n",
    "         '.-', lw=2.)\n",
    "ax2.set_yscale('log')"
   ]
  },
  {
   "cell_type": "code",
   "execution_count": null,
   "metadata": {
    "collapsed": false
   },
   "outputs": [],
   "source": [
    "#print(etas.mc, etas.mc_etas)"
   ]
  },
  {
   "cell_type": "code",
   "execution_count": null,
   "metadata": {
    "collapsed": true
   },
   "outputs": [],
   "source": []
  },
  {
   "cell_type": "code",
   "execution_count": null,
   "metadata": {
    "collapsed": false
   },
   "outputs": [],
   "source": [
    "# plot a cross-section of ETAS. let's get smart about this and do a PCA on the xyz field...\n",
    "#\n",
    "#plt.figure()\n",
    "##my_xy = [[x,y,z] for x,y in zip(etas.catalog['lon'], etas['lat']) if x>=42.25 and x<=42.75]\n",
    "#my_xyz = [[x,y,z] for x,y,z in etas.ETAS_array if y>=42.25 and y<=42.75]\n",
    "#plt.figure(figsize=(8,6))\n",
    "#plt.plot([x for x,y,z in my_xyz ], [z for x,y,z in my_xyz], '.')"
   ]
  },
  {
   "cell_type": "code",
   "execution_count": null,
   "metadata": {
    "collapsed": false
   },
   "outputs": [],
   "source": [
    "mycat = atp.catfromANSS(lon=lons, lat=lats, minMag=2.5,\n",
    "                        dates0=[dtm.datetime(2005,1,1, tzinfo=tzutc), None], Nmax=None, fout=None, rec_array=True)\n"
   ]
  },
  {
   "cell_type": "code",
   "execution_count": null,
   "metadata": {
    "collapsed": false
   },
   "outputs": [],
   "source": [
    "test_cat = atp.catfromANSS(lat=lats, lon=lons, minMag=1.5,\n",
    "                           dates0=[dtm.datetime(1990,1,1, tzinfo=pytz.utc), dtm.datetime.now(pytz.utc)])\n",
    "\n",
    "\n",
    "plt.figure()\n",
    "plt.clf()\n",
    "#plt.plot(test_cat['lon'], test_cat['lat'], '.')\n",
    "print(test_cat[-5:])\n",
    "print(max(test_cat['event_date']))\n",
    "\n",
    "plt.figure(figsize=(8,5))\n",
    "plt.clf()\n",
    "ax1=plt.subplot('121')\n",
    "ax2=plt.subplot('122')\n",
    "ax1.plot(test_cat['lon'], test_cat['lat'], ',')\n",
    "ax1.plot([mainshock['lon']], [mainshock['lat']], marker='*', color='r', ms=16, zorder=11)\n",
    "#\n",
    "ax2.plot([m for m in reversed(sorted(test_cat['mag']))], numpy.arange(1,len(test_cat)+1),\n",
    "         '.-', lw=2.)\n",
    "ax2.set_yscale('log')"
   ]
  },
  {
   "cell_type": "code",
   "execution_count": null,
   "metadata": {
    "collapsed": true
   },
   "outputs": [],
   "source": []
  }
 ],
 "metadata": {
  "anaconda-cloud": {},
  "kernelspec": {
   "display_name": "Python 3",
   "language": "python",
   "name": "python3"
  },
  "language_info": {
   "codemirror_mode": {
    "name": "ipython",
    "version": 3
   },
   "file_extension": ".py",
   "mimetype": "text/x-python",
   "name": "python",
   "nbconvert_exporter": "python",
   "pygments_lexer": "ipython3",
   "version": "3.5.1"
  }
 },
 "nbformat": 4,
 "nbformat_minor": 0
}
